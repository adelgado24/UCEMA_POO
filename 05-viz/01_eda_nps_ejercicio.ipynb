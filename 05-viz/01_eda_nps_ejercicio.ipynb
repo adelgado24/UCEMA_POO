{
 "cells": [
  {
   "cell_type": "markdown",
   "source": [
    "https://drive.google.com/file/d/1qXY__4wYfjLcLTKWYWlVYHOXFgY8L-qP/view?usp=sharing"
   ],
   "metadata": {
    "collapsed": false,
    "pycharm": {
     "name": "#%% md\n"
    }
   }
  },
  {
   "cell_type": "code",
   "execution_count": 2,
   "metadata": {
    "pycharm": {
     "name": "#%%\n"
    }
   },
   "outputs": [],
   "source": [
    "#Importamos librerias\n",
    "import pandas as pd\n",
    "import matplotlib.pyplot as plt\n",
    "import seaborn as sns\n",
    "import numpy as np\n",
    "import squarify"
   ]
  },
  {
   "cell_type": "code",
   "execution_count": 3,
   "metadata": {
    "pycharm": {
     "name": "#%%\n"
    }
   },
   "outputs": [],
   "source": [
    "#Cargamos el dataframe y nos interiorizamos de sus campos\n",
    "#Que no haya una columna que se llame 'Unnamed: 0'\n",
    "df = pd.read_csv('data_nps.csv')"
   ]
  },
  {
   "cell_type": "code",
   "execution_count": 4,
   "metadata": {
    "pycharm": {
     "name": "#%%\n"
    }
   },
   "outputs": [
    {
     "data": {
      "text/plain": "   Unnamed: 0            CREATION_DATE            RESPONSE_DATE  \\\n0           0  2021-06-11 10:30:03 UTC  2021-06-12 10:43:18 UTC   \n1           1  2021-06-10 10:30:03 UTC  2021-06-12 17:38:35 UTC   \n2           2  2021-06-07 10:30:03 UTC  2021-06-12 16:52:27 UTC   \n3           3  2021-06-10 10:30:03 UTC  2021-06-13 19:29:41 UTC   \n4           4  2021-05-31 10:30:03 UTC  2021-06-06 22:26:27 UTC   \n\n   CURRENT_STATUS GENDER             DAY_OF_BIRTH    CIF_ID   AGE  \\\n0               2      M  1954-09-18 00:00:00 UTC   1402267  66.0   \n1               5      F  1994-10-06 00:00:00 UTC  23733377  26.0   \n2               5      M  1980-08-07 00:00:00 UTC  21113765  40.0   \n3               5      M  1959-09-12 00:00:00 UTC  19579674  61.0   \n4               1      M  1952-04-19 00:00:00 UTC  13972088  69.0   \n\n                       LOCATION        TOUCHPOINT_NUMBER  CASE_NUMBER  \\\n0    DOMINGO FAUSTINO SARMIENTO                  Service      5671770   \n1                       CORDOBA                  Service      5662123   \n2                      DIAMANTE                  Service      5625253   \n3  CIUDAD AUTONOMA BUENOS AIRES  Query/Servicing request      5663499   \n4                       TRANCAS                   Claims      5582911   \n\n                 CASE_DATE CASE_CHANNEL              PRODUCT_NAME  NPS_SCORE  \\\n0  2021-06-09 00:00:00 UTC        EUROP  Automotores Individuales          0   \n1  2021-06-08 00:00:00 UTC     AUXICAJA  Automotores Individuales          9   \n2  2021-06-03 00:00:00 UTC     AUXICAJA  Automotores Individuales         10   \n3  2021-06-09 00:00:00 UTC     SUCURSAL  Automotores Individuales         10   \n4  2021-05-21 00:00:00 UTC  CALL CENTER  Automotores Individuales          0   \n\n                                                TAGS  \n0   mot Grua  mot Servicio  mot Accesibilidad  mo...  \n1   mot Servicio  mot Precio  atr Eficacia  mot A...  \n2                                                NaN  \n3                             mot Grua  atr Eficacia  \n4                        mot Siniestro  atr Eficacia  ",
      "text/html": "<div>\n<style scoped>\n    .dataframe tbody tr th:only-of-type {\n        vertical-align: middle;\n    }\n\n    .dataframe tbody tr th {\n        vertical-align: top;\n    }\n\n    .dataframe thead th {\n        text-align: right;\n    }\n</style>\n<table border=\"1\" class=\"dataframe\">\n  <thead>\n    <tr style=\"text-align: right;\">\n      <th></th>\n      <th>Unnamed: 0</th>\n      <th>CREATION_DATE</th>\n      <th>RESPONSE_DATE</th>\n      <th>CURRENT_STATUS</th>\n      <th>GENDER</th>\n      <th>DAY_OF_BIRTH</th>\n      <th>CIF_ID</th>\n      <th>AGE</th>\n      <th>LOCATION</th>\n      <th>TOUCHPOINT_NUMBER</th>\n      <th>CASE_NUMBER</th>\n      <th>CASE_DATE</th>\n      <th>CASE_CHANNEL</th>\n      <th>PRODUCT_NAME</th>\n      <th>NPS_SCORE</th>\n      <th>TAGS</th>\n    </tr>\n  </thead>\n  <tbody>\n    <tr>\n      <th>0</th>\n      <td>0</td>\n      <td>2021-06-11 10:30:03 UTC</td>\n      <td>2021-06-12 10:43:18 UTC</td>\n      <td>2</td>\n      <td>M</td>\n      <td>1954-09-18 00:00:00 UTC</td>\n      <td>1402267</td>\n      <td>66.0</td>\n      <td>DOMINGO FAUSTINO SARMIENTO</td>\n      <td>Service</td>\n      <td>5671770</td>\n      <td>2021-06-09 00:00:00 UTC</td>\n      <td>EUROP</td>\n      <td>Automotores Individuales</td>\n      <td>0</td>\n      <td>mot Grua  mot Servicio  mot Accesibilidad  mo...</td>\n    </tr>\n    <tr>\n      <th>1</th>\n      <td>1</td>\n      <td>2021-06-10 10:30:03 UTC</td>\n      <td>2021-06-12 17:38:35 UTC</td>\n      <td>5</td>\n      <td>F</td>\n      <td>1994-10-06 00:00:00 UTC</td>\n      <td>23733377</td>\n      <td>26.0</td>\n      <td>CORDOBA</td>\n      <td>Service</td>\n      <td>5662123</td>\n      <td>2021-06-08 00:00:00 UTC</td>\n      <td>AUXICAJA</td>\n      <td>Automotores Individuales</td>\n      <td>9</td>\n      <td>mot Servicio  mot Precio  atr Eficacia  mot A...</td>\n    </tr>\n    <tr>\n      <th>2</th>\n      <td>2</td>\n      <td>2021-06-07 10:30:03 UTC</td>\n      <td>2021-06-12 16:52:27 UTC</td>\n      <td>5</td>\n      <td>M</td>\n      <td>1980-08-07 00:00:00 UTC</td>\n      <td>21113765</td>\n      <td>40.0</td>\n      <td>DIAMANTE</td>\n      <td>Service</td>\n      <td>5625253</td>\n      <td>2021-06-03 00:00:00 UTC</td>\n      <td>AUXICAJA</td>\n      <td>Automotores Individuales</td>\n      <td>10</td>\n      <td>NaN</td>\n    </tr>\n    <tr>\n      <th>3</th>\n      <td>3</td>\n      <td>2021-06-10 10:30:03 UTC</td>\n      <td>2021-06-13 19:29:41 UTC</td>\n      <td>5</td>\n      <td>M</td>\n      <td>1959-09-12 00:00:00 UTC</td>\n      <td>19579674</td>\n      <td>61.0</td>\n      <td>CIUDAD AUTONOMA BUENOS AIRES</td>\n      <td>Query/Servicing request</td>\n      <td>5663499</td>\n      <td>2021-06-09 00:00:00 UTC</td>\n      <td>SUCURSAL</td>\n      <td>Automotores Individuales</td>\n      <td>10</td>\n      <td>mot Grua  atr Eficacia</td>\n    </tr>\n    <tr>\n      <th>4</th>\n      <td>4</td>\n      <td>2021-05-31 10:30:03 UTC</td>\n      <td>2021-06-06 22:26:27 UTC</td>\n      <td>1</td>\n      <td>M</td>\n      <td>1952-04-19 00:00:00 UTC</td>\n      <td>13972088</td>\n      <td>69.0</td>\n      <td>TRANCAS</td>\n      <td>Claims</td>\n      <td>5582911</td>\n      <td>2021-05-21 00:00:00 UTC</td>\n      <td>CALL CENTER</td>\n      <td>Automotores Individuales</td>\n      <td>0</td>\n      <td>mot Siniestro  atr Eficacia</td>\n    </tr>\n  </tbody>\n</table>\n</div>"
     },
     "execution_count": 4,
     "metadata": {},
     "output_type": "execute_result"
    }
   ],
   "source": [
    "#imprimir lo de abajo\n",
    "df.head()"
   ]
  },
  {
   "cell_type": "code",
   "execution_count": 5,
   "metadata": {
    "pycharm": {
     "name": "#%%\n"
    }
   },
   "outputs": [
    {
     "data": {
      "text/plain": "Index(['Unnamed: 0', 'CREATION_DATE', 'RESPONSE_DATE', 'CURRENT_STATUS',\n       'GENDER', 'DAY_OF_BIRTH', 'CIF_ID', 'AGE', 'LOCATION',\n       'TOUCHPOINT_NUMBER', 'CASE_NUMBER', 'CASE_DATE', 'CASE_CHANNEL',\n       'PRODUCT_NAME', 'NPS_SCORE', 'TAGS'],\n      dtype='object')"
     },
     "execution_count": 5,
     "metadata": {},
     "output_type": "execute_result"
    }
   ],
   "source": [
    "#mostrar nombres de columna\n",
    "df.columns"
   ]
  },
  {
   "cell_type": "markdown",
   "metadata": {
    "pycharm": {
     "name": "#%% md\n"
    }
   },
   "source": [
    "Hacer una función que determine si es promotor, detractor y neutro e implementarla a una columna del dataset que se llama nps_segment\n",
    "* Promotor: NPS_SCORE = 8,9,10\n",
    "* Neutro: NPS_SCORE = 6,7\n",
    "* Detractor: NPS_SCORE = 1,2,3,4,5"
   ]
  },
  {
   "cell_type": "code",
   "execution_count": 6,
   "metadata": {
    "pycharm": {
     "name": "#%%\n"
    }
   },
   "outputs": [],
   "source": [
    "def nps_segment(x):\n",
    "    \"\"\"funcion que discrimina por puntaje\"\"\"\n",
    "    if x >= 8:\n",
    "        return 'promotor'\n",
    "    elif x == 6 or x == 7:\n",
    "        return 'neutral'\n",
    "    else:\n",
    "        return 'detractor'\n",
    "\n",
    "df[\"nps_segment\"] = df[\"NPS_SCORE\"].apply(nps_segment)\n"
   ]
  },
  {
   "cell_type": "code",
   "execution_count": 7,
   "outputs": [
    {
     "data": {
      "text/plain": "       Unnamed: 0            CREATION_DATE            RESPONSE_DATE  \\\n0               0  2021-06-11 10:30:03 UTC  2021-06-12 10:43:18 UTC   \n1               1  2021-06-10 10:30:03 UTC  2021-06-12 17:38:35 UTC   \n2               2  2021-06-07 10:30:03 UTC  2021-06-12 16:52:27 UTC   \n3               3  2021-06-10 10:30:03 UTC  2021-06-13 19:29:41 UTC   \n4               4  2021-05-31 10:30:03 UTC  2021-06-06 22:26:27 UTC   \n...           ...                      ...                      ...   \n15995       15995  2021-05-10 10:30:03 UTC  2021-05-10 10:46:11 UTC   \n15996       15996  2021-05-10 10:30:03 UTC  2021-05-10 12:12:26 UTC   \n15997       15997  2021-05-10 10:30:03 UTC  2021-05-10 19:38:46 UTC   \n15998       15998  2021-05-10 10:30:03 UTC  2021-05-10 10:45:03 UTC   \n15999       15999  2021-05-10 10:39:05 UTC  2021-05-10 12:02:05 UTC   \n\n       CURRENT_STATUS GENDER             DAY_OF_BIRTH    CIF_ID   AGE  \\\n0                   2      M  1954-09-18 00:00:00 UTC   1402267  66.0   \n1                   5      F  1994-10-06 00:00:00 UTC  23733377  26.0   \n2                   5      M  1980-08-07 00:00:00 UTC  21113765  40.0   \n3                   5      M  1959-09-12 00:00:00 UTC  19579674  61.0   \n4                   1      M  1952-04-19 00:00:00 UTC  13972088  69.0   \n...               ...    ...                      ...       ...   ...   \n15995               5      M  1974-11-24 00:00:00 UTC  23609326  46.0   \n15996               0      M  1960-09-21 00:00:00 UTC  11254684  60.0   \n15997               0      M  1960-07-15 00:00:00 UTC  16971297  60.0   \n15998               2      M  1956-07-10 00:00:00 UTC   5768360  64.0   \n15999               0      F  1965-11-22 00:00:00 UTC   8703935  55.0   \n\n                           LOCATION        TOUCHPOINT_NUMBER  CASE_NUMBER  \\\n0        DOMINGO FAUSTINO SARMIENTO                  Service      5671770   \n1                           CORDOBA                  Service      5662123   \n2                          DIAMANTE                  Service      5625253   \n3      CIUDAD AUTONOMA BUENOS AIRES  Query/Servicing request      5663499   \n4                           TRANCAS                   Claims      5582911   \n...                             ...                      ...          ...   \n15995               ISIDRO CASANOVA    Documentation Request      5436373   \n15996  CIUDAD AUTONOMA BUENOS AIRES    Documentation Request      5434652   \n15997         SAN MIGUEL DE TUCUMAN    Documentation Request      5435120   \n15998                VILLA DOMINICO    Documentation Request      5434365   \n15999  CIUDAD AUTONOMA BUENOS AIRES  Query/Servicing request      5426739   \n\n                     CASE_DATE CASE_CHANNEL              PRODUCT_NAME  \\\n0      2021-06-09 00:00:00 UTC        EUROP  Automotores Individuales   \n1      2021-06-08 00:00:00 UTC     AUXICAJA  Automotores Individuales   \n2      2021-06-03 00:00:00 UTC     AUXICAJA  Automotores Individuales   \n3      2021-06-09 00:00:00 UTC     SUCURSAL  Automotores Individuales   \n4      2021-05-21 00:00:00 UTC  CALL CENTER  Automotores Individuales   \n...                        ...          ...                       ...   \n15995  2021-05-07 00:00:00 UTC          WEB  Automotores Individuales   \n15996  2021-05-07 00:00:00 UTC          WEB  Automotores Individuales   \n15997  2021-05-07 00:00:00 UTC          WEB  Automotores Individuales   \n15998  2021-05-07 00:00:00 UTC          WEB  Automotores Individuales   \n15999  2021-05-07 00:00:00 UTC     SUCURSAL  Automotores Individuales   \n\n       NPS_SCORE                                               TAGS  \\\n0              0   mot Grua  mot Servicio  mot Accesibilidad  mo...   \n1              9   mot Servicio  mot Precio  atr Eficacia  mot A...   \n2             10                                                NaN   \n3             10                             mot Grua  atr Eficacia   \n4              0                        mot Siniestro  atr Eficacia   \n...          ...                                                ...   \n15995          9                mot Siniestro  mot Cobertura poliza   \n15996          7   mot Siniestro  mot FacturacionPagos  mot Prec...   \n15997          7                                                NaN   \n15998          2   mot Siniestro  atr Conformidad  mot Facturaci...   \n15999          8                                       mot Servicio   \n\n      nps_segment  \n0       detractor  \n1        promotor  \n2        promotor  \n3        promotor  \n4       detractor  \n...           ...  \n15995    promotor  \n15996     neutral  \n15997     neutral  \n15998   detractor  \n15999    promotor  \n\n[16000 rows x 17 columns]",
      "text/html": "<div>\n<style scoped>\n    .dataframe tbody tr th:only-of-type {\n        vertical-align: middle;\n    }\n\n    .dataframe tbody tr th {\n        vertical-align: top;\n    }\n\n    .dataframe thead th {\n        text-align: right;\n    }\n</style>\n<table border=\"1\" class=\"dataframe\">\n  <thead>\n    <tr style=\"text-align: right;\">\n      <th></th>\n      <th>Unnamed: 0</th>\n      <th>CREATION_DATE</th>\n      <th>RESPONSE_DATE</th>\n      <th>CURRENT_STATUS</th>\n      <th>GENDER</th>\n      <th>DAY_OF_BIRTH</th>\n      <th>CIF_ID</th>\n      <th>AGE</th>\n      <th>LOCATION</th>\n      <th>TOUCHPOINT_NUMBER</th>\n      <th>CASE_NUMBER</th>\n      <th>CASE_DATE</th>\n      <th>CASE_CHANNEL</th>\n      <th>PRODUCT_NAME</th>\n      <th>NPS_SCORE</th>\n      <th>TAGS</th>\n      <th>nps_segment</th>\n    </tr>\n  </thead>\n  <tbody>\n    <tr>\n      <th>0</th>\n      <td>0</td>\n      <td>2021-06-11 10:30:03 UTC</td>\n      <td>2021-06-12 10:43:18 UTC</td>\n      <td>2</td>\n      <td>M</td>\n      <td>1954-09-18 00:00:00 UTC</td>\n      <td>1402267</td>\n      <td>66.0</td>\n      <td>DOMINGO FAUSTINO SARMIENTO</td>\n      <td>Service</td>\n      <td>5671770</td>\n      <td>2021-06-09 00:00:00 UTC</td>\n      <td>EUROP</td>\n      <td>Automotores Individuales</td>\n      <td>0</td>\n      <td>mot Grua  mot Servicio  mot Accesibilidad  mo...</td>\n      <td>detractor</td>\n    </tr>\n    <tr>\n      <th>1</th>\n      <td>1</td>\n      <td>2021-06-10 10:30:03 UTC</td>\n      <td>2021-06-12 17:38:35 UTC</td>\n      <td>5</td>\n      <td>F</td>\n      <td>1994-10-06 00:00:00 UTC</td>\n      <td>23733377</td>\n      <td>26.0</td>\n      <td>CORDOBA</td>\n      <td>Service</td>\n      <td>5662123</td>\n      <td>2021-06-08 00:00:00 UTC</td>\n      <td>AUXICAJA</td>\n      <td>Automotores Individuales</td>\n      <td>9</td>\n      <td>mot Servicio  mot Precio  atr Eficacia  mot A...</td>\n      <td>promotor</td>\n    </tr>\n    <tr>\n      <th>2</th>\n      <td>2</td>\n      <td>2021-06-07 10:30:03 UTC</td>\n      <td>2021-06-12 16:52:27 UTC</td>\n      <td>5</td>\n      <td>M</td>\n      <td>1980-08-07 00:00:00 UTC</td>\n      <td>21113765</td>\n      <td>40.0</td>\n      <td>DIAMANTE</td>\n      <td>Service</td>\n      <td>5625253</td>\n      <td>2021-06-03 00:00:00 UTC</td>\n      <td>AUXICAJA</td>\n      <td>Automotores Individuales</td>\n      <td>10</td>\n      <td>NaN</td>\n      <td>promotor</td>\n    </tr>\n    <tr>\n      <th>3</th>\n      <td>3</td>\n      <td>2021-06-10 10:30:03 UTC</td>\n      <td>2021-06-13 19:29:41 UTC</td>\n      <td>5</td>\n      <td>M</td>\n      <td>1959-09-12 00:00:00 UTC</td>\n      <td>19579674</td>\n      <td>61.0</td>\n      <td>CIUDAD AUTONOMA BUENOS AIRES</td>\n      <td>Query/Servicing request</td>\n      <td>5663499</td>\n      <td>2021-06-09 00:00:00 UTC</td>\n      <td>SUCURSAL</td>\n      <td>Automotores Individuales</td>\n      <td>10</td>\n      <td>mot Grua  atr Eficacia</td>\n      <td>promotor</td>\n    </tr>\n    <tr>\n      <th>4</th>\n      <td>4</td>\n      <td>2021-05-31 10:30:03 UTC</td>\n      <td>2021-06-06 22:26:27 UTC</td>\n      <td>1</td>\n      <td>M</td>\n      <td>1952-04-19 00:00:00 UTC</td>\n      <td>13972088</td>\n      <td>69.0</td>\n      <td>TRANCAS</td>\n      <td>Claims</td>\n      <td>5582911</td>\n      <td>2021-05-21 00:00:00 UTC</td>\n      <td>CALL CENTER</td>\n      <td>Automotores Individuales</td>\n      <td>0</td>\n      <td>mot Siniestro  atr Eficacia</td>\n      <td>detractor</td>\n    </tr>\n    <tr>\n      <th>...</th>\n      <td>...</td>\n      <td>...</td>\n      <td>...</td>\n      <td>...</td>\n      <td>...</td>\n      <td>...</td>\n      <td>...</td>\n      <td>...</td>\n      <td>...</td>\n      <td>...</td>\n      <td>...</td>\n      <td>...</td>\n      <td>...</td>\n      <td>...</td>\n      <td>...</td>\n      <td>...</td>\n      <td>...</td>\n    </tr>\n    <tr>\n      <th>15995</th>\n      <td>15995</td>\n      <td>2021-05-10 10:30:03 UTC</td>\n      <td>2021-05-10 10:46:11 UTC</td>\n      <td>5</td>\n      <td>M</td>\n      <td>1974-11-24 00:00:00 UTC</td>\n      <td>23609326</td>\n      <td>46.0</td>\n      <td>ISIDRO CASANOVA</td>\n      <td>Documentation Request</td>\n      <td>5436373</td>\n      <td>2021-05-07 00:00:00 UTC</td>\n      <td>WEB</td>\n      <td>Automotores Individuales</td>\n      <td>9</td>\n      <td>mot Siniestro  mot Cobertura poliza</td>\n      <td>promotor</td>\n    </tr>\n    <tr>\n      <th>15996</th>\n      <td>15996</td>\n      <td>2021-05-10 10:30:03 UTC</td>\n      <td>2021-05-10 12:12:26 UTC</td>\n      <td>0</td>\n      <td>M</td>\n      <td>1960-09-21 00:00:00 UTC</td>\n      <td>11254684</td>\n      <td>60.0</td>\n      <td>CIUDAD AUTONOMA BUENOS AIRES</td>\n      <td>Documentation Request</td>\n      <td>5434652</td>\n      <td>2021-05-07 00:00:00 UTC</td>\n      <td>WEB</td>\n      <td>Automotores Individuales</td>\n      <td>7</td>\n      <td>mot Siniestro  mot FacturacionPagos  mot Prec...</td>\n      <td>neutral</td>\n    </tr>\n    <tr>\n      <th>15997</th>\n      <td>15997</td>\n      <td>2021-05-10 10:30:03 UTC</td>\n      <td>2021-05-10 19:38:46 UTC</td>\n      <td>0</td>\n      <td>M</td>\n      <td>1960-07-15 00:00:00 UTC</td>\n      <td>16971297</td>\n      <td>60.0</td>\n      <td>SAN MIGUEL DE TUCUMAN</td>\n      <td>Documentation Request</td>\n      <td>5435120</td>\n      <td>2021-05-07 00:00:00 UTC</td>\n      <td>WEB</td>\n      <td>Automotores Individuales</td>\n      <td>7</td>\n      <td>NaN</td>\n      <td>neutral</td>\n    </tr>\n    <tr>\n      <th>15998</th>\n      <td>15998</td>\n      <td>2021-05-10 10:30:03 UTC</td>\n      <td>2021-05-10 10:45:03 UTC</td>\n      <td>2</td>\n      <td>M</td>\n      <td>1956-07-10 00:00:00 UTC</td>\n      <td>5768360</td>\n      <td>64.0</td>\n      <td>VILLA DOMINICO</td>\n      <td>Documentation Request</td>\n      <td>5434365</td>\n      <td>2021-05-07 00:00:00 UTC</td>\n      <td>WEB</td>\n      <td>Automotores Individuales</td>\n      <td>2</td>\n      <td>mot Siniestro  atr Conformidad  mot Facturaci...</td>\n      <td>detractor</td>\n    </tr>\n    <tr>\n      <th>15999</th>\n      <td>15999</td>\n      <td>2021-05-10 10:39:05 UTC</td>\n      <td>2021-05-10 12:02:05 UTC</td>\n      <td>0</td>\n      <td>F</td>\n      <td>1965-11-22 00:00:00 UTC</td>\n      <td>8703935</td>\n      <td>55.0</td>\n      <td>CIUDAD AUTONOMA BUENOS AIRES</td>\n      <td>Query/Servicing request</td>\n      <td>5426739</td>\n      <td>2021-05-07 00:00:00 UTC</td>\n      <td>SUCURSAL</td>\n      <td>Automotores Individuales</td>\n      <td>8</td>\n      <td>mot Servicio</td>\n      <td>promotor</td>\n    </tr>\n  </tbody>\n</table>\n<p>16000 rows × 17 columns</p>\n</div>"
     },
     "execution_count": 7,
     "metadata": {},
     "output_type": "execute_result"
    }
   ],
   "source": [
    "df"
   ],
   "metadata": {
    "collapsed": false,
    "pycharm": {
     "name": "#%%\n"
    }
   }
  },
  {
   "cell_type": "code",
   "execution_count": 8,
   "metadata": {
    "pycharm": {
     "name": "#%%\n"
    }
   },
   "outputs": [
    {
     "data": {
      "text/plain": "0        detractor\n1         promotor\n2         promotor\n3         promotor\n4        detractor\n           ...    \n15995     promotor\n15996      neutral\n15997      neutral\n15998    detractor\n15999     promotor\nName: nps_segment, Length: 16000, dtype: object"
     },
     "execution_count": 8,
     "metadata": {},
     "output_type": "execute_result"
    }
   ],
   "source": [
    "df[\"nps_segment\"]"
   ]
  },
  {
   "cell_type": "code",
   "execution_count": 9,
   "metadata": {
    "pycharm": {
     "name": "#%%\n"
    }
   },
   "outputs": [
    {
     "data": {
      "text/plain": "2184"
     },
     "execution_count": 9,
     "metadata": {},
     "output_type": "execute_result"
    }
   ],
   "source": [
    "#imprimir nans en la columna TAGS\n",
    "df['TAGS'].isnull().sum()"
   ]
  },
  {
   "cell_type": "markdown",
   "metadata": {
    "pycharm": {
     "name": "#%% md\n"
    }
   },
   "source": [
    "Con numpy.where crear una columna llamada detected, que determina si la columna TAGS tiene algun contenido. Poner True si lo tiene y si no tiene contenido poner False."
   ]
  },
  {
   "cell_type": "code",
   "execution_count": 10,
   "metadata": {
    "pycharm": {
     "name": "#%%\n"
    }
   },
   "outputs": [
    {
     "data": {
      "text/plain": "       Unnamed: 0            CREATION_DATE            RESPONSE_DATE  \\\n0               0  2021-06-11 10:30:03 UTC  2021-06-12 10:43:18 UTC   \n1               1  2021-06-10 10:30:03 UTC  2021-06-12 17:38:35 UTC   \n2               2  2021-06-07 10:30:03 UTC  2021-06-12 16:52:27 UTC   \n3               3  2021-06-10 10:30:03 UTC  2021-06-13 19:29:41 UTC   \n4               4  2021-05-31 10:30:03 UTC  2021-06-06 22:26:27 UTC   \n...           ...                      ...                      ...   \n15995       15995  2021-05-10 10:30:03 UTC  2021-05-10 10:46:11 UTC   \n15996       15996  2021-05-10 10:30:03 UTC  2021-05-10 12:12:26 UTC   \n15997       15997  2021-05-10 10:30:03 UTC  2021-05-10 19:38:46 UTC   \n15998       15998  2021-05-10 10:30:03 UTC  2021-05-10 10:45:03 UTC   \n15999       15999  2021-05-10 10:39:05 UTC  2021-05-10 12:02:05 UTC   \n\n       CURRENT_STATUS GENDER             DAY_OF_BIRTH    CIF_ID   AGE  \\\n0                   2      M  1954-09-18 00:00:00 UTC   1402267  66.0   \n1                   5      F  1994-10-06 00:00:00 UTC  23733377  26.0   \n2                   5      M  1980-08-07 00:00:00 UTC  21113765  40.0   \n3                   5      M  1959-09-12 00:00:00 UTC  19579674  61.0   \n4                   1      M  1952-04-19 00:00:00 UTC  13972088  69.0   \n...               ...    ...                      ...       ...   ...   \n15995               5      M  1974-11-24 00:00:00 UTC  23609326  46.0   \n15996               0      M  1960-09-21 00:00:00 UTC  11254684  60.0   \n15997               0      M  1960-07-15 00:00:00 UTC  16971297  60.0   \n15998               2      M  1956-07-10 00:00:00 UTC   5768360  64.0   \n15999               0      F  1965-11-22 00:00:00 UTC   8703935  55.0   \n\n                           LOCATION        TOUCHPOINT_NUMBER  CASE_NUMBER  \\\n0        DOMINGO FAUSTINO SARMIENTO                  Service      5671770   \n1                           CORDOBA                  Service      5662123   \n2                          DIAMANTE                  Service      5625253   \n3      CIUDAD AUTONOMA BUENOS AIRES  Query/Servicing request      5663499   \n4                           TRANCAS                   Claims      5582911   \n...                             ...                      ...          ...   \n15995               ISIDRO CASANOVA    Documentation Request      5436373   \n15996  CIUDAD AUTONOMA BUENOS AIRES    Documentation Request      5434652   \n15997         SAN MIGUEL DE TUCUMAN    Documentation Request      5435120   \n15998                VILLA DOMINICO    Documentation Request      5434365   \n15999  CIUDAD AUTONOMA BUENOS AIRES  Query/Servicing request      5426739   \n\n                     CASE_DATE CASE_CHANNEL              PRODUCT_NAME  \\\n0      2021-06-09 00:00:00 UTC        EUROP  Automotores Individuales   \n1      2021-06-08 00:00:00 UTC     AUXICAJA  Automotores Individuales   \n2      2021-06-03 00:00:00 UTC     AUXICAJA  Automotores Individuales   \n3      2021-06-09 00:00:00 UTC     SUCURSAL  Automotores Individuales   \n4      2021-05-21 00:00:00 UTC  CALL CENTER  Automotores Individuales   \n...                        ...          ...                       ...   \n15995  2021-05-07 00:00:00 UTC          WEB  Automotores Individuales   \n15996  2021-05-07 00:00:00 UTC          WEB  Automotores Individuales   \n15997  2021-05-07 00:00:00 UTC          WEB  Automotores Individuales   \n15998  2021-05-07 00:00:00 UTC          WEB  Automotores Individuales   \n15999  2021-05-07 00:00:00 UTC     SUCURSAL  Automotores Individuales   \n\n       NPS_SCORE                                               TAGS  \\\n0              0   mot Grua  mot Servicio  mot Accesibilidad  mo...   \n1              9   mot Servicio  mot Precio  atr Eficacia  mot A...   \n2             10                                                NaN   \n3             10                             mot Grua  atr Eficacia   \n4              0                        mot Siniestro  atr Eficacia   \n...          ...                                                ...   \n15995          9                mot Siniestro  mot Cobertura poliza   \n15996          7   mot Siniestro  mot FacturacionPagos  mot Prec...   \n15997          7                                                NaN   \n15998          2   mot Siniestro  atr Conformidad  mot Facturaci...   \n15999          8                                       mot Servicio   \n\n      nps_segment  detected  \n0       detractor      True  \n1        promotor      True  \n2        promotor     False  \n3        promotor      True  \n4       detractor      True  \n...           ...       ...  \n15995    promotor      True  \n15996     neutral      True  \n15997     neutral     False  \n15998   detractor      True  \n15999    promotor      True  \n\n[16000 rows x 18 columns]",
      "text/html": "<div>\n<style scoped>\n    .dataframe tbody tr th:only-of-type {\n        vertical-align: middle;\n    }\n\n    .dataframe tbody tr th {\n        vertical-align: top;\n    }\n\n    .dataframe thead th {\n        text-align: right;\n    }\n</style>\n<table border=\"1\" class=\"dataframe\">\n  <thead>\n    <tr style=\"text-align: right;\">\n      <th></th>\n      <th>Unnamed: 0</th>\n      <th>CREATION_DATE</th>\n      <th>RESPONSE_DATE</th>\n      <th>CURRENT_STATUS</th>\n      <th>GENDER</th>\n      <th>DAY_OF_BIRTH</th>\n      <th>CIF_ID</th>\n      <th>AGE</th>\n      <th>LOCATION</th>\n      <th>TOUCHPOINT_NUMBER</th>\n      <th>CASE_NUMBER</th>\n      <th>CASE_DATE</th>\n      <th>CASE_CHANNEL</th>\n      <th>PRODUCT_NAME</th>\n      <th>NPS_SCORE</th>\n      <th>TAGS</th>\n      <th>nps_segment</th>\n      <th>detected</th>\n    </tr>\n  </thead>\n  <tbody>\n    <tr>\n      <th>0</th>\n      <td>0</td>\n      <td>2021-06-11 10:30:03 UTC</td>\n      <td>2021-06-12 10:43:18 UTC</td>\n      <td>2</td>\n      <td>M</td>\n      <td>1954-09-18 00:00:00 UTC</td>\n      <td>1402267</td>\n      <td>66.0</td>\n      <td>DOMINGO FAUSTINO SARMIENTO</td>\n      <td>Service</td>\n      <td>5671770</td>\n      <td>2021-06-09 00:00:00 UTC</td>\n      <td>EUROP</td>\n      <td>Automotores Individuales</td>\n      <td>0</td>\n      <td>mot Grua  mot Servicio  mot Accesibilidad  mo...</td>\n      <td>detractor</td>\n      <td>True</td>\n    </tr>\n    <tr>\n      <th>1</th>\n      <td>1</td>\n      <td>2021-06-10 10:30:03 UTC</td>\n      <td>2021-06-12 17:38:35 UTC</td>\n      <td>5</td>\n      <td>F</td>\n      <td>1994-10-06 00:00:00 UTC</td>\n      <td>23733377</td>\n      <td>26.0</td>\n      <td>CORDOBA</td>\n      <td>Service</td>\n      <td>5662123</td>\n      <td>2021-06-08 00:00:00 UTC</td>\n      <td>AUXICAJA</td>\n      <td>Automotores Individuales</td>\n      <td>9</td>\n      <td>mot Servicio  mot Precio  atr Eficacia  mot A...</td>\n      <td>promotor</td>\n      <td>True</td>\n    </tr>\n    <tr>\n      <th>2</th>\n      <td>2</td>\n      <td>2021-06-07 10:30:03 UTC</td>\n      <td>2021-06-12 16:52:27 UTC</td>\n      <td>5</td>\n      <td>M</td>\n      <td>1980-08-07 00:00:00 UTC</td>\n      <td>21113765</td>\n      <td>40.0</td>\n      <td>DIAMANTE</td>\n      <td>Service</td>\n      <td>5625253</td>\n      <td>2021-06-03 00:00:00 UTC</td>\n      <td>AUXICAJA</td>\n      <td>Automotores Individuales</td>\n      <td>10</td>\n      <td>NaN</td>\n      <td>promotor</td>\n      <td>False</td>\n    </tr>\n    <tr>\n      <th>3</th>\n      <td>3</td>\n      <td>2021-06-10 10:30:03 UTC</td>\n      <td>2021-06-13 19:29:41 UTC</td>\n      <td>5</td>\n      <td>M</td>\n      <td>1959-09-12 00:00:00 UTC</td>\n      <td>19579674</td>\n      <td>61.0</td>\n      <td>CIUDAD AUTONOMA BUENOS AIRES</td>\n      <td>Query/Servicing request</td>\n      <td>5663499</td>\n      <td>2021-06-09 00:00:00 UTC</td>\n      <td>SUCURSAL</td>\n      <td>Automotores Individuales</td>\n      <td>10</td>\n      <td>mot Grua  atr Eficacia</td>\n      <td>promotor</td>\n      <td>True</td>\n    </tr>\n    <tr>\n      <th>4</th>\n      <td>4</td>\n      <td>2021-05-31 10:30:03 UTC</td>\n      <td>2021-06-06 22:26:27 UTC</td>\n      <td>1</td>\n      <td>M</td>\n      <td>1952-04-19 00:00:00 UTC</td>\n      <td>13972088</td>\n      <td>69.0</td>\n      <td>TRANCAS</td>\n      <td>Claims</td>\n      <td>5582911</td>\n      <td>2021-05-21 00:00:00 UTC</td>\n      <td>CALL CENTER</td>\n      <td>Automotores Individuales</td>\n      <td>0</td>\n      <td>mot Siniestro  atr Eficacia</td>\n      <td>detractor</td>\n      <td>True</td>\n    </tr>\n    <tr>\n      <th>...</th>\n      <td>...</td>\n      <td>...</td>\n      <td>...</td>\n      <td>...</td>\n      <td>...</td>\n      <td>...</td>\n      <td>...</td>\n      <td>...</td>\n      <td>...</td>\n      <td>...</td>\n      <td>...</td>\n      <td>...</td>\n      <td>...</td>\n      <td>...</td>\n      <td>...</td>\n      <td>...</td>\n      <td>...</td>\n      <td>...</td>\n    </tr>\n    <tr>\n      <th>15995</th>\n      <td>15995</td>\n      <td>2021-05-10 10:30:03 UTC</td>\n      <td>2021-05-10 10:46:11 UTC</td>\n      <td>5</td>\n      <td>M</td>\n      <td>1974-11-24 00:00:00 UTC</td>\n      <td>23609326</td>\n      <td>46.0</td>\n      <td>ISIDRO CASANOVA</td>\n      <td>Documentation Request</td>\n      <td>5436373</td>\n      <td>2021-05-07 00:00:00 UTC</td>\n      <td>WEB</td>\n      <td>Automotores Individuales</td>\n      <td>9</td>\n      <td>mot Siniestro  mot Cobertura poliza</td>\n      <td>promotor</td>\n      <td>True</td>\n    </tr>\n    <tr>\n      <th>15996</th>\n      <td>15996</td>\n      <td>2021-05-10 10:30:03 UTC</td>\n      <td>2021-05-10 12:12:26 UTC</td>\n      <td>0</td>\n      <td>M</td>\n      <td>1960-09-21 00:00:00 UTC</td>\n      <td>11254684</td>\n      <td>60.0</td>\n      <td>CIUDAD AUTONOMA BUENOS AIRES</td>\n      <td>Documentation Request</td>\n      <td>5434652</td>\n      <td>2021-05-07 00:00:00 UTC</td>\n      <td>WEB</td>\n      <td>Automotores Individuales</td>\n      <td>7</td>\n      <td>mot Siniestro  mot FacturacionPagos  mot Prec...</td>\n      <td>neutral</td>\n      <td>True</td>\n    </tr>\n    <tr>\n      <th>15997</th>\n      <td>15997</td>\n      <td>2021-05-10 10:30:03 UTC</td>\n      <td>2021-05-10 19:38:46 UTC</td>\n      <td>0</td>\n      <td>M</td>\n      <td>1960-07-15 00:00:00 UTC</td>\n      <td>16971297</td>\n      <td>60.0</td>\n      <td>SAN MIGUEL DE TUCUMAN</td>\n      <td>Documentation Request</td>\n      <td>5435120</td>\n      <td>2021-05-07 00:00:00 UTC</td>\n      <td>WEB</td>\n      <td>Automotores Individuales</td>\n      <td>7</td>\n      <td>NaN</td>\n      <td>neutral</td>\n      <td>False</td>\n    </tr>\n    <tr>\n      <th>15998</th>\n      <td>15998</td>\n      <td>2021-05-10 10:30:03 UTC</td>\n      <td>2021-05-10 10:45:03 UTC</td>\n      <td>2</td>\n      <td>M</td>\n      <td>1956-07-10 00:00:00 UTC</td>\n      <td>5768360</td>\n      <td>64.0</td>\n      <td>VILLA DOMINICO</td>\n      <td>Documentation Request</td>\n      <td>5434365</td>\n      <td>2021-05-07 00:00:00 UTC</td>\n      <td>WEB</td>\n      <td>Automotores Individuales</td>\n      <td>2</td>\n      <td>mot Siniestro  atr Conformidad  mot Facturaci...</td>\n      <td>detractor</td>\n      <td>True</td>\n    </tr>\n    <tr>\n      <th>15999</th>\n      <td>15999</td>\n      <td>2021-05-10 10:39:05 UTC</td>\n      <td>2021-05-10 12:02:05 UTC</td>\n      <td>0</td>\n      <td>F</td>\n      <td>1965-11-22 00:00:00 UTC</td>\n      <td>8703935</td>\n      <td>55.0</td>\n      <td>CIUDAD AUTONOMA BUENOS AIRES</td>\n      <td>Query/Servicing request</td>\n      <td>5426739</td>\n      <td>2021-05-07 00:00:00 UTC</td>\n      <td>SUCURSAL</td>\n      <td>Automotores Individuales</td>\n      <td>8</td>\n      <td>mot Servicio</td>\n      <td>promotor</td>\n      <td>True</td>\n    </tr>\n  </tbody>\n</table>\n<p>16000 rows × 18 columns</p>\n</div>"
     },
     "execution_count": 10,
     "metadata": {},
     "output_type": "execute_result"
    }
   ],
   "source": [
    "#Escribi tu código acá (HINT: Buscar numpy where documentacion)\n",
    "df['detected'] = np.where(df['TAGS'].notnull(), True, False)\n",
    "df"
   ]
  },
  {
   "cell_type": "markdown",
   "metadata": {
    "pycharm": {
     "name": "#%% md\n"
    }
   },
   "source": [
    "## Dates\n",
    "Devolver la fecha máxima y minima de la columna CREATION_DATE"
   ]
  },
  {
   "cell_type": "code",
   "execution_count": 11,
   "metadata": {
    "pycharm": {
     "name": "#%%\n"
    }
   },
   "outputs": [
    {
     "data": {
      "text/plain": "'2021-06-15 12:35:01 UTC'"
     },
     "execution_count": 11,
     "metadata": {},
     "output_type": "execute_result"
    }
   ],
   "source": [
    "max(df['CREATION_DATE'])"
   ]
  },
  {
   "cell_type": "code",
   "execution_count": 12,
   "outputs": [
    {
     "data": {
      "text/plain": "'2020-12-10 10:30:03 UTC'"
     },
     "execution_count": 12,
     "metadata": {},
     "output_type": "execute_result"
    }
   ],
   "source": [
    "min(df['CREATION_DATE'])"
   ],
   "metadata": {
    "collapsed": false,
    "pycharm": {
     "name": "#%%\n"
    }
   }
  },
  {
   "cell_type": "markdown",
   "metadata": {
    "pycharm": {
     "name": "#%% md\n"
    }
   },
   "source": [
    "Chequear los data types de todas las columnas"
   ]
  },
  {
   "cell_type": "code",
   "execution_count": 13,
   "metadata": {
    "pycharm": {
     "name": "#%%\n"
    }
   },
   "outputs": [
    {
     "data": {
      "text/plain": "Unnamed: 0             int64\nCREATION_DATE         object\nRESPONSE_DATE         object\nCURRENT_STATUS         int64\nGENDER                object\nDAY_OF_BIRTH          object\nCIF_ID                 int64\nAGE                  float64\nLOCATION              object\nTOUCHPOINT_NUMBER     object\nCASE_NUMBER            int64\nCASE_DATE             object\nCASE_CHANNEL          object\nPRODUCT_NAME          object\nNPS_SCORE              int64\nTAGS                  object\nnps_segment           object\ndetected                bool\ndtype: object"
     },
     "execution_count": 13,
     "metadata": {},
     "output_type": "execute_result"
    }
   ],
   "source": [
    "df.dtypes"
   ]
  },
  {
   "cell_type": "markdown",
   "metadata": {
    "pycharm": {
     "name": "#%% md\n"
    }
   },
   "source": [
    "¿Cual es el data type de CREATION_DATE ¿Te parece correct?"
   ]
  },
  {
   "cell_type": "markdown",
   "metadata": {
    "pycharm": {
     "name": "#%% md\n"
    }
   },
   "source": [
    "Crear una columna que solo tenga año y mes. Llameémosle year_month. Utilizar pd.to_datetime() primero y luego to period"
   ]
  },
  {
   "cell_type": "code",
   "execution_count": 14,
   "metadata": {
    "pycharm": {
     "name": "#%%\n"
    }
   },
   "outputs": [],
   "source": [
    "df['CREATION_DATE'] = pd.to_datetime(df['CREATION_DATE'])"
   ]
  },
  {
   "cell_type": "code",
   "execution_count": 15,
   "metadata": {
    "pycharm": {
     "name": "#%%\n"
    }
   },
   "outputs": [
    {
     "data": {
      "text/plain": "       Unnamed: 0             CREATION_DATE            RESPONSE_DATE  \\\n0               0 2021-06-11 10:30:03+00:00  2021-06-12 10:43:18 UTC   \n1               1 2021-06-10 10:30:03+00:00  2021-06-12 17:38:35 UTC   \n2               2 2021-06-07 10:30:03+00:00  2021-06-12 16:52:27 UTC   \n3               3 2021-06-10 10:30:03+00:00  2021-06-13 19:29:41 UTC   \n4               4 2021-05-31 10:30:03+00:00  2021-06-06 22:26:27 UTC   \n...           ...                       ...                      ...   \n15995       15995 2021-05-10 10:30:03+00:00  2021-05-10 10:46:11 UTC   \n15996       15996 2021-05-10 10:30:03+00:00  2021-05-10 12:12:26 UTC   \n15997       15997 2021-05-10 10:30:03+00:00  2021-05-10 19:38:46 UTC   \n15998       15998 2021-05-10 10:30:03+00:00  2021-05-10 10:45:03 UTC   \n15999       15999 2021-05-10 10:39:05+00:00  2021-05-10 12:02:05 UTC   \n\n       CURRENT_STATUS GENDER             DAY_OF_BIRTH    CIF_ID   AGE  \\\n0                   2      M  1954-09-18 00:00:00 UTC   1402267  66.0   \n1                   5      F  1994-10-06 00:00:00 UTC  23733377  26.0   \n2                   5      M  1980-08-07 00:00:00 UTC  21113765  40.0   \n3                   5      M  1959-09-12 00:00:00 UTC  19579674  61.0   \n4                   1      M  1952-04-19 00:00:00 UTC  13972088  69.0   \n...               ...    ...                      ...       ...   ...   \n15995               5      M  1974-11-24 00:00:00 UTC  23609326  46.0   \n15996               0      M  1960-09-21 00:00:00 UTC  11254684  60.0   \n15997               0      M  1960-07-15 00:00:00 UTC  16971297  60.0   \n15998               2      M  1956-07-10 00:00:00 UTC   5768360  64.0   \n15999               0      F  1965-11-22 00:00:00 UTC   8703935  55.0   \n\n                           LOCATION        TOUCHPOINT_NUMBER  CASE_NUMBER  \\\n0        DOMINGO FAUSTINO SARMIENTO                  Service      5671770   \n1                           CORDOBA                  Service      5662123   \n2                          DIAMANTE                  Service      5625253   \n3      CIUDAD AUTONOMA BUENOS AIRES  Query/Servicing request      5663499   \n4                           TRANCAS                   Claims      5582911   \n...                             ...                      ...          ...   \n15995               ISIDRO CASANOVA    Documentation Request      5436373   \n15996  CIUDAD AUTONOMA BUENOS AIRES    Documentation Request      5434652   \n15997         SAN MIGUEL DE TUCUMAN    Documentation Request      5435120   \n15998                VILLA DOMINICO    Documentation Request      5434365   \n15999  CIUDAD AUTONOMA BUENOS AIRES  Query/Servicing request      5426739   \n\n                     CASE_DATE CASE_CHANNEL              PRODUCT_NAME  \\\n0      2021-06-09 00:00:00 UTC        EUROP  Automotores Individuales   \n1      2021-06-08 00:00:00 UTC     AUXICAJA  Automotores Individuales   \n2      2021-06-03 00:00:00 UTC     AUXICAJA  Automotores Individuales   \n3      2021-06-09 00:00:00 UTC     SUCURSAL  Automotores Individuales   \n4      2021-05-21 00:00:00 UTC  CALL CENTER  Automotores Individuales   \n...                        ...          ...                       ...   \n15995  2021-05-07 00:00:00 UTC          WEB  Automotores Individuales   \n15996  2021-05-07 00:00:00 UTC          WEB  Automotores Individuales   \n15997  2021-05-07 00:00:00 UTC          WEB  Automotores Individuales   \n15998  2021-05-07 00:00:00 UTC          WEB  Automotores Individuales   \n15999  2021-05-07 00:00:00 UTC     SUCURSAL  Automotores Individuales   \n\n       NPS_SCORE                                               TAGS  \\\n0              0   mot Grua  mot Servicio  mot Accesibilidad  mo...   \n1              9   mot Servicio  mot Precio  atr Eficacia  mot A...   \n2             10                                                NaN   \n3             10                             mot Grua  atr Eficacia   \n4              0                        mot Siniestro  atr Eficacia   \n...          ...                                                ...   \n15995          9                mot Siniestro  mot Cobertura poliza   \n15996          7   mot Siniestro  mot FacturacionPagos  mot Prec...   \n15997          7                                                NaN   \n15998          2   mot Siniestro  atr Conformidad  mot Facturaci...   \n15999          8                                       mot Servicio   \n\n      nps_segment  detected year_month  \n0       detractor      True    2021-06  \n1        promotor      True    2021-06  \n2        promotor     False    2021-06  \n3        promotor      True    2021-06  \n4       detractor      True    2021-05  \n...           ...       ...        ...  \n15995    promotor      True    2021-05  \n15996     neutral      True    2021-05  \n15997     neutral     False    2021-05  \n15998   detractor      True    2021-05  \n15999    promotor      True    2021-05  \n\n[16000 rows x 19 columns]",
      "text/html": "<div>\n<style scoped>\n    .dataframe tbody tr th:only-of-type {\n        vertical-align: middle;\n    }\n\n    .dataframe tbody tr th {\n        vertical-align: top;\n    }\n\n    .dataframe thead th {\n        text-align: right;\n    }\n</style>\n<table border=\"1\" class=\"dataframe\">\n  <thead>\n    <tr style=\"text-align: right;\">\n      <th></th>\n      <th>Unnamed: 0</th>\n      <th>CREATION_DATE</th>\n      <th>RESPONSE_DATE</th>\n      <th>CURRENT_STATUS</th>\n      <th>GENDER</th>\n      <th>DAY_OF_BIRTH</th>\n      <th>CIF_ID</th>\n      <th>AGE</th>\n      <th>LOCATION</th>\n      <th>TOUCHPOINT_NUMBER</th>\n      <th>CASE_NUMBER</th>\n      <th>CASE_DATE</th>\n      <th>CASE_CHANNEL</th>\n      <th>PRODUCT_NAME</th>\n      <th>NPS_SCORE</th>\n      <th>TAGS</th>\n      <th>nps_segment</th>\n      <th>detected</th>\n      <th>year_month</th>\n    </tr>\n  </thead>\n  <tbody>\n    <tr>\n      <th>0</th>\n      <td>0</td>\n      <td>2021-06-11 10:30:03+00:00</td>\n      <td>2021-06-12 10:43:18 UTC</td>\n      <td>2</td>\n      <td>M</td>\n      <td>1954-09-18 00:00:00 UTC</td>\n      <td>1402267</td>\n      <td>66.0</td>\n      <td>DOMINGO FAUSTINO SARMIENTO</td>\n      <td>Service</td>\n      <td>5671770</td>\n      <td>2021-06-09 00:00:00 UTC</td>\n      <td>EUROP</td>\n      <td>Automotores Individuales</td>\n      <td>0</td>\n      <td>mot Grua  mot Servicio  mot Accesibilidad  mo...</td>\n      <td>detractor</td>\n      <td>True</td>\n      <td>2021-06</td>\n    </tr>\n    <tr>\n      <th>1</th>\n      <td>1</td>\n      <td>2021-06-10 10:30:03+00:00</td>\n      <td>2021-06-12 17:38:35 UTC</td>\n      <td>5</td>\n      <td>F</td>\n      <td>1994-10-06 00:00:00 UTC</td>\n      <td>23733377</td>\n      <td>26.0</td>\n      <td>CORDOBA</td>\n      <td>Service</td>\n      <td>5662123</td>\n      <td>2021-06-08 00:00:00 UTC</td>\n      <td>AUXICAJA</td>\n      <td>Automotores Individuales</td>\n      <td>9</td>\n      <td>mot Servicio  mot Precio  atr Eficacia  mot A...</td>\n      <td>promotor</td>\n      <td>True</td>\n      <td>2021-06</td>\n    </tr>\n    <tr>\n      <th>2</th>\n      <td>2</td>\n      <td>2021-06-07 10:30:03+00:00</td>\n      <td>2021-06-12 16:52:27 UTC</td>\n      <td>5</td>\n      <td>M</td>\n      <td>1980-08-07 00:00:00 UTC</td>\n      <td>21113765</td>\n      <td>40.0</td>\n      <td>DIAMANTE</td>\n      <td>Service</td>\n      <td>5625253</td>\n      <td>2021-06-03 00:00:00 UTC</td>\n      <td>AUXICAJA</td>\n      <td>Automotores Individuales</td>\n      <td>10</td>\n      <td>NaN</td>\n      <td>promotor</td>\n      <td>False</td>\n      <td>2021-06</td>\n    </tr>\n    <tr>\n      <th>3</th>\n      <td>3</td>\n      <td>2021-06-10 10:30:03+00:00</td>\n      <td>2021-06-13 19:29:41 UTC</td>\n      <td>5</td>\n      <td>M</td>\n      <td>1959-09-12 00:00:00 UTC</td>\n      <td>19579674</td>\n      <td>61.0</td>\n      <td>CIUDAD AUTONOMA BUENOS AIRES</td>\n      <td>Query/Servicing request</td>\n      <td>5663499</td>\n      <td>2021-06-09 00:00:00 UTC</td>\n      <td>SUCURSAL</td>\n      <td>Automotores Individuales</td>\n      <td>10</td>\n      <td>mot Grua  atr Eficacia</td>\n      <td>promotor</td>\n      <td>True</td>\n      <td>2021-06</td>\n    </tr>\n    <tr>\n      <th>4</th>\n      <td>4</td>\n      <td>2021-05-31 10:30:03+00:00</td>\n      <td>2021-06-06 22:26:27 UTC</td>\n      <td>1</td>\n      <td>M</td>\n      <td>1952-04-19 00:00:00 UTC</td>\n      <td>13972088</td>\n      <td>69.0</td>\n      <td>TRANCAS</td>\n      <td>Claims</td>\n      <td>5582911</td>\n      <td>2021-05-21 00:00:00 UTC</td>\n      <td>CALL CENTER</td>\n      <td>Automotores Individuales</td>\n      <td>0</td>\n      <td>mot Siniestro  atr Eficacia</td>\n      <td>detractor</td>\n      <td>True</td>\n      <td>2021-05</td>\n    </tr>\n    <tr>\n      <th>...</th>\n      <td>...</td>\n      <td>...</td>\n      <td>...</td>\n      <td>...</td>\n      <td>...</td>\n      <td>...</td>\n      <td>...</td>\n      <td>...</td>\n      <td>...</td>\n      <td>...</td>\n      <td>...</td>\n      <td>...</td>\n      <td>...</td>\n      <td>...</td>\n      <td>...</td>\n      <td>...</td>\n      <td>...</td>\n      <td>...</td>\n      <td>...</td>\n    </tr>\n    <tr>\n      <th>15995</th>\n      <td>15995</td>\n      <td>2021-05-10 10:30:03+00:00</td>\n      <td>2021-05-10 10:46:11 UTC</td>\n      <td>5</td>\n      <td>M</td>\n      <td>1974-11-24 00:00:00 UTC</td>\n      <td>23609326</td>\n      <td>46.0</td>\n      <td>ISIDRO CASANOVA</td>\n      <td>Documentation Request</td>\n      <td>5436373</td>\n      <td>2021-05-07 00:00:00 UTC</td>\n      <td>WEB</td>\n      <td>Automotores Individuales</td>\n      <td>9</td>\n      <td>mot Siniestro  mot Cobertura poliza</td>\n      <td>promotor</td>\n      <td>True</td>\n      <td>2021-05</td>\n    </tr>\n    <tr>\n      <th>15996</th>\n      <td>15996</td>\n      <td>2021-05-10 10:30:03+00:00</td>\n      <td>2021-05-10 12:12:26 UTC</td>\n      <td>0</td>\n      <td>M</td>\n      <td>1960-09-21 00:00:00 UTC</td>\n      <td>11254684</td>\n      <td>60.0</td>\n      <td>CIUDAD AUTONOMA BUENOS AIRES</td>\n      <td>Documentation Request</td>\n      <td>5434652</td>\n      <td>2021-05-07 00:00:00 UTC</td>\n      <td>WEB</td>\n      <td>Automotores Individuales</td>\n      <td>7</td>\n      <td>mot Siniestro  mot FacturacionPagos  mot Prec...</td>\n      <td>neutral</td>\n      <td>True</td>\n      <td>2021-05</td>\n    </tr>\n    <tr>\n      <th>15997</th>\n      <td>15997</td>\n      <td>2021-05-10 10:30:03+00:00</td>\n      <td>2021-05-10 19:38:46 UTC</td>\n      <td>0</td>\n      <td>M</td>\n      <td>1960-07-15 00:00:00 UTC</td>\n      <td>16971297</td>\n      <td>60.0</td>\n      <td>SAN MIGUEL DE TUCUMAN</td>\n      <td>Documentation Request</td>\n      <td>5435120</td>\n      <td>2021-05-07 00:00:00 UTC</td>\n      <td>WEB</td>\n      <td>Automotores Individuales</td>\n      <td>7</td>\n      <td>NaN</td>\n      <td>neutral</td>\n      <td>False</td>\n      <td>2021-05</td>\n    </tr>\n    <tr>\n      <th>15998</th>\n      <td>15998</td>\n      <td>2021-05-10 10:30:03+00:00</td>\n      <td>2021-05-10 10:45:03 UTC</td>\n      <td>2</td>\n      <td>M</td>\n      <td>1956-07-10 00:00:00 UTC</td>\n      <td>5768360</td>\n      <td>64.0</td>\n      <td>VILLA DOMINICO</td>\n      <td>Documentation Request</td>\n      <td>5434365</td>\n      <td>2021-05-07 00:00:00 UTC</td>\n      <td>WEB</td>\n      <td>Automotores Individuales</td>\n      <td>2</td>\n      <td>mot Siniestro  atr Conformidad  mot Facturaci...</td>\n      <td>detractor</td>\n      <td>True</td>\n      <td>2021-05</td>\n    </tr>\n    <tr>\n      <th>15999</th>\n      <td>15999</td>\n      <td>2021-05-10 10:39:05+00:00</td>\n      <td>2021-05-10 12:02:05 UTC</td>\n      <td>0</td>\n      <td>F</td>\n      <td>1965-11-22 00:00:00 UTC</td>\n      <td>8703935</td>\n      <td>55.0</td>\n      <td>CIUDAD AUTONOMA BUENOS AIRES</td>\n      <td>Query/Servicing request</td>\n      <td>5426739</td>\n      <td>2021-05-07 00:00:00 UTC</td>\n      <td>SUCURSAL</td>\n      <td>Automotores Individuales</td>\n      <td>8</td>\n      <td>mot Servicio</td>\n      <td>promotor</td>\n      <td>True</td>\n      <td>2021-05</td>\n    </tr>\n  </tbody>\n</table>\n<p>16000 rows × 19 columns</p>\n</div>"
     },
     "execution_count": 15,
     "metadata": {},
     "output_type": "execute_result"
    }
   ],
   "source": [
    "#armar el código para crear la columna año mes\n",
    "df['year_month'] = df['CREATION_DATE'].dt.strftime('%Y-%m')\n",
    "df"
   ]
  },
  {
   "cell_type": "markdown",
   "metadata": {
    "pycharm": {
     "name": "#%% md\n"
    }
   },
   "source": [
    "## Conteo.\n",
    "Crear un nuevo dataframe agrupado por year_month donde tenga la cantidad de encuestas únicas mes a mes\n",
    "** Hint**:\n",
    "```python\n",
    "df.groupby(grouping_column).agg(\"count\")\n",
    "```"
   ]
  },
  {
   "cell_type": "code",
   "execution_count": 16,
   "metadata": {
    "pycharm": {
     "name": "#%%\n"
    }
   },
   "outputs": [
    {
     "data": {
      "text/plain": "  year_month  encuestas\n0    2020-12        124\n1    2021-01       2617\n2    2021-02       2433\n3    2021-03       3308\n4    2021-04       2883\n5    2021-05       3066\n6    2021-06       1569",
      "text/html": "<div>\n<style scoped>\n    .dataframe tbody tr th:only-of-type {\n        vertical-align: middle;\n    }\n\n    .dataframe tbody tr th {\n        vertical-align: top;\n    }\n\n    .dataframe thead th {\n        text-align: right;\n    }\n</style>\n<table border=\"1\" class=\"dataframe\">\n  <thead>\n    <tr style=\"text-align: right;\">\n      <th></th>\n      <th>year_month</th>\n      <th>encuestas</th>\n    </tr>\n  </thead>\n  <tbody>\n    <tr>\n      <th>0</th>\n      <td>2020-12</td>\n      <td>124</td>\n    </tr>\n    <tr>\n      <th>1</th>\n      <td>2021-01</td>\n      <td>2617</td>\n    </tr>\n    <tr>\n      <th>2</th>\n      <td>2021-02</td>\n      <td>2433</td>\n    </tr>\n    <tr>\n      <th>3</th>\n      <td>2021-03</td>\n      <td>3308</td>\n    </tr>\n    <tr>\n      <th>4</th>\n      <td>2021-04</td>\n      <td>2883</td>\n    </tr>\n    <tr>\n      <th>5</th>\n      <td>2021-05</td>\n      <td>3066</td>\n    </tr>\n    <tr>\n      <th>6</th>\n      <td>2021-06</td>\n      <td>1569</td>\n    </tr>\n  </tbody>\n</table>\n</div>"
     },
     "execution_count": 16,
     "metadata": {},
     "output_type": "execute_result"
    }
   ],
   "source": [
    "df.groupby('year_month')['Unnamed: 0'].count().reset_index(name = 'encuestas')"
   ]
  },
  {
   "cell_type": "markdown",
   "metadata": {
    "pycharm": {
     "name": "#%% md\n"
    }
   },
   "source": [
    "Crear un dataste donde sume la cantidad de encuestas con TAG detectados, mes a mes"
   ]
  },
  {
   "cell_type": "markdown",
   "metadata": {
    "pycharm": {
     "name": "#%% md\n"
    }
   },
   "source": [
    "**Hint** :\n",
    "```python\n",
    "df.groupby(grouping_column).agg(\n",
    "    new_col_name =  ('old_col_name', 'sum'),\n",
    "    new_col_name_2 = ('old_col_name', 'mean')\n",
    ")\n",
    "```"
   ]
  },
  {
   "cell_type": "code",
   "execution_count": 17,
   "metadata": {
    "pycharm": {
     "name": "#%%\n"
    }
   },
   "outputs": [
    {
     "data": {
      "text/plain": "year_month\n2020-12     111\n2021-01    2246\n2021-02    2139\n2021-03    2866\n2021-04    2466\n2021-05    2632\n2021-06    1356\nName: detected, dtype: int64"
     },
     "execution_count": 17,
     "metadata": {},
     "output_type": "execute_result"
    }
   ],
   "source": [
    "df.groupby('year_month')['detected'].sum()"
   ]
  },
  {
   "cell_type": "markdown",
   "metadata": {
    "pycharm": {
     "name": "#%% md\n"
    }
   },
   "source": [
    "Crear otro dataset donde tenga la cantidad de encuestas por nps_segment unicas por mes. promotoras, neutras y detractoras."
   ]
  },
  {
   "cell_type": "markdown",
   "metadata": {
    "pycharm": {
     "name": "#%% md\n"
    }
   },
   "source": []
  },
  {
   "cell_type": "code",
   "execution_count": 18,
   "outputs": [
    {
     "data": {
      "text/plain": "                        Unnamed: 0\nyear_month nps_segment            \n2020-12    detractor            16\n           neutral               8\n           promotor            100\n2021-01    detractor           409\n           neutral             180\n           promotor           2028\n2021-02    detractor           472\n           neutral             162\n           promotor           1799\n2021-03    detractor           553\n           neutral             261\n           promotor           2494\n2021-04    detractor           416\n           neutral             206\n           promotor           2261\n2021-05    detractor           430\n           neutral             212\n           promotor           2424\n2021-06    detractor           219\n           neutral             100\n           promotor           1250",
      "text/html": "<div>\n<style scoped>\n    .dataframe tbody tr th:only-of-type {\n        vertical-align: middle;\n    }\n\n    .dataframe tbody tr th {\n        vertical-align: top;\n    }\n\n    .dataframe thead th {\n        text-align: right;\n    }\n</style>\n<table border=\"1\" class=\"dataframe\">\n  <thead>\n    <tr style=\"text-align: right;\">\n      <th></th>\n      <th></th>\n      <th>Unnamed: 0</th>\n    </tr>\n    <tr>\n      <th>year_month</th>\n      <th>nps_segment</th>\n      <th></th>\n    </tr>\n  </thead>\n  <tbody>\n    <tr>\n      <th rowspan=\"3\" valign=\"top\">2020-12</th>\n      <th>detractor</th>\n      <td>16</td>\n    </tr>\n    <tr>\n      <th>neutral</th>\n      <td>8</td>\n    </tr>\n    <tr>\n      <th>promotor</th>\n      <td>100</td>\n    </tr>\n    <tr>\n      <th rowspan=\"3\" valign=\"top\">2021-01</th>\n      <th>detractor</th>\n      <td>409</td>\n    </tr>\n    <tr>\n      <th>neutral</th>\n      <td>180</td>\n    </tr>\n    <tr>\n      <th>promotor</th>\n      <td>2028</td>\n    </tr>\n    <tr>\n      <th rowspan=\"3\" valign=\"top\">2021-02</th>\n      <th>detractor</th>\n      <td>472</td>\n    </tr>\n    <tr>\n      <th>neutral</th>\n      <td>162</td>\n    </tr>\n    <tr>\n      <th>promotor</th>\n      <td>1799</td>\n    </tr>\n    <tr>\n      <th rowspan=\"3\" valign=\"top\">2021-03</th>\n      <th>detractor</th>\n      <td>553</td>\n    </tr>\n    <tr>\n      <th>neutral</th>\n      <td>261</td>\n    </tr>\n    <tr>\n      <th>promotor</th>\n      <td>2494</td>\n    </tr>\n    <tr>\n      <th rowspan=\"3\" valign=\"top\">2021-04</th>\n      <th>detractor</th>\n      <td>416</td>\n    </tr>\n    <tr>\n      <th>neutral</th>\n      <td>206</td>\n    </tr>\n    <tr>\n      <th>promotor</th>\n      <td>2261</td>\n    </tr>\n    <tr>\n      <th rowspan=\"3\" valign=\"top\">2021-05</th>\n      <th>detractor</th>\n      <td>430</td>\n    </tr>\n    <tr>\n      <th>neutral</th>\n      <td>212</td>\n    </tr>\n    <tr>\n      <th>promotor</th>\n      <td>2424</td>\n    </tr>\n    <tr>\n      <th rowspan=\"3\" valign=\"top\">2021-06</th>\n      <th>detractor</th>\n      <td>219</td>\n    </tr>\n    <tr>\n      <th>neutral</th>\n      <td>100</td>\n    </tr>\n    <tr>\n      <th>promotor</th>\n      <td>1250</td>\n    </tr>\n  </tbody>\n</table>\n</div>"
     },
     "execution_count": 18,
     "metadata": {},
     "output_type": "execute_result"
    }
   ],
   "source": [
    "df.groupby(['year_month','nps_segment'])['Unnamed: 0'].count().to_frame()"
   ],
   "metadata": {
    "collapsed": false,
    "pycharm": {
     "name": "#%%\n"
    }
   }
  },
  {
   "cell_type": "markdown",
   "metadata": {
    "pycharm": {
     "name": "#%% md\n"
    }
   },
   "source": [
    "### Seg,emtps\n",
    "Crear un dataset que agrupe por segmento los CIF_ID únicos"
   ]
  },
  {
   "cell_type": "code",
   "execution_count": 19,
   "metadata": {
    "pycharm": {
     "name": "#%%\n"
    }
   },
   "outputs": [
    {
     "data": {
      "text/plain": "<pandas.core.groupby.generic.DataFrameGroupBy object at 0x000001DFEA626490>"
     },
     "execution_count": 19,
     "metadata": {},
     "output_type": "execute_result"
    }
   ],
   "source": [
    "dataset_por_segmento = df.groupby('nps_segment')\n",
    "dataset_por_segmento"
   ]
  },
  {
   "cell_type": "code",
   "execution_count": 20,
   "outputs": [],
   "source": [
    "#reset_index() implementalo al dataset y asignaselo\n",
    "dataset_por_segmento = dataset_por_segmento['CIF_ID'].count().reset_index()"
   ],
   "metadata": {
    "collapsed": false,
    "pycharm": {
     "name": "#%%\n"
    }
   }
  },
  {
   "cell_type": "markdown",
   "metadata": {
    "pycharm": {
     "name": "#%% md\n"
    }
   },
   "source": [
    "Cantidad que hay por detractor, promotor y neutro"
   ]
  },
  {
   "cell_type": "code",
   "execution_count": 21,
   "metadata": {
    "pycharm": {
     "name": "#%%\n"
    }
   },
   "outputs": [
    {
     "data": {
      "text/plain": "  nps_segment  CIF_ID\n0   detractor    2515\n1     neutral    1129\n2    promotor   12356",
      "text/html": "<div>\n<style scoped>\n    .dataframe tbody tr th:only-of-type {\n        vertical-align: middle;\n    }\n\n    .dataframe tbody tr th {\n        vertical-align: top;\n    }\n\n    .dataframe thead th {\n        text-align: right;\n    }\n</style>\n<table border=\"1\" class=\"dataframe\">\n  <thead>\n    <tr style=\"text-align: right;\">\n      <th></th>\n      <th>nps_segment</th>\n      <th>CIF_ID</th>\n    </tr>\n  </thead>\n  <tbody>\n    <tr>\n      <th>0</th>\n      <td>detractor</td>\n      <td>2515</td>\n    </tr>\n    <tr>\n      <th>1</th>\n      <td>neutral</td>\n      <td>1129</td>\n    </tr>\n    <tr>\n      <th>2</th>\n      <td>promotor</td>\n      <td>12356</td>\n    </tr>\n  </tbody>\n</table>\n</div>"
     },
     "execution_count": 21,
     "metadata": {},
     "output_type": "execute_result"
    }
   ],
   "source": [
    "dataset_por_segmento"
   ]
  },
  {
   "cell_type": "markdown",
   "metadata": {
    "pycharm": {
     "name": "#%% md\n"
    }
   },
   "source": [
    "# Countplot\n",
    "Hacer un countplot por la cantidad de NPS segment"
   ]
  },
  {
   "cell_type": "code",
   "execution_count": 22,
   "metadata": {
    "pycharm": {
     "name": "#%%\n"
    }
   },
   "outputs": [],
   "source": [
    "from matplotlib import rcParams\n",
    "rcParams['figure.figsize'] = 6,6\n",
    "paleta = [\"#66bd63\",\"#a50026\", \"#fee08b\"]"
   ]
  },
  {
   "cell_type": "code",
   "execution_count": 23,
   "metadata": {
    "pycharm": {
     "name": "#%%\n"
    }
   },
   "outputs": [
    {
     "data": {
      "text/plain": "<Figure size 432x432 with 1 Axes>",
      "image/png": "[encoded data removed]"
     },
     "metadata": {
      "needs_background": "light"
     },
     "output_type": "display_data"
    }
   ],
   "source": [
    "sns.countplot(data = df, x = df['nps_segment'])\n",
    "plt.show()"
   ]
  },
  {
   "cell_type": "code",
   "execution_count": 24,
   "metadata": {
    "pycharm": {
     "name": "#%%\n"
    }
   },
   "outputs": [
    {
     "data": {
      "text/plain": "  nps_segment  CIF_ID\n0   detractor    2515\n1     neutral    1129\n2    promotor   12356",
      "text/html": "<div>\n<style scoped>\n    .dataframe tbody tr th:only-of-type {\n        vertical-align: middle;\n    }\n\n    .dataframe tbody tr th {\n        vertical-align: top;\n    }\n\n    .dataframe thead th {\n        text-align: right;\n    }\n</style>\n<table border=\"1\" class=\"dataframe\">\n  <thead>\n    <tr style=\"text-align: right;\">\n      <th></th>\n      <th>nps_segment</th>\n      <th>CIF_ID</th>\n    </tr>\n  </thead>\n  <tbody>\n    <tr>\n      <th>0</th>\n      <td>detractor</td>\n      <td>2515</td>\n    </tr>\n    <tr>\n      <th>1</th>\n      <td>neutral</td>\n      <td>1129</td>\n    </tr>\n    <tr>\n      <th>2</th>\n      <td>promotor</td>\n      <td>12356</td>\n    </tr>\n  </tbody>\n</table>\n</div>"
     },
     "execution_count": 24,
     "metadata": {},
     "output_type": "execute_result"
    }
   ],
   "source": [
    "#imprimir las cantidades\n",
    "dataset_por_segmento"
   ]
  },
  {
   "cell_type": "markdown",
   "metadata": {
    "pycharm": {
     "name": "#%% md\n"
    }
   },
   "source": [
    "# Crosstab\n",
    "\n",
    "Armar un crostab por year_month en el index y NPS segment cómo columna"
   ]
  },
  {
   "cell_type": "code",
   "execution_count": 27,
   "metadata": {
    "pycharm": {
     "name": "#%%\n"
    }
   },
   "outputs": [
    {
     "data": {
      "text/plain": "nps_segment  detractor  neutral  promotor\nyear_month                               \n2020-12             16        8       100\n2021-01            409      180      2028\n2021-02            472      162      1799\n2021-03            553      261      2494\n2021-04            416      206      2261\n2021-05            430      212      2424\n2021-06            219      100      1250",
      "text/html": "<div>\n<style scoped>\n    .dataframe tbody tr th:only-of-type {\n        vertical-align: middle;\n    }\n\n    .dataframe tbody tr th {\n        vertical-align: top;\n    }\n\n    .dataframe thead th {\n        text-align: right;\n    }\n</style>\n<table border=\"1\" class=\"dataframe\">\n  <thead>\n    <tr style=\"text-align: right;\">\n      <th>nps_segment</th>\n      <th>detractor</th>\n      <th>neutral</th>\n      <th>promotor</th>\n    </tr>\n    <tr>\n      <th>year_month</th>\n      <th></th>\n      <th></th>\n      <th></th>\n    </tr>\n  </thead>\n  <tbody>\n    <tr>\n      <th>2020-12</th>\n      <td>16</td>\n      <td>8</td>\n      <td>100</td>\n    </tr>\n    <tr>\n      <th>2021-01</th>\n      <td>409</td>\n      <td>180</td>\n      <td>2028</td>\n    </tr>\n    <tr>\n      <th>2021-02</th>\n      <td>472</td>\n      <td>162</td>\n      <td>1799</td>\n    </tr>\n    <tr>\n      <th>2021-03</th>\n      <td>553</td>\n      <td>261</td>\n      <td>2494</td>\n    </tr>\n    <tr>\n      <th>2021-04</th>\n      <td>416</td>\n      <td>206</td>\n      <td>2261</td>\n    </tr>\n    <tr>\n      <th>2021-05</th>\n      <td>430</td>\n      <td>212</td>\n      <td>2424</td>\n    </tr>\n    <tr>\n      <th>2021-06</th>\n      <td>219</td>\n      <td>100</td>\n      <td>1250</td>\n    </tr>\n  </tbody>\n</table>\n</div>"
     },
     "execution_count": 27,
     "metadata": {},
     "output_type": "execute_result"
    }
   ],
   "source": [
    "crosstb = pd.crosstab(df['year_month'], df['nps_segment'])\n",
    "crosstb"
   ]
  },
  {
   "cell_type": "markdown",
   "metadata": {
    "pycharm": {
     "name": "#%% md\n"
    }
   },
   "source": [
    "¿Para que sirve esta tabla?"
   ]
  },
  {
   "cell_type": "markdown",
   "metadata": {
    "pycharm": {
     "name": "#%% md\n"
    }
   },
   "source": [
    "Armar en terminos relativos. Es decir, en porcentaje de total por mes."
   ]
  },
  {
   "cell_type": "code",
   "execution_count": null,
   "metadata": {
    "pycharm": {
     "name": "#%%\n"
    }
   },
   "outputs": [],
   "source": [
    "division = crosstb.div(crosstb.sum(axis=1), axis = 0)\n",
    "multiplicacion = division.mul(100).round(2)\n",
    "crosstb_relativo = multiplicacion.add_suffix(' (%)')\n",
    "crosstb_relativo"
   ]
  },
  {
   "cell_type": "markdown",
   "metadata": {
    "pycharm": {
     "name": "#%% md\n"
    }
   },
   "source": [
    "# Lineplot\n",
    "\n",
    "En el eje x gráfica el mes y en el eje y tres lineas con detractor, neutro y promotor"
   ]
  },
  {
   "cell_type": "code",
   "execution_count": null,
   "metadata": {
    "pycharm": {
     "name": "#%%\n"
    }
   },
   "outputs": [],
   "source": [
    "meses = crosstb.index\n",
    "plt.plot(meses, crosstb['detractor'])\n",
    "plt.plot(meses, crosstb['neutral'])\n",
    "plt.plot(meses, crosstb['promotor'])\n",
    "plt.ylabel('q de encuestas')\n",
    "plt.show()"
   ]
  },
  {
   "cell_type": "code",
   "execution_count": null,
   "outputs": [],
   "source": [],
   "metadata": {
    "collapsed": false,
    "pycharm": {
     "name": "#%%\n"
    }
   }
  },
  {
   "cell_type": "markdown",
   "metadata": {
    "pycharm": {
     "name": "#%% md\n"
    }
   },
   "source": [
    "Armar un cross tab con los comentarios detectados mes a mes"
   ]
  },
  {
   "cell_type": "code",
   "execution_count": null,
   "metadata": {
    "pycharm": {
     "name": "#%%\n"
    }
   },
   "outputs": [],
   "source": [
    "crosstb_detected = pd.crosstab(df['detected'],df['year_month'])\n",
    "crosstb_detected"
   ]
  },
  {
   "cell_type": "markdown",
   "metadata": {
    "pycharm": {
     "name": "#%% md\n"
    }
   },
   "source": [
    "¿Que mes es en el que más falla? ¿podemos sacar una conclusión?"
   ]
  },
  {
   "cell_type": "markdown",
   "metadata": {
    "pycharm": {
     "name": "#%% md\n"
    }
   },
   "source": [
    "# Case Channel\n",
    "\n",
    "Reproducí este gráfico. ¿Para qué sirve?\n",
    "\n",
    "HINT:\n",
    "\n",
    "plt.rc('xtick', labelsize=24)\n",
    "plt.rc('ytick', labelsize=10)\n",
    "ax = sns.countplot(data = df, x = 'CASE_CHANNEL',\n",
    "              order = df['CASE_CHANNEL'].value_counts().index)"
   ]
  },
  {
   "cell_type": "code",
   "execution_count": null,
   "metadata": {
    "pycharm": {
     "name": "#%%\n"
    }
   },
   "outputs": [],
   "source": [
    "case_channel_group = df.groupby('CASE_CHANNEL')['Unnamed: 0'].count().to_frame(name = 'casos').sort_values(by = 'casos', ascending = False)\n",
    "plt.figure(figsize= (10,5))\n",
    "plt.bar(case_channel_group.index, case_channel_group.casos, color = np.random.rand(len(case_channel_group.index),3))"
   ]
  },
  {
   "cell_type": "markdown",
   "metadata": {
    "pycharm": {
     "name": "#%% md\n"
    }
   },
   "source": [
    "Instala la librería squarify y ejecuta la linea de código de aca abajo importala y"
   ]
  },
  {
   "cell_type": "code",
   "execution_count": null,
   "metadata": {
    "pycharm": {
     "name": "#%%\n"
    }
   },
   "outputs": [],
   "source": [
    "#filtro = df[df['CASE_CHANNEL'].map(df['CASE_CHANNEL'].value_counts()) > 900]\n",
    "label_value = df[\"CASE_CHANNEL\"].value_counts().to_dict()\n",
    "# Creo los labels usando a list comprehesion\n",
    "labels = [\"{} tiene {} obs\".format(class_, obs) for class_, obs in label_value.items()]\n",
    "# Creo colores por cantidad de trabajos\n",
    "colors = [plt.cm.Spectral(i/float(len(labels))) for i in range(len(labels))]\n",
    "plt.figure(figsize = (18, 10))\n",
    "squarify.plot(sizes = label_value.values(), label = labels,  color = colors, alpha = 0.8)\n",
    "plt.title(\"Cantidad de casos por CASE_CHANNEL\");"
   ]
  },
  {
   "cell_type": "markdown",
   "metadata": {
    "pycharm": {
     "name": "#%% md\n"
    }
   },
   "source": [
    "Crear un cross tab entre segmento y Case chanel"
   ]
  },
  {
   "cell_type": "code",
   "execution_count": null,
   "metadata": {
    "pycharm": {
     "name": "#%%\n"
    }
   },
   "outputs": [],
   "source": [
    "cross_nps_case = pd.crosstab(df['CASE_CHANNEL'], df['nps_segment'])\n",
    "div = cross_nps_case.div(cross_nps_case.sum(axis = 1), axis = 0)\n",
    "cross_nps_case = div.mul(100).round(2).reset_index()\n",
    "cross_nps_case"
   ]
  },
  {
   "cell_type": "code",
   "execution_count": null,
   "outputs": [],
   "source": [],
   "metadata": {
    "collapsed": false,
    "pycharm": {
     "name": "#%%\n"
    }
   }
  },
  {
   "cell_type": "markdown",
   "metadata": {
    "pycharm": {
     "name": "#%% md\n"
    }
   },
   "source": [
    "# Plotea un gráfico de barras"
   ]
  },
  {
   "cell_type": "code",
   "execution_count": null,
   "outputs": [],
   "source": [
    "X = list(cross_nps_case['CASE_CHANNEL'].unique())\n",
    "\n",
    "ind = np.arange(len(X))\n",
    "width = 0.25\n",
    "\n",
    "Y_detractor = list(cross_nps_case['detractor'])\n",
    "Y_neutral = list(cross_nps_case['neutral'])\n",
    "Y_promotor = list(cross_nps_case['promotor'])\n",
    "\n",
    "plt.figure(figsize=(10,5))\n",
    "bar1 = plt.bar(ind -width, Y_detractor, width, label = 'detractor')\n",
    "bar2 = plt.bar(ind, Y_neutral, width, label = 'neutral')\n",
    "bar3 = plt.bar(ind + width, Y_promotor, width, label = 'promotor')\n",
    "\n",
    "plt.xticks(ticks = ind,labels = list(cross_nps_case['CASE_CHANNEL'].unique()))\n",
    "plt.legend((bar1,bar2,bar3), ('detractor', 'neutral', 'promotor'))\n",
    "plt.show()"
   ],
   "metadata": {
    "collapsed": false,
    "pycharm": {
     "name": "#%%\n"
    }
   }
  },
  {
   "cell_type": "markdown",
   "metadata": {
    "pycharm": {
     "name": "#%% md\n"
    }
   },
   "source": [
    "### Crear un crostab de nps_segment por genero en porcentaje"
   ]
  },
  {
   "cell_type": "code",
   "execution_count": null,
   "metadata": {
    "pycharm": {
     "name": "#%%\n"
    }
   },
   "outputs": [],
   "source": [
    "cross_edad = pd.crosstab(df['nps_segment'], df['GENDER'])\n",
    "cross_edad = cross_edad.div(cross_edad.sum(axis=0), axis =1).mul(100).round(2)\n",
    "cross_edad"
   ]
  },
  {
   "cell_type": "code",
   "execution_count": null,
   "metadata": {
    "pycharm": {
     "name": "#%%\n"
    }
   },
   "outputs": [],
   "source": [
    "X = list(cross_edad.index)\n",
    "values_F = cross_edad['F']\n",
    "values_M = cross_edad['M']\n",
    "\n",
    "barF = plt.bar(X, values_F, color = 'darkred')\n",
    "barM = plt.bar(X, values_M, bottom = values_F, color = 'green')\n",
    "plt.legend((barF, barM), ('F', 'M'))\n",
    "plt.show()"
   ]
  },
  {
   "cell_type": "markdown",
   "metadata": {
    "pycharm": {
     "name": "#%% md\n"
    }
   },
   "source": [
    "# Edad\n",
    "\n",
    "Imprimir los siguientes valores"
   ]
  },
  {
   "cell_type": "code",
   "execution_count": null,
   "metadata": {
    "pycharm": {
     "name": "#%%\n"
    }
   },
   "outputs": [],
   "source": [
    "print(f'La edad maxima es: {df[\"AGE\"].max()}')\n",
    "print(f'La median de la edad es: {df[\"AGE\"].median()}')\n",
    "print(f'La median de la edad es: {df[\"AGE\"].mean()}')\n",
    "print(f'La median de la edad es: {df[\"AGE\"].min()}')"
   ]
  },
  {
   "cell_type": "markdown",
   "metadata": {
    "pycharm": {
     "name": "#%% md\n"
    }
   },
   "source": [
    "Graficar la distribución de la edad"
   ]
  },
  {
   "cell_type": "code",
   "execution_count": null,
   "metadata": {
    "pycharm": {
     "name": "#%%\n"
    }
   },
   "outputs": [],
   "source": [
    "rcParams['figure.figsize'] = 12,8\n",
    "sns.set()\n",
    "plt.rc('xtick', labelsize=5)\n",
    "plt.rc('ytick', labelsize=10)\n",
    "#codigo del gráfico\n"
   ]
  },
  {
   "cell_type": "markdown",
   "metadata": {
    "pycharm": {
     "name": "#%% md\n"
    }
   },
   "source": [
    "# Boxplot\n",
    "\n",
    "Armar un boxplot por segmento, representando en el eje Y la edad."
   ]
  },
  {
   "cell_type": "code",
   "execution_count": null,
   "metadata": {
    "pycharm": {
     "name": "#%%\n"
    }
   },
   "outputs": [],
   "source": [
    "fig, (ax1) = plt.subplots( figsize = (8, 8))\n",
    "#sn.boxplot\n",
    "ax1.set_xlabel('Conversión', fontsize=10)\n",
    "ax1.set_ylabel('Edad', fontsize=10)\n",
    "ax1.set_title('Boxplot Edad', fontsize=10)\n",
    "ax1.tick_params(labelsize=10)\n",
    "\n",
    "plt.subplots_adjust(wspace=0.5)\n",
    "\n",
    "plt.tight_layout()"
   ]
  },
  {
   "cell_type": "markdown",
   "metadata": {
    "pycharm": {
     "name": "#%% md\n"
    }
   },
   "source": [
    "# Discretización\n",
    "Representar la edad en grupos de deacadas"
   ]
  },
  {
   "cell_type": "code",
   "execution_count": null,
   "metadata": {
    "pycharm": {
     "name": "#%%\n"
    }
   },
   "outputs": [],
   "source": [
    "#primero crear la columna según regla de edad\n",
    "#luego crosstab"
   ]
  },
  {
   "cell_type": "code",
   "execution_count": null,
   "metadata": {
    "pycharm": {
     "name": "#%%\n"
    }
   },
   "outputs": [],
   "source": [
    "#ULTRA HINT: per_edad = pd.crosstab(df['nps_segment'],df['grupo_edad'])\n",
    "per_edad = per_edad.T\n",
    "per_edad"
   ]
  },
  {
   "cell_type": "code",
   "execution_count": null,
   "metadata": {
    "pycharm": {
     "name": "#%%\n"
    }
   },
   "outputs": [],
   "source": [
    "rcParams['figure.figsize'] = 8,6\n",
    "plt.rc('xtick', labelsize=10)\n",
    "plt.rc('ytick', labelsize=10)\n",
    "sns.set_style(\"darkgrid\")\n",
    "#.plot(kind = 'bar',color = paleta)\n",
    "plt.xlabel('Edad del grupo')\n",
    "plt.ylabel('Tasa de Conversión sobre el total')\n",
    "plt.xticks(np.arange(5), ('<30', '30-39', '40-49', '50-59', '60+'),rotation = 'horizontal')\n",
    "plt.title('Conversión vs Rango Etareo')\n",
    "plt.show()"
   ]
  }
 ],
 "metadata": {
  "kernelspec": {
   "display_name": "Python 3 (ipykernel)",
   "language": "python",
   "name": "python3"
  },
  "language_info": {
   "codemirror_mode": {
    "name": "ipython",
    "version": 3
   },
   "file_extension": ".py",
   "mimetype": "text/x-python",
   "name": "python",
   "nbconvert_exporter": "python",
   "pygments_lexer": "ipython3",
   "version": "3.8.9"
  }
 },
 "nbformat": 4,
 "nbformat_minor": 1
}