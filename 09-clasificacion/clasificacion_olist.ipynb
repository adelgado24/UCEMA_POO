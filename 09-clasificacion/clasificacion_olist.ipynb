{
 "cells": [
  {
   "cell_type": "code",
   "execution_count": 1,
   "metadata": {
    "collapsed": true
   },
   "outputs": [],
   "source": [
    "import pandas as pd\n",
    "import numpy as np\n",
    "import statsmodels.formula.api as smf"
   ]
  },
  {
   "cell_type": "code",
   "execution_count": 2,
   "outputs": [],
   "source": [
    "df = pd.read_csv('data_olist/tablon_primario.csv')"
   ],
   "metadata": {
    "collapsed": false,
    "pycharm": {
     "name": "#%%\n"
    }
   }
  },
  {
   "cell_type": "code",
   "execution_count": 3,
   "outputs": [
    {
     "data": {
      "text/plain": "   Unnamed: 0                          order_id  \\\n0           0  e481f51cbdc54678b7cc49136f2d6af7   \n1           1  53cdb2fc8bc7dce0b6741e2150273451   \n2           2  47770eb9100c2d0c44946d9cf07ec65d   \n3           3  949d5b44dbf5de918fe9c16f97b45f8a   \n4           4  ad21c59c0840e6cb83a9ceb5573f8159   \n\n                        customer_id order_status order_purchase_timestamp  \\\n0  9ef432eb6251297304e76186b10a928d    delivered      2017-10-02 10:56:33   \n1  b0830fb4747a6c6d20dea0b8c802d7ef    delivered      2018-07-24 20:41:37   \n2  41ce2a54c0b03bf3443c3d931a367089    delivered      2018-08-08 08:38:49   \n3  f88197465ea7920adcdbec7375364d82    delivered      2017-11-18 19:28:06   \n4  8ab97904e6daea8866dbdbc4fb7aad2c    delivered      2018-02-13 21:18:39   \n\n     order_approved_at order_delivered_carrier_date  \\\n0  2017-10-02 11:07:15          2017-10-04 19:55:00   \n1  2018-07-26 03:24:27          2018-07-26 14:31:00   \n2  2018-08-08 08:55:23          2018-08-08 13:50:00   \n3  2017-11-18 19:45:59          2017-11-22 13:39:59   \n4  2018-02-13 22:20:29          2018-02-14 19:46:34   \n\n  order_delivered_customer_date order_estimated_delivery_date  \\\n0           2017-10-10 21:25:13           2017-10-18 00:00:00   \n1           2018-08-07 15:27:45           2018-08-13 00:00:00   \n2           2018-08-17 18:06:29           2018-09-04 00:00:00   \n3           2017-12-02 00:28:42           2017-12-15 00:00:00   \n4           2018-02-16 18:17:02           2018-02-26 00:00:00   \n\n   tiempo_de_espera  real_vs_esperado  es_cinco_estrellas  es_una_estrella  \\\n0          8.436574               0.0                   0                0   \n1         13.782037               0.0                   0                0   \n2          9.394213               0.0                   1                0   \n3         13.208750               0.0                   1                0   \n4          2.873877               0.0                   1                0   \n\n   review_score  number_of_products  vendedores_unicos  precio  transporte  \\\n0             4                   1                  1   29.99        8.72   \n1             4                   1                  1  118.70       22.76   \n2             5                   1                  1  159.90       19.22   \n3             5                   1                  1   45.00       27.20   \n4             5                   1                  1   19.90        8.72   \n\n   distance_seller_customer  \n0                 18.063837  \n1                856.292580  \n2                514.130333  \n3               1822.800366  \n4                 30.174037  ",
      "text/html": "<div>\n<style scoped>\n    .dataframe tbody tr th:only-of-type {\n        vertical-align: middle;\n    }\n\n    .dataframe tbody tr th {\n        vertical-align: top;\n    }\n\n    .dataframe thead th {\n        text-align: right;\n    }\n</style>\n<table border=\"1\" class=\"dataframe\">\n  <thead>\n    <tr style=\"text-align: right;\">\n      <th></th>\n      <th>Unnamed: 0</th>\n      <th>order_id</th>\n      <th>customer_id</th>\n      <th>order_status</th>\n      <th>order_purchase_timestamp</th>\n      <th>order_approved_at</th>\n      <th>order_delivered_carrier_date</th>\n      <th>order_delivered_customer_date</th>\n      <th>order_estimated_delivery_date</th>\n      <th>tiempo_de_espera</th>\n      <th>real_vs_esperado</th>\n      <th>es_cinco_estrellas</th>\n      <th>es_una_estrella</th>\n      <th>review_score</th>\n      <th>number_of_products</th>\n      <th>vendedores_unicos</th>\n      <th>precio</th>\n      <th>transporte</th>\n      <th>distance_seller_customer</th>\n    </tr>\n  </thead>\n  <tbody>\n    <tr>\n      <th>0</th>\n      <td>0</td>\n      <td>e481f51cbdc54678b7cc49136f2d6af7</td>\n      <td>9ef432eb6251297304e76186b10a928d</td>\n      <td>delivered</td>\n      <td>2017-10-02 10:56:33</td>\n      <td>2017-10-02 11:07:15</td>\n      <td>2017-10-04 19:55:00</td>\n      <td>2017-10-10 21:25:13</td>\n      <td>2017-10-18 00:00:00</td>\n      <td>8.436574</td>\n      <td>0.0</td>\n      <td>0</td>\n      <td>0</td>\n      <td>4</td>\n      <td>1</td>\n      <td>1</td>\n      <td>29.99</td>\n      <td>8.72</td>\n      <td>18.063837</td>\n    </tr>\n    <tr>\n      <th>1</th>\n      <td>1</td>\n      <td>53cdb2fc8bc7dce0b6741e2150273451</td>\n      <td>b0830fb4747a6c6d20dea0b8c802d7ef</td>\n      <td>delivered</td>\n      <td>2018-07-24 20:41:37</td>\n      <td>2018-07-26 03:24:27</td>\n      <td>2018-07-26 14:31:00</td>\n      <td>2018-08-07 15:27:45</td>\n      <td>2018-08-13 00:00:00</td>\n      <td>13.782037</td>\n      <td>0.0</td>\n      <td>0</td>\n      <td>0</td>\n      <td>4</td>\n      <td>1</td>\n      <td>1</td>\n      <td>118.70</td>\n      <td>22.76</td>\n      <td>856.292580</td>\n    </tr>\n    <tr>\n      <th>2</th>\n      <td>2</td>\n      <td>47770eb9100c2d0c44946d9cf07ec65d</td>\n      <td>41ce2a54c0b03bf3443c3d931a367089</td>\n      <td>delivered</td>\n      <td>2018-08-08 08:38:49</td>\n      <td>2018-08-08 08:55:23</td>\n      <td>2018-08-08 13:50:00</td>\n      <td>2018-08-17 18:06:29</td>\n      <td>2018-09-04 00:00:00</td>\n      <td>9.394213</td>\n      <td>0.0</td>\n      <td>1</td>\n      <td>0</td>\n      <td>5</td>\n      <td>1</td>\n      <td>1</td>\n      <td>159.90</td>\n      <td>19.22</td>\n      <td>514.130333</td>\n    </tr>\n    <tr>\n      <th>3</th>\n      <td>3</td>\n      <td>949d5b44dbf5de918fe9c16f97b45f8a</td>\n      <td>f88197465ea7920adcdbec7375364d82</td>\n      <td>delivered</td>\n      <td>2017-11-18 19:28:06</td>\n      <td>2017-11-18 19:45:59</td>\n      <td>2017-11-22 13:39:59</td>\n      <td>2017-12-02 00:28:42</td>\n      <td>2017-12-15 00:00:00</td>\n      <td>13.208750</td>\n      <td>0.0</td>\n      <td>1</td>\n      <td>0</td>\n      <td>5</td>\n      <td>1</td>\n      <td>1</td>\n      <td>45.00</td>\n      <td>27.20</td>\n      <td>1822.800366</td>\n    </tr>\n    <tr>\n      <th>4</th>\n      <td>4</td>\n      <td>ad21c59c0840e6cb83a9ceb5573f8159</td>\n      <td>8ab97904e6daea8866dbdbc4fb7aad2c</td>\n      <td>delivered</td>\n      <td>2018-02-13 21:18:39</td>\n      <td>2018-02-13 22:20:29</td>\n      <td>2018-02-14 19:46:34</td>\n      <td>2018-02-16 18:17:02</td>\n      <td>2018-02-26 00:00:00</td>\n      <td>2.873877</td>\n      <td>0.0</td>\n      <td>1</td>\n      <td>0</td>\n      <td>5</td>\n      <td>1</td>\n      <td>1</td>\n      <td>19.90</td>\n      <td>8.72</td>\n      <td>30.174037</td>\n    </tr>\n  </tbody>\n</table>\n</div>"
     },
     "execution_count": 3,
     "metadata": {},
     "output_type": "execute_result"
    }
   ],
   "source": [
    "df.head()"
   ],
   "metadata": {
    "collapsed": false,
    "pycharm": {
     "name": "#%%\n"
    }
   }
  },
  {
   "cell_type": "code",
   "execution_count": 4,
   "outputs": [
    {
     "name": "stdout",
     "output_type": "stream",
     "text": [
      "Optimization terminated successfully.\n",
      "         Current function value: 0.319896\n",
      "         Iterations 6\n"
     ]
    },
    {
     "data": {
      "text/plain": "Intercept   -2.223575\ndtype: float64"
     },
     "execution_count": 4,
     "metadata": {},
     "output_type": "execute_result"
    }
   ],
   "source": [
    "model = smf.logit(formula = 'es_una_estrella ~  1', data = df).fit()\n",
    "model.params"
   ],
   "metadata": {
    "collapsed": false,
    "pycharm": {
     "name": "#%%\n"
    }
   }
  },
  {
   "cell_type": "code",
   "execution_count": 5,
   "outputs": [
    {
     "name": "stdout",
     "output_type": "stream",
     "text": [
      "Optimization terminated successfully.\n",
      "         Current function value: 0.676072\n",
      "         Iterations 4\n"
     ]
    },
    {
     "data": {
      "text/plain": "Intercept    0.372803\ndtype: float64"
     },
     "execution_count": 5,
     "metadata": {},
     "output_type": "execute_result"
    }
   ],
   "source": [
    "model = smf.logit(formula = 'es_cinco_estrellas ~  1', data = df).fit()\n",
    "model.params"
   ],
   "metadata": {
    "collapsed": false,
    "pycharm": {
     "name": "#%%\n"
    }
   }
  },
  {
   "cell_type": "code",
   "execution_count": 6,
   "outputs": [
    {
     "name": "stdout",
     "output_type": "stream",
     "text": [
      "Optimization terminated successfully.\n",
      "         Current function value: 0.285296\n",
      "         Iterations 7\n"
     ]
    },
    {
     "data": {
      "text/plain": "Intercept          -3.445754\ntiempo_de_espera    0.080945\ndtype: float64"
     },
     "execution_count": 6,
     "metadata": {},
     "output_type": "execute_result"
    }
   ],
   "source": [
    "model3 = smf.logit(formula = 'es_una_estrella ~  tiempo_de_espera', data = df).fit()\n",
    "model3.params"
   ],
   "metadata": {
    "collapsed": false,
    "pycharm": {
     "name": "#%%\n"
    }
   }
  },
  {
   "cell_type": "code",
   "execution_count": 7,
   "outputs": [
    {
     "name": "stdout",
     "output_type": "stream",
     "text": [
      "Optimization terminated successfully.\n",
      "         Current function value: 0.645782\n",
      "         Iterations 5\n"
     ]
    },
    {
     "data": {
      "text/plain": "Intercept           1.133309\ntiempo_de_espera   -0.060746\ndtype: float64"
     },
     "execution_count": 7,
     "metadata": {},
     "output_type": "execute_result"
    }
   ],
   "source": [
    "model4 = smf.logit(formula = 'es_cinco_estrellas ~  tiempo_de_espera', data = df).fit()\n",
    "model4.params"
   ],
   "metadata": {
    "collapsed": false,
    "pycharm": {
     "name": "#%%\n"
    }
   }
  },
  {
   "cell_type": "code",
   "execution_count": 9,
   "outputs": [
    {
     "name": "stdout",
     "output_type": "stream",
     "text": [
      "                           Logit Regression Results                           \n",
      "==============================================================================\n",
      "Dep. Variable:     es_cinco_estrellas   No. Observations:                95872\n",
      "Model:                          Logit   Df Residuals:                    95870\n",
      "Method:                           MLE   Df Model:                            1\n",
      "Date:                Thu, 20 Oct 2022   Pseudo R-squ.:                 0.04482\n",
      "Time:                        11:08:43   Log-Likelihood:                -61912.\n",
      "converged:                       True   LL-Null:                       -64817.\n",
      "Covariance Type:            nonrobust   LLR p-value:                     0.000\n",
      "====================================================================================\n",
      "                       coef    std err          z      P>|z|      [0.025      0.975]\n",
      "------------------------------------------------------------------------------------\n",
      "Intercept            1.1333      0.013     89.115      0.000       1.108       1.158\n",
      "tiempo_de_espera    -0.0607      0.001    -69.608      0.000      -0.062      -0.059\n",
      "====================================================================================\n"
     ]
    }
   ],
   "source": [
    "print(model4.summary())"
   ],
   "metadata": {
    "collapsed": false,
    "pycharm": {
     "name": "#%%\n"
    }
   }
  }
 ],
 "metadata": {
  "kernelspec": {
   "display_name": "Python 3",
   "language": "python",
   "name": "python3"
  },
  "language_info": {
   "codemirror_mode": {
    "name": "ipython",
    "version": 2
   },
   "file_extension": ".py",
   "mimetype": "text/x-python",
   "name": "python",
   "nbconvert_exporter": "python",
   "pygments_lexer": "ipython2",
   "version": "2.7.6"
  }
 },
 "nbformat": 4,
 "nbformat_minor": 0
}