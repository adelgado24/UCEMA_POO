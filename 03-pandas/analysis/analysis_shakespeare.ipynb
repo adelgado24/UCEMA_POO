{
 "cells": [
  {
   "cell_type": "code",
   "execution_count": 1,
   "metadata": {
    "collapsed": true
   },
   "outputs": [],
   "source": [
    "import pandas as pd"
   ]
  },
  {
   "cell_type": "code",
   "execution_count": 2,
   "outputs": [],
   "source": [
    "df = pd.read_csv('data/ventas_comercial/combined_csv.csv')"
   ],
   "metadata": {
    "collapsed": false,
    "pycharm": {
     "name": "#%%\n"
    }
   }
  },
  {
   "cell_type": "code",
   "execution_count": 4,
   "outputs": [
    {
     "data": {
      "text/plain": "        Unnamed: 0  Dataline                     Play  PlayerLinenumber  \\\n0            22427     22428       A Comedy of Errors             132.0   \n1            22428     22429       A Comedy of Errors             132.0   \n2            22429     22430       A Comedy of Errors             132.0   \n3            22430     22431       A Comedy of Errors               1.0   \n4            22431     22432       A Comedy of Errors               1.0   \n...            ...       ...                      ...               ...   \n111391      107902    107903  Two Gentlemen of Verona              52.0   \n111392      107903    107904  Two Gentlemen of Verona              52.0   \n111393      107904    107905  Two Gentlemen of Verona              52.0   \n111394      107905    107906  Two Gentlemen of Verona              52.0   \n111395      107906    107907  Two Gentlemen of Verona              52.0   \n\n       ActSceneLine           Player  \\\n0               NaN  OCTAVIUS CAESAR   \n1               NaN  OCTAVIUS CAESAR   \n2               NaN  OCTAVIUS CAESAR   \n3             1.1.1           AEGEON   \n4             1.1.2           AEGEON   \n...             ...              ...   \n111391      5.4.177        VALENTINE   \n111392      5.4.178        VALENTINE   \n111393      5.4.179        VALENTINE   \n111394      5.4.180        VALENTINE   \n111395          NaN        VALENTINE   \n\n                                               PlayerLine  \n0                                                   ACT I  \n1               SCENE I. A hall in DUKE SOLINUS'S palace.  \n2       Enter DUKE SOLINUS, AEGEON, Gaoler, Officers, ...  \n3                    Proceed, Solinus, to procure my fall  \n4              And by the doom of death end woes and all.  \n...                                                   ...  \n111391       Come, Proteus, 'tis your penance but to hear  \n111392                The story of your loves discovered:  \n111393     That done, our day of marriage shall be yours,  \n111394        One feast, one house, one mutual happiness.  \n111395                                             Exeunt  \n\n[111396 rows x 7 columns]",
      "text/html": "<div>\n<style scoped>\n    .dataframe tbody tr th:only-of-type {\n        vertical-align: middle;\n    }\n\n    .dataframe tbody tr th {\n        vertical-align: top;\n    }\n\n    .dataframe thead th {\n        text-align: right;\n    }\n</style>\n<table border=\"1\" class=\"dataframe\">\n  <thead>\n    <tr style=\"text-align: right;\">\n      <th></th>\n      <th>Unnamed: 0</th>\n      <th>Dataline</th>\n      <th>Play</th>\n      <th>PlayerLinenumber</th>\n      <th>ActSceneLine</th>\n      <th>Player</th>\n      <th>PlayerLine</th>\n    </tr>\n  </thead>\n  <tbody>\n    <tr>\n      <th>0</th>\n      <td>22427</td>\n      <td>22428</td>\n      <td>A Comedy of Errors</td>\n      <td>132.0</td>\n      <td>NaN</td>\n      <td>OCTAVIUS CAESAR</td>\n      <td>ACT I</td>\n    </tr>\n    <tr>\n      <th>1</th>\n      <td>22428</td>\n      <td>22429</td>\n      <td>A Comedy of Errors</td>\n      <td>132.0</td>\n      <td>NaN</td>\n      <td>OCTAVIUS CAESAR</td>\n      <td>SCENE I. A hall in DUKE SOLINUS'S palace.</td>\n    </tr>\n    <tr>\n      <th>2</th>\n      <td>22429</td>\n      <td>22430</td>\n      <td>A Comedy of Errors</td>\n      <td>132.0</td>\n      <td>NaN</td>\n      <td>OCTAVIUS CAESAR</td>\n      <td>Enter DUKE SOLINUS, AEGEON, Gaoler, Officers, ...</td>\n    </tr>\n    <tr>\n      <th>3</th>\n      <td>22430</td>\n      <td>22431</td>\n      <td>A Comedy of Errors</td>\n      <td>1.0</td>\n      <td>1.1.1</td>\n      <td>AEGEON</td>\n      <td>Proceed, Solinus, to procure my fall</td>\n    </tr>\n    <tr>\n      <th>4</th>\n      <td>22431</td>\n      <td>22432</td>\n      <td>A Comedy of Errors</td>\n      <td>1.0</td>\n      <td>1.1.2</td>\n      <td>AEGEON</td>\n      <td>And by the doom of death end woes and all.</td>\n    </tr>\n    <tr>\n      <th>...</th>\n      <td>...</td>\n      <td>...</td>\n      <td>...</td>\n      <td>...</td>\n      <td>...</td>\n      <td>...</td>\n      <td>...</td>\n    </tr>\n    <tr>\n      <th>111391</th>\n      <td>107902</td>\n      <td>107903</td>\n      <td>Two Gentlemen of Verona</td>\n      <td>52.0</td>\n      <td>5.4.177</td>\n      <td>VALENTINE</td>\n      <td>Come, Proteus, 'tis your penance but to hear</td>\n    </tr>\n    <tr>\n      <th>111392</th>\n      <td>107903</td>\n      <td>107904</td>\n      <td>Two Gentlemen of Verona</td>\n      <td>52.0</td>\n      <td>5.4.178</td>\n      <td>VALENTINE</td>\n      <td>The story of your loves discovered:</td>\n    </tr>\n    <tr>\n      <th>111393</th>\n      <td>107904</td>\n      <td>107905</td>\n      <td>Two Gentlemen of Verona</td>\n      <td>52.0</td>\n      <td>5.4.179</td>\n      <td>VALENTINE</td>\n      <td>That done, our day of marriage shall be yours,</td>\n    </tr>\n    <tr>\n      <th>111394</th>\n      <td>107905</td>\n      <td>107906</td>\n      <td>Two Gentlemen of Verona</td>\n      <td>52.0</td>\n      <td>5.4.180</td>\n      <td>VALENTINE</td>\n      <td>One feast, one house, one mutual happiness.</td>\n    </tr>\n    <tr>\n      <th>111395</th>\n      <td>107906</td>\n      <td>107907</td>\n      <td>Two Gentlemen of Verona</td>\n      <td>52.0</td>\n      <td>NaN</td>\n      <td>VALENTINE</td>\n      <td>Exeunt</td>\n    </tr>\n  </tbody>\n</table>\n<p>111396 rows × 7 columns</p>\n</div>"
     },
     "execution_count": 4,
     "metadata": {},
     "output_type": "execute_result"
    }
   ],
   "source": [
    "df"
   ],
   "metadata": {
    "collapsed": false,
    "pycharm": {
     "name": "#%%\n"
    }
   }
  },
  {
   "cell_type": "code",
   "execution_count": 5,
   "outputs": [
    {
     "data": {
      "text/plain": "          Unnamed: 0       Dataline  PlayerLinenumber\ncount  111396.000000  111396.000000     111393.000000\nmean    55697.500000   55698.500000         36.885334\nstd     32157.399631   32157.399631         39.985840\nmin         0.000000       1.000000          1.000000\n25%     27848.750000   27849.750000         10.000000\n50%     55697.500000   55698.500000         25.000000\n75%     83546.250000   83547.250000         50.000000\nmax    111395.000000  111396.000000        405.000000",
      "text/html": "<div>\n<style scoped>\n    .dataframe tbody tr th:only-of-type {\n        vertical-align: middle;\n    }\n\n    .dataframe tbody tr th {\n        vertical-align: top;\n    }\n\n    .dataframe thead th {\n        text-align: right;\n    }\n</style>\n<table border=\"1\" class=\"dataframe\">\n  <thead>\n    <tr style=\"text-align: right;\">\n      <th></th>\n      <th>Unnamed: 0</th>\n      <th>Dataline</th>\n      <th>PlayerLinenumber</th>\n    </tr>\n  </thead>\n  <tbody>\n    <tr>\n      <th>count</th>\n      <td>111396.000000</td>\n      <td>111396.000000</td>\n      <td>111393.000000</td>\n    </tr>\n    <tr>\n      <th>mean</th>\n      <td>55697.500000</td>\n      <td>55698.500000</td>\n      <td>36.885334</td>\n    </tr>\n    <tr>\n      <th>std</th>\n      <td>32157.399631</td>\n      <td>32157.399631</td>\n      <td>39.985840</td>\n    </tr>\n    <tr>\n      <th>min</th>\n      <td>0.000000</td>\n      <td>1.000000</td>\n      <td>1.000000</td>\n    </tr>\n    <tr>\n      <th>25%</th>\n      <td>27848.750000</td>\n      <td>27849.750000</td>\n      <td>10.000000</td>\n    </tr>\n    <tr>\n      <th>50%</th>\n      <td>55697.500000</td>\n      <td>55698.500000</td>\n      <td>25.000000</td>\n    </tr>\n    <tr>\n      <th>75%</th>\n      <td>83546.250000</td>\n      <td>83547.250000</td>\n      <td>50.000000</td>\n    </tr>\n    <tr>\n      <th>max</th>\n      <td>111395.000000</td>\n      <td>111396.000000</td>\n      <td>405.000000</td>\n    </tr>\n  </tbody>\n</table>\n</div>"
     },
     "execution_count": 5,
     "metadata": {},
     "output_type": "execute_result"
    }
   ],
   "source": [
    "df.describe()"
   ],
   "metadata": {
    "collapsed": false,
    "pycharm": {
     "name": "#%%\n"
    }
   }
  },
  {
   "cell_type": "code",
   "execution_count": 6,
   "outputs": [
    {
     "data": {
      "text/plain": "Unnamed: 0             0\nDataline               0\nPlay                   0\nPlayerLinenumber       3\nActSceneLine        6243\nPlayer                 7\nPlayerLine             0\ndtype: int64"
     },
     "execution_count": 6,
     "metadata": {},
     "output_type": "execute_result"
    }
   ],
   "source": [
    "df.isnull().sum()"
   ],
   "metadata": {
    "collapsed": false,
    "pycharm": {
     "name": "#%%\n"
    }
   }
  },
  {
   "cell_type": "code",
   "execution_count": 22,
   "outputs": [
    {
     "data": {
      "text/plain": "array(['OCTAVIUS CAESAR', 'AEGEON', 'DUKE SOLINUS', 'Gaoler',\n       'First Merchant', 'OF SYRACUSE', 'DROMIO OF SYRACUSE',\n       'DROMIO OF EPHESUS', 'ADRIANA', 'LUCIANA', 'OF EPHESUS',\n       'BALTHAZAR', 'LUCE', 'ANTIPHOLUS', 'ANGELO', 'Second Merchant',\n       'Officer', 'Courtezan', 'PINCH', 'AEMELIA', 'Servant'],\n      dtype=object)"
     },
     "execution_count": 22,
     "metadata": {},
     "output_type": "execute_result"
    }
   ],
   "source": [
    "filtro_players = df.groupby('Play')['Player'].unique()\n",
    "filtro_players = filtro_players.apply(lambda x: len(x))\n",
    "filtro_players"
   ],
   "metadata": {
    "collapsed": false,
    "pycharm": {
     "name": "#%%\n"
    }
   }
  },
  {
   "cell_type": "code",
   "execution_count": null,
   "outputs": [],
   "source": [],
   "metadata": {
    "collapsed": false,
    "pycharm": {
     "name": "#%%\n"
    }
   }
  }
 ],
 "metadata": {
  "kernelspec": {
   "display_name": "Python 3",
   "language": "python",
   "name": "python3"
  },
  "language_info": {
   "codemirror_mode": {
    "name": "ipython",
    "version": 2
   },
   "file_extension": ".py",
   "mimetype": "text/x-python",
   "name": "python",
   "nbconvert_exporter": "python",
   "pygments_lexer": "ipython2",
   "version": "2.7.6"
  }
 },
 "nbformat": 4,
 "nbformat_minor": 0
}