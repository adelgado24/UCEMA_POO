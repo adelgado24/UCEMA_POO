{
 "cells": [
  {
   "cell_type": "code",
   "execution_count": 33,
   "metadata": {
    "collapsed": true
   },
   "outputs": [],
   "source": [
    "import pandas as pd"
   ]
  },
  {
   "cell_type": "code",
   "execution_count": 34,
   "outputs": [],
   "source": [
    "df = pd.read_csv('data/alllines.txt', sep ='\"')"
   ],
   "metadata": {
    "collapsed": false,
    "pycharm": {
     "name": "#%%\n"
    }
   }
  },
  {
   "cell_type": "code",
   "execution_count": 35,
   "outputs": [
    {
     "data": {
      "text/plain": "                                                    ACT I\n0                            SCENE I. London. The palace.\n1       Enter KING HENRY, LORD JOHN OF LANCASTER, the ...\n2                  So shaken as we are, so wan with care,\n3              Find we a time for frighted peace to pant,\n4          And breathe short-winded accents of new broils\n...                                                   ...\n111390         Lead us from hence, where we may leisurely\n111391              Each one demand an answer to his part\n111392     Perform'd in this wide gap of time since first\n111393             We were dissever'd: hastily lead away.\n111394                                             Exeunt\n\n[111395 rows x 1 columns]",
      "text/html": "<div>\n<style scoped>\n    .dataframe tbody tr th:only-of-type {\n        vertical-align: middle;\n    }\n\n    .dataframe tbody tr th {\n        vertical-align: top;\n    }\n\n    .dataframe thead th {\n        text-align: right;\n    }\n</style>\n<table border=\"1\" class=\"dataframe\">\n  <thead>\n    <tr style=\"text-align: right;\">\n      <th></th>\n      <th>ACT I</th>\n    </tr>\n  </thead>\n  <tbody>\n    <tr>\n      <th>0</th>\n      <td>SCENE I. London. The palace.</td>\n    </tr>\n    <tr>\n      <th>1</th>\n      <td>Enter KING HENRY, LORD JOHN OF LANCASTER, the ...</td>\n    </tr>\n    <tr>\n      <th>2</th>\n      <td>So shaken as we are, so wan with care,</td>\n    </tr>\n    <tr>\n      <th>3</th>\n      <td>Find we a time for frighted peace to pant,</td>\n    </tr>\n    <tr>\n      <th>4</th>\n      <td>And breathe short-winded accents of new broils</td>\n    </tr>\n    <tr>\n      <th>...</th>\n      <td>...</td>\n    </tr>\n    <tr>\n      <th>111390</th>\n      <td>Lead us from hence, where we may leisurely</td>\n    </tr>\n    <tr>\n      <th>111391</th>\n      <td>Each one demand an answer to his part</td>\n    </tr>\n    <tr>\n      <th>111392</th>\n      <td>Perform'd in this wide gap of time since first</td>\n    </tr>\n    <tr>\n      <th>111393</th>\n      <td>We were dissever'd: hastily lead away.</td>\n    </tr>\n    <tr>\n      <th>111394</th>\n      <td>Exeunt</td>\n    </tr>\n  </tbody>\n</table>\n<p>111395 rows × 1 columns</p>\n</div>"
     },
     "execution_count": 35,
     "metadata": {},
     "output_type": "execute_result"
    }
   ],
   "source": [
    "df"
   ],
   "metadata": {
    "collapsed": false,
    "pycharm": {
     "name": "#%%\n"
    }
   }
  },
  {
   "cell_type": "code",
   "execution_count": 36,
   "outputs": [
    {
     "data": {
      "text/plain": "ACT I    0\ndtype: int64"
     },
     "execution_count": 36,
     "metadata": {},
     "output_type": "execute_result"
    }
   ],
   "source": [
    "df.isnull().sum()"
   ],
   "metadata": {
    "collapsed": false,
    "pycharm": {
     "name": "#%%\n"
    }
   }
  },
  {
   "cell_type": "code",
   "execution_count": 37,
   "outputs": [
    {
     "data": {
      "text/plain": "729"
     },
     "execution_count": 37,
     "metadata": {},
     "output_type": "execute_result"
    }
   ],
   "source": [
    "df['ACT I'].str.contains('SCENE').sum()"
   ],
   "metadata": {
    "collapsed": false,
    "pycharm": {
     "name": "#%%\n"
    }
   }
  },
  {
   "cell_type": "code",
   "execution_count": 40,
   "outputs": [
    {
     "data": {
      "text/plain": "179"
     },
     "execution_count": 40,
     "metadata": {},
     "output_type": "execute_result"
    }
   ],
   "source": [
    "df['ACT I'].str.contains('ACT', case = True).sum()"
   ],
   "metadata": {
    "collapsed": false,
    "pycharm": {
     "name": "#%%\n"
    }
   }
  },
  {
   "cell_type": "code",
   "execution_count": 39,
   "outputs": [],
   "source": [],
   "metadata": {
    "collapsed": false,
    "pycharm": {
     "name": "#%%\n"
    }
   }
  }
 ],
 "metadata": {
  "kernelspec": {
   "display_name": "Python 3",
   "language": "python",
   "name": "python3"
  },
  "language_info": {
   "codemirror_mode": {
    "name": "ipython",
    "version": 2
   },
   "file_extension": ".py",
   "mimetype": "text/x-python",
   "name": "python",
   "nbconvert_exporter": "python",
   "pygments_lexer": "ipython2",
   "version": "2.7.6"
  }
 },
 "nbformat": 4,
 "nbformat_minor": 0
}