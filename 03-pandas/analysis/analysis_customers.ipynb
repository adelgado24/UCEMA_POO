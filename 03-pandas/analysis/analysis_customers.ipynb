{
 "cells": [
  {
   "cell_type": "code",
   "execution_count": 54,
   "metadata": {
    "collapsed": true,
    "pycharm": {
     "name": "#%%\n"
    }
   },
   "outputs": [],
   "source": [
    "import pandas as pd\n",
    "from collections import Counter"
   ]
  },
  {
   "cell_type": "code",
   "execution_count": 55,
   "outputs": [],
   "source": [
    "df = pd.read_csv(\"data/para_borrar.tsv\", sep = \"\\t\")"
   ],
   "metadata": {
    "collapsed": false,
    "pycharm": {
     "name": "#%%\n"
    }
   }
  },
  {
   "cell_type": "code",
   "execution_count": 56,
   "outputs": [
    {
     "data": {
      "text/plain": "      Fecha de respuesta     id Edad  Customer Value  \\\n0          6/30/19 23:09      1   43             1.0   \n1          6/30/19 22:56      2   75             1.0   \n2          6/30/19 22:52      3   23             1.0   \n3          6/30/19 22:33      4   71             2.0   \n4          6/30/19 22:25      5   64             2.0   \n...                  ...    ...  ...             ...   \n35821        1/1/19 8:48  32233   63             2.0   \n35822        1/1/19 3:40  32234   35             2.0   \n35823        1/1/19 2:04  32235   41             2.0   \n35824        1/1/19 1:07  32236   66             1.0   \n35825        1/1/19 0:47  32237   54             1.0   \n\n       Probabilidad de Recomendación  \\\n0                               10.0   \n1                               10.0   \n2                               10.0   \n3                               10.0   \n4                                9.0   \n...                              ...   \n35821                           10.0   \n35822                            4.0   \n35823                           10.0   \n35824                           10.0   \n35825                            7.0   \n\n                                               ¿Por que?  \\\n0                         buen servicio y buena atención   \n1                        Eficiencia, amabilidad, rapidez   \n2                                         Todo excelente   \n3      Vienen enseguida y siempre me solucionan el pr...   \n4      Cumplió de acuerdo a mis expectativas, horario...   \n...                                                  ...   \n35821                                      buen servicio   \n35822  La falta de compromiso de parte del seguro por...   \n35823      Buena atención y rápida solución de problemas   \n35824     Persona muy eficiente,responsable y educado. ,   \n35825                            Es correcto el servicio   \n\n      Date of 1st Feedback Call Resultado del Primer contacto  \\\n0                           NaN                           NaN   \n1                           NaN                           NaN   \n2                           NaN                           NaN   \n3                           NaN                           NaN   \n4                           NaN                           NaN   \n...                         ...                           ...   \n35821                       NaN                           NaN   \n35822                02/01/2018                 No contactado   \n35823                       NaN                           NaN   \n35824                       NaN                           NaN   \n35825                       NaN                           NaN   \n\n                      Descripción detallada del contacto  \\\n0                                                    NaN   \n1                                                    NaN   \n2                                                    NaN   \n3                                                    NaN   \n4                                                    NaN   \n...                                                  ...   \n35821                                                NaN   \n35822  no es posible establecer contacto con la titul...   \n35823                                                NaN   \n35824                                                NaN   \n35825                                                NaN   \n\n      Fuiste capaz de resolver el inconveniente?  \\\n0                                            NaN   \n1                                            NaN   \n2                                            NaN   \n3                                            NaN   \n4                                            NaN   \n...                                          ...   \n35821                                        NaN   \n35822                                         No   \n35823                                        NaN   \n35824                                        NaN   \n35825                                        NaN   \n\n      El cliente se encontró satisfecho con el resultado?  \n0                                                    NaN   \n1                                                    NaN   \n2                                                    NaN   \n3                                                    NaN   \n4                                                    NaN   \n...                                                  ...   \n35821                                                NaN   \n35822                                                 No   \n35823                                                NaN   \n35824                                                NaN   \n35825                                                NaN   \n\n[35826 rows x 11 columns]",
      "text/html": "<div>\n<style scoped>\n    .dataframe tbody tr th:only-of-type {\n        vertical-align: middle;\n    }\n\n    .dataframe tbody tr th {\n        vertical-align: top;\n    }\n\n    .dataframe thead th {\n        text-align: right;\n    }\n</style>\n<table border=\"1\" class=\"dataframe\">\n  <thead>\n    <tr style=\"text-align: right;\">\n      <th></th>\n      <th>Fecha de respuesta</th>\n      <th>id</th>\n      <th>Edad</th>\n      <th>Customer Value</th>\n      <th>Probabilidad de Recomendación</th>\n      <th>¿Por que?</th>\n      <th>Date of 1st Feedback Call</th>\n      <th>Resultado del Primer contacto</th>\n      <th>Descripción detallada del contacto</th>\n      <th>Fuiste capaz de resolver el inconveniente?</th>\n      <th>El cliente se encontró satisfecho con el resultado?</th>\n    </tr>\n  </thead>\n  <tbody>\n    <tr>\n      <th>0</th>\n      <td>6/30/19 23:09</td>\n      <td>1</td>\n      <td>43</td>\n      <td>1.0</td>\n      <td>10.0</td>\n      <td>buen servicio y buena atención</td>\n      <td>NaN</td>\n      <td>NaN</td>\n      <td>NaN</td>\n      <td>NaN</td>\n      <td>NaN</td>\n    </tr>\n    <tr>\n      <th>1</th>\n      <td>6/30/19 22:56</td>\n      <td>2</td>\n      <td>75</td>\n      <td>1.0</td>\n      <td>10.0</td>\n      <td>Eficiencia, amabilidad, rapidez</td>\n      <td>NaN</td>\n      <td>NaN</td>\n      <td>NaN</td>\n      <td>NaN</td>\n      <td>NaN</td>\n    </tr>\n    <tr>\n      <th>2</th>\n      <td>6/30/19 22:52</td>\n      <td>3</td>\n      <td>23</td>\n      <td>1.0</td>\n      <td>10.0</td>\n      <td>Todo excelente</td>\n      <td>NaN</td>\n      <td>NaN</td>\n      <td>NaN</td>\n      <td>NaN</td>\n      <td>NaN</td>\n    </tr>\n    <tr>\n      <th>3</th>\n      <td>6/30/19 22:33</td>\n      <td>4</td>\n      <td>71</td>\n      <td>2.0</td>\n      <td>10.0</td>\n      <td>Vienen enseguida y siempre me solucionan el pr...</td>\n      <td>NaN</td>\n      <td>NaN</td>\n      <td>NaN</td>\n      <td>NaN</td>\n      <td>NaN</td>\n    </tr>\n    <tr>\n      <th>4</th>\n      <td>6/30/19 22:25</td>\n      <td>5</td>\n      <td>64</td>\n      <td>2.0</td>\n      <td>9.0</td>\n      <td>Cumplió de acuerdo a mis expectativas, horario...</td>\n      <td>NaN</td>\n      <td>NaN</td>\n      <td>NaN</td>\n      <td>NaN</td>\n      <td>NaN</td>\n    </tr>\n    <tr>\n      <th>...</th>\n      <td>...</td>\n      <td>...</td>\n      <td>...</td>\n      <td>...</td>\n      <td>...</td>\n      <td>...</td>\n      <td>...</td>\n      <td>...</td>\n      <td>...</td>\n      <td>...</td>\n      <td>...</td>\n    </tr>\n    <tr>\n      <th>35821</th>\n      <td>1/1/19 8:48</td>\n      <td>32233</td>\n      <td>63</td>\n      <td>2.0</td>\n      <td>10.0</td>\n      <td>buen servicio</td>\n      <td>NaN</td>\n      <td>NaN</td>\n      <td>NaN</td>\n      <td>NaN</td>\n      <td>NaN</td>\n    </tr>\n    <tr>\n      <th>35822</th>\n      <td>1/1/19 3:40</td>\n      <td>32234</td>\n      <td>35</td>\n      <td>2.0</td>\n      <td>4.0</td>\n      <td>La falta de compromiso de parte del seguro por...</td>\n      <td>02/01/2018</td>\n      <td>No contactado</td>\n      <td>no es posible establecer contacto con la titul...</td>\n      <td>No</td>\n      <td>No</td>\n    </tr>\n    <tr>\n      <th>35823</th>\n      <td>1/1/19 2:04</td>\n      <td>32235</td>\n      <td>41</td>\n      <td>2.0</td>\n      <td>10.0</td>\n      <td>Buena atención y rápida solución de problemas</td>\n      <td>NaN</td>\n      <td>NaN</td>\n      <td>NaN</td>\n      <td>NaN</td>\n      <td>NaN</td>\n    </tr>\n    <tr>\n      <th>35824</th>\n      <td>1/1/19 1:07</td>\n      <td>32236</td>\n      <td>66</td>\n      <td>1.0</td>\n      <td>10.0</td>\n      <td>Persona muy eficiente,responsable y educado. ,</td>\n      <td>NaN</td>\n      <td>NaN</td>\n      <td>NaN</td>\n      <td>NaN</td>\n      <td>NaN</td>\n    </tr>\n    <tr>\n      <th>35825</th>\n      <td>1/1/19 0:47</td>\n      <td>32237</td>\n      <td>54</td>\n      <td>1.0</td>\n      <td>7.0</td>\n      <td>Es correcto el servicio</td>\n      <td>NaN</td>\n      <td>NaN</td>\n      <td>NaN</td>\n      <td>NaN</td>\n      <td>NaN</td>\n    </tr>\n  </tbody>\n</table>\n<p>35826 rows × 11 columns</p>\n</div>"
     },
     "execution_count": 56,
     "metadata": {},
     "output_type": "execute_result"
    }
   ],
   "source": [
    "df"
   ],
   "metadata": {
    "collapsed": false,
    "pycharm": {
     "name": "#%%\n"
    }
   }
  },
  {
   "cell_type": "code",
   "execution_count": 57,
   "outputs": [
    {
     "name": "stdout",
     "output_type": "stream",
     "text": [
      "La edad promedio es 49\n"
     ]
    }
   ],
   "source": [
    "df['Edad'] = pd.to_numeric(df['Edad'], errors='coerce')\n",
    "print(f'La edad promedio es {round(df.Edad.mean())}')"
   ],
   "metadata": {
    "collapsed": false,
    "pycharm": {
     "name": "#%%\n"
    }
   }
  },
  {
   "cell_type": "code",
   "execution_count": 58,
   "outputs": [
    {
     "name": "stdout",
     "output_type": "stream",
     "text": [
      "El promedio de la probabilidad de recomendacion es de: 8.34\n"
     ]
    }
   ],
   "source": [
    "print(f'El promedio de la probabilidad de recomendacion es de: {round(df[\"Probabilidad de Recomendación\"].mean(),2)}')"
   ],
   "metadata": {
    "collapsed": false,
    "pycharm": {
     "name": "#%%\n"
    }
   }
  },
  {
   "cell_type": "code",
   "execution_count": 59,
   "outputs": [
    {
     "data": {
      "text/plain": "      Fecha de respuesta     id  Edad  Customer Value  \\\n9          6/30/19 19:54     10  50.0             3.0   \n16         6/30/19 14:47     17  52.0             2.0   \n24         6/30/19 10:42     25  54.0             2.0   \n30         6/29/19 23:32     30  64.0             1.0   \n38         6/29/19 20:15     37  44.0             1.0   \n...                  ...    ...   ...             ...   \n35719       1/2/19 15:46  32142  43.0             1.0   \n35733       1/2/19 13:17  32151  33.0             2.0   \n35753       1/2/19 11:00  32167  43.0             2.0   \n35761       1/2/19 10:39  32175  43.0             1.0   \n35795       1/1/19 18:49  32207  52.0             2.0   \n\n       Probabilidad de Recomendación  \\\n9                                1.0   \n16                               3.0   \n24                               0.0   \n30                               3.0   \n38                               0.0   \n...                              ...   \n35719                            0.0   \n35733                            1.0   \n35753                            0.0   \n35761                            3.0   \n35795                            1.0   \n\n                                               ¿Por que?  \\\n9      NO ME CUBRIERON ROTURA DE PARABRISA CUANDO LA ...   \n16     Nunca resolvieron mi reclamo. Todos me dan una...   \n24     la gente que atiende ante la denuncia de un si...   \n30     No intentaron reparar el inconveniente en el a...   \n38     cuatro veces me acerque a su oficina de adrogu...   \n...                                                  ...   \n35719  Pedí seguro de mí auto y me agregaron otros se...   \n35733             Di la baja y me cobraron igual el mes.   \n35753  que el servicio fue burocratico, nunca llego, ...   \n35761                        No se soluciono el problema   \n35795  No envian jamas la tarjeta de seguro , tuve q ...   \n\n      Date of 1st Feedback Call                Resultado del Primer contacto  \\\n9                         01/07                             Contacto exitoso   \n16                   01/07/2019  Contestador automático - no se dejo mensaje   \n24                   01/07/2019                             Contacto exitoso   \n30                   01/07/2019                             Contacto exitoso   \n38                   01/07/2019                             Contacto exitoso   \n...                         ...                                          ...   \n35719                03/01/2019                                No contactado   \n35733                02/01/2019  Contestador automático - no se dejo mensaje   \n35753                02/01/2019                                No contactado   \n35761                02/01/2019  Contestador automático - no se dejo mensaje   \n35795                02/01/2019                                No contactado   \n\n                      Descripción detallada del contacto  \\\n9                         Reclama respuesta de siniestro   \n16                                                   NaN   \n24     Contactada la asegurada, se quejaba del trato ...   \n30     Se comunica al Auxilio y ni siquiera abrió el ...   \n38     Nos comunicamos al celular y atendió el esposo...   \n...                                                  ...   \n35719                                                NaN   \n35733                                                NaN   \n35753  no brindas mas datos que los brindado en la en...   \n35761                                                NaN   \n35795                                                  -   \n\n      Fuiste capaz de resolver el inconveniente?  \\\n9                                             Sí   \n16                                            Sí   \n24                                           NaN   \n30                                           NaN   \n38                                            Sí   \n...                                          ...   \n35719                                        NaN   \n35733                                        NaN   \n35753                                         No   \n35761                                        NaN   \n35795                                         No   \n\n      El cliente se encontró satisfecho con el resultado?  \n9                                                     Sí   \n16                                                    Sí   \n24                                                   NaN   \n30                                                   NaN   \n38                                                    Sí   \n...                                                  ...   \n35719                                                NaN   \n35733                                                NaN   \n35753                                                 No   \n35761                                                NaN   \n35795                                                 No   \n\n[2427 rows x 11 columns]",
      "text/html": "<div>\n<style scoped>\n    .dataframe tbody tr th:only-of-type {\n        vertical-align: middle;\n    }\n\n    .dataframe tbody tr th {\n        vertical-align: top;\n    }\n\n    .dataframe thead th {\n        text-align: right;\n    }\n</style>\n<table border=\"1\" class=\"dataframe\">\n  <thead>\n    <tr style=\"text-align: right;\">\n      <th></th>\n      <th>Fecha de respuesta</th>\n      <th>id</th>\n      <th>Edad</th>\n      <th>Customer Value</th>\n      <th>Probabilidad de Recomendación</th>\n      <th>¿Por que?</th>\n      <th>Date of 1st Feedback Call</th>\n      <th>Resultado del Primer contacto</th>\n      <th>Descripción detallada del contacto</th>\n      <th>Fuiste capaz de resolver el inconveniente?</th>\n      <th>El cliente se encontró satisfecho con el resultado?</th>\n    </tr>\n  </thead>\n  <tbody>\n    <tr>\n      <th>9</th>\n      <td>6/30/19 19:54</td>\n      <td>10</td>\n      <td>50.0</td>\n      <td>3.0</td>\n      <td>1.0</td>\n      <td>NO ME CUBRIERON ROTURA DE PARABRISA CUANDO LA ...</td>\n      <td>01/07</td>\n      <td>Contacto exitoso</td>\n      <td>Reclama respuesta de siniestro</td>\n      <td>Sí</td>\n      <td>Sí</td>\n    </tr>\n    <tr>\n      <th>16</th>\n      <td>6/30/19 14:47</td>\n      <td>17</td>\n      <td>52.0</td>\n      <td>2.0</td>\n      <td>3.0</td>\n      <td>Nunca resolvieron mi reclamo. Todos me dan una...</td>\n      <td>01/07/2019</td>\n      <td>Contestador automático - no se dejo mensaje</td>\n      <td>NaN</td>\n      <td>Sí</td>\n      <td>Sí</td>\n    </tr>\n    <tr>\n      <th>24</th>\n      <td>6/30/19 10:42</td>\n      <td>25</td>\n      <td>54.0</td>\n      <td>2.0</td>\n      <td>0.0</td>\n      <td>la gente que atiende ante la denuncia de un si...</td>\n      <td>01/07/2019</td>\n      <td>Contacto exitoso</td>\n      <td>Contactada la asegurada, se quejaba del trato ...</td>\n      <td>NaN</td>\n      <td>NaN</td>\n    </tr>\n    <tr>\n      <th>30</th>\n      <td>6/29/19 23:32</td>\n      <td>30</td>\n      <td>64.0</td>\n      <td>1.0</td>\n      <td>3.0</td>\n      <td>No intentaron reparar el inconveniente en el a...</td>\n      <td>01/07/2019</td>\n      <td>Contacto exitoso</td>\n      <td>Se comunica al Auxilio y ni siquiera abrió el ...</td>\n      <td>NaN</td>\n      <td>NaN</td>\n    </tr>\n    <tr>\n      <th>38</th>\n      <td>6/29/19 20:15</td>\n      <td>37</td>\n      <td>44.0</td>\n      <td>1.0</td>\n      <td>0.0</td>\n      <td>cuatro veces me acerque a su oficina de adrogu...</td>\n      <td>01/07/2019</td>\n      <td>Contacto exitoso</td>\n      <td>Nos comunicamos al celular y atendió el esposo...</td>\n      <td>Sí</td>\n      <td>Sí</td>\n    </tr>\n    <tr>\n      <th>...</th>\n      <td>...</td>\n      <td>...</td>\n      <td>...</td>\n      <td>...</td>\n      <td>...</td>\n      <td>...</td>\n      <td>...</td>\n      <td>...</td>\n      <td>...</td>\n      <td>...</td>\n      <td>...</td>\n    </tr>\n    <tr>\n      <th>35719</th>\n      <td>1/2/19 15:46</td>\n      <td>32142</td>\n      <td>43.0</td>\n      <td>1.0</td>\n      <td>0.0</td>\n      <td>Pedí seguro de mí auto y me agregaron otros se...</td>\n      <td>03/01/2019</td>\n      <td>No contactado</td>\n      <td>NaN</td>\n      <td>NaN</td>\n      <td>NaN</td>\n    </tr>\n    <tr>\n      <th>35733</th>\n      <td>1/2/19 13:17</td>\n      <td>32151</td>\n      <td>33.0</td>\n      <td>2.0</td>\n      <td>1.0</td>\n      <td>Di la baja y me cobraron igual el mes.</td>\n      <td>02/01/2019</td>\n      <td>Contestador automático - no se dejo mensaje</td>\n      <td>NaN</td>\n      <td>NaN</td>\n      <td>NaN</td>\n    </tr>\n    <tr>\n      <th>35753</th>\n      <td>1/2/19 11:00</td>\n      <td>32167</td>\n      <td>43.0</td>\n      <td>2.0</td>\n      <td>0.0</td>\n      <td>que el servicio fue burocratico, nunca llego, ...</td>\n      <td>02/01/2019</td>\n      <td>No contactado</td>\n      <td>no brindas mas datos que los brindado en la en...</td>\n      <td>No</td>\n      <td>No</td>\n    </tr>\n    <tr>\n      <th>35761</th>\n      <td>1/2/19 10:39</td>\n      <td>32175</td>\n      <td>43.0</td>\n      <td>1.0</td>\n      <td>3.0</td>\n      <td>No se soluciono el problema</td>\n      <td>02/01/2019</td>\n      <td>Contestador automático - no se dejo mensaje</td>\n      <td>NaN</td>\n      <td>NaN</td>\n      <td>NaN</td>\n    </tr>\n    <tr>\n      <th>35795</th>\n      <td>1/1/19 18:49</td>\n      <td>32207</td>\n      <td>52.0</td>\n      <td>2.0</td>\n      <td>1.0</td>\n      <td>No envian jamas la tarjeta de seguro , tuve q ...</td>\n      <td>02/01/2019</td>\n      <td>No contactado</td>\n      <td>-</td>\n      <td>No</td>\n      <td>No</td>\n    </tr>\n  </tbody>\n</table>\n<p>2427 rows × 11 columns</p>\n</div>"
     },
     "execution_count": 59,
     "metadata": {},
     "output_type": "execute_result"
    }
   ],
   "source": [
    "df_negativos = df[df['Probabilidad de Recomendación'] < 4]\n",
    "df_negativos"
   ],
   "metadata": {
    "collapsed": false,
    "pycharm": {
     "name": "#%%\n"
    }
   }
  },
  {
   "cell_type": "code",
   "execution_count": 60,
   "outputs": [
    {
     "data": {
      "text/plain": "45.98217247097844"
     },
     "execution_count": 60,
     "metadata": {},
     "output_type": "execute_result"
    }
   ],
   "source": [
    "df_negativos['Edad'].mean()"
   ],
   "metadata": {
    "collapsed": false,
    "pycharm": {
     "name": "#%%\n"
    }
   }
  },
  {
   "cell_type": "code",
   "execution_count": 40,
   "outputs": [
    {
     "name": "stdout",
     "output_type": "stream",
     "text": [
      "[('para', 803), ('seguro', 586), ('auto', 315), ('como', 270), ('cuando', 249), ('tuve', 244), ('siniestro', 233), ('tengo', 232), ('porque', 231), ('servicio', 227), ('atención', 207), ('baja', 199), ('todo', 192), ('nunca', 187), ('pero', 182), ('cliente', 179), ('años', 176), ('pago', 173), ('caja', 157), ('problema', 150)]\n"
     ]
    }
   ],
   "source": [
    "\n",
    "palabras = []\n",
    "for i in df_negativos['¿Por que?']:\n",
    "    try:\n",
    "        for v in i.split():\n",
    "            if len(v) > 3:\n",
    "                palabras.append(v)\n",
    "            else:\n",
    "                pass\n",
    "    except:\n",
    "        pass\n",
    "\n",
    "Counter = Counter(palabras)\n",
    "most_occur = Counter.most_common(20)\n",
    "\n",
    "print(most_occur)"
   ],
   "metadata": {
    "collapsed": false,
    "pycharm": {
     "name": "#%%\n"
    }
   }
  },
  {
   "cell_type": "code",
   "execution_count": 69,
   "outputs": [
    {
     "data": {
      "text/plain": "      Fecha de respuesta     id  Edad  Customer Value  \\\n38         6/29/19 20:15     37  44.0             1.0   \n93         6/28/19 21:49     88  41.0             2.0   \n107        6/28/19 20:38    102  50.0             1.0   \n275        6/28/19 10:49    269  50.0             2.0   \n365        6/27/19 20:09    359  54.0             2.0   \n...                  ...    ...   ...             ...   \n35615       1/3/19 11:03   4708  53.0             2.0   \n35617       1/3/19 11:01  32054  53.0             2.0   \n35698       1/2/19 19:06  32125  36.0             2.0   \n35733       1/2/19 13:17  32151  33.0             2.0   \n35795       1/1/19 18:49  32207  52.0             2.0   \n\n       Probabilidad de Recomendación  \\\n38                               0.0   \n93                               1.0   \n107                              1.0   \n275                              0.0   \n365                              2.0   \n...                              ...   \n35615                            0.0   \n35617                            0.0   \n35698                            0.0   \n35733                            1.0   \n35795                            1.0   \n\n                                               ¿Por que?  \\\n38     cuatro veces me acerque a su oficina de adrogu...   \n93     Porque el producto no es lo que esperaba. Teng...   \n107    fui a la sucursal de neuquen........ (  Me que...   \n275    Fallas graves de la información brindada y des...   \n365    No conforme con el trato departe del mecánico ...   \n...                                                  ...   \n35615  Que por quedarme tirado con el auto dirigiéndo...   \n35617  La grua que solicite me cubria 100 km y por lo...   \n35698  tienen un servicio deplorable. no entiendo com...   \n35733             Di la baja y me cobraron igual el mes.   \n35795  No envian jamas la tarjeta de seguro , tuve q ...   \n\n      Date of 1st Feedback Call                Resultado del Primer contacto  \\\n38                   01/07/2019                             Contacto exitoso   \n93                   03/07/2017                                No contactado   \n107                     1072019                             Contacto exitoso   \n275                  28-06-2019  Contestador automático - no se dejo mensaje   \n365                  28/06/2019  Contestador automático - no se dejo mensaje   \n...                         ...                                          ...   \n35615                04/01/2019                             Contacto exitoso   \n35617                       4/1       El cliente desea reagendar el contacto   \n35698                03/01/2019                             Contacto exitoso   \n35733                02/01/2019  Contestador automático - no se dejo mensaje   \n35795                02/01/2019                                No contactado   \n\n                      Descripción detallada del contacto  \\\n38     Nos comunicamos al celular y atendió el esposo...   \n93                                                   NaN   \n107    Solicito detalles de su molestia y verifico qu...   \n275                                                  NaN   \n365                                                  NaN   \n...                                                  ...   \n35615  El cliente desconocía que tenía cubiertos 100 ...   \n35617                                                NaN   \n35698  La Cliente se quiere dar de baja está muy enoj...   \n35733                                                NaN   \n35795                                                  -   \n\n      Fuiste capaz de resolver el inconveniente?  \\\n38                                            Sí   \n93                                           NaN   \n107                                          NaN   \n275                                          NaN   \n365                                          NaN   \n...                                          ...   \n35615                                         Sí   \n35617                                        NaN   \n35698                                        NaN   \n35733                                        NaN   \n35795                                         No   \n\n      El cliente se encontró satisfecho con el resultado?  \n38                                                    Sí   \n93                                                   NaN   \n107                                                  NaN   \n275                                                  NaN   \n365                                                  NaN   \n...                                                  ...   \n35615                                                 Sí   \n35617                                                NaN   \n35698                                                NaN   \n35733                                                NaN   \n35795                                                 No   \n\n[717 rows x 11 columns]",
      "text/html": "<div>\n<style scoped>\n    .dataframe tbody tr th:only-of-type {\n        vertical-align: middle;\n    }\n\n    .dataframe tbody tr th {\n        vertical-align: top;\n    }\n\n    .dataframe thead th {\n        text-align: right;\n    }\n</style>\n<table border=\"1\" class=\"dataframe\">\n  <thead>\n    <tr style=\"text-align: right;\">\n      <th></th>\n      <th>Fecha de respuesta</th>\n      <th>id</th>\n      <th>Edad</th>\n      <th>Customer Value</th>\n      <th>Probabilidad de Recomendación</th>\n      <th>¿Por que?</th>\n      <th>Date of 1st Feedback Call</th>\n      <th>Resultado del Primer contacto</th>\n      <th>Descripción detallada del contacto</th>\n      <th>Fuiste capaz de resolver el inconveniente?</th>\n      <th>El cliente se encontró satisfecho con el resultado?</th>\n    </tr>\n  </thead>\n  <tbody>\n    <tr>\n      <th>38</th>\n      <td>6/29/19 20:15</td>\n      <td>37</td>\n      <td>44.0</td>\n      <td>1.0</td>\n      <td>0.0</td>\n      <td>cuatro veces me acerque a su oficina de adrogu...</td>\n      <td>01/07/2019</td>\n      <td>Contacto exitoso</td>\n      <td>Nos comunicamos al celular y atendió el esposo...</td>\n      <td>Sí</td>\n      <td>Sí</td>\n    </tr>\n    <tr>\n      <th>93</th>\n      <td>6/28/19 21:49</td>\n      <td>88</td>\n      <td>41.0</td>\n      <td>2.0</td>\n      <td>1.0</td>\n      <td>Porque el producto no es lo que esperaba. Teng...</td>\n      <td>03/07/2017</td>\n      <td>No contactado</td>\n      <td>NaN</td>\n      <td>NaN</td>\n      <td>NaN</td>\n    </tr>\n    <tr>\n      <th>107</th>\n      <td>6/28/19 20:38</td>\n      <td>102</td>\n      <td>50.0</td>\n      <td>1.0</td>\n      <td>1.0</td>\n      <td>fui a la sucursal de neuquen........ (  Me que...</td>\n      <td>1072019</td>\n      <td>Contacto exitoso</td>\n      <td>Solicito detalles de su molestia y verifico qu...</td>\n      <td>NaN</td>\n      <td>NaN</td>\n    </tr>\n    <tr>\n      <th>275</th>\n      <td>6/28/19 10:49</td>\n      <td>269</td>\n      <td>50.0</td>\n      <td>2.0</td>\n      <td>0.0</td>\n      <td>Fallas graves de la información brindada y des...</td>\n      <td>28-06-2019</td>\n      <td>Contestador automático - no se dejo mensaje</td>\n      <td>NaN</td>\n      <td>NaN</td>\n      <td>NaN</td>\n    </tr>\n    <tr>\n      <th>365</th>\n      <td>6/27/19 20:09</td>\n      <td>359</td>\n      <td>54.0</td>\n      <td>2.0</td>\n      <td>2.0</td>\n      <td>No conforme con el trato departe del mecánico ...</td>\n      <td>28/06/2019</td>\n      <td>Contestador automático - no se dejo mensaje</td>\n      <td>NaN</td>\n      <td>NaN</td>\n      <td>NaN</td>\n    </tr>\n    <tr>\n      <th>...</th>\n      <td>...</td>\n      <td>...</td>\n      <td>...</td>\n      <td>...</td>\n      <td>...</td>\n      <td>...</td>\n      <td>...</td>\n      <td>...</td>\n      <td>...</td>\n      <td>...</td>\n      <td>...</td>\n    </tr>\n    <tr>\n      <th>35615</th>\n      <td>1/3/19 11:03</td>\n      <td>4708</td>\n      <td>53.0</td>\n      <td>2.0</td>\n      <td>0.0</td>\n      <td>Que por quedarme tirado con el auto dirigiéndo...</td>\n      <td>04/01/2019</td>\n      <td>Contacto exitoso</td>\n      <td>El cliente desconocía que tenía cubiertos 100 ...</td>\n      <td>Sí</td>\n      <td>Sí</td>\n    </tr>\n    <tr>\n      <th>35617</th>\n      <td>1/3/19 11:01</td>\n      <td>32054</td>\n      <td>53.0</td>\n      <td>2.0</td>\n      <td>0.0</td>\n      <td>La grua que solicite me cubria 100 km y por lo...</td>\n      <td>4/1</td>\n      <td>El cliente desea reagendar el contacto</td>\n      <td>NaN</td>\n      <td>NaN</td>\n      <td>NaN</td>\n    </tr>\n    <tr>\n      <th>35698</th>\n      <td>1/2/19 19:06</td>\n      <td>32125</td>\n      <td>36.0</td>\n      <td>2.0</td>\n      <td>0.0</td>\n      <td>tienen un servicio deplorable. no entiendo com...</td>\n      <td>03/01/2019</td>\n      <td>Contacto exitoso</td>\n      <td>La Cliente se quiere dar de baja está muy enoj...</td>\n      <td>NaN</td>\n      <td>NaN</td>\n    </tr>\n    <tr>\n      <th>35733</th>\n      <td>1/2/19 13:17</td>\n      <td>32151</td>\n      <td>33.0</td>\n      <td>2.0</td>\n      <td>1.0</td>\n      <td>Di la baja y me cobraron igual el mes.</td>\n      <td>02/01/2019</td>\n      <td>Contestador automático - no se dejo mensaje</td>\n      <td>NaN</td>\n      <td>NaN</td>\n      <td>NaN</td>\n    </tr>\n    <tr>\n      <th>35795</th>\n      <td>1/1/19 18:49</td>\n      <td>32207</td>\n      <td>52.0</td>\n      <td>2.0</td>\n      <td>1.0</td>\n      <td>No envian jamas la tarjeta de seguro , tuve q ...</td>\n      <td>02/01/2019</td>\n      <td>No contactado</td>\n      <td>-</td>\n      <td>No</td>\n      <td>No</td>\n    </tr>\n  </tbody>\n</table>\n<p>717 rows × 11 columns</p>\n</div>"
     },
     "execution_count": 69,
     "metadata": {},
     "output_type": "execute_result"
    }
   ],
   "source": [
    "df_malos = df_negativos[df_negativos['¿Por que?'].str.contains('mal|grave|baj|caro|pesimo|respeto|horas|desastre|veces')]\n",
    "df_malos"
   ],
   "metadata": {
    "collapsed": false,
    "pycharm": {
     "name": "#%%\n"
    }
   }
  }
 ],
 "metadata": {
  "kernelspec": {
   "display_name": "Python 3",
   "language": "python",
   "name": "python3"
  },
  "language_info": {
   "codemirror_mode": {
    "name": "ipython",
    "version": 2
   },
   "file_extension": ".py",
   "mimetype": "text/x-python",
   "name": "python",
   "nbconvert_exporter": "python",
   "pygments_lexer": "ipython2",
   "version": "2.7.6"
  }
 },
 "nbformat": 4,
 "nbformat_minor": 0
}