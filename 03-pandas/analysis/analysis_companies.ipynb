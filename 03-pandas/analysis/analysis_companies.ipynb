{
 "cells": [
  {
   "cell_type": "code",
   "execution_count": 1,
   "metadata": {
    "collapsed": true
   },
   "outputs": [],
   "source": [
    "import pandas as pd"
   ]
  },
  {
   "cell_type": "code",
   "execution_count": 2,
   "outputs": [],
   "source": [
    "df = pd.read_csv(\"data/companies.csv\")"
   ],
   "metadata": {
    "collapsed": false,
    "pycharm": {
     "name": "#%%\n"
    }
   }
  },
  {
   "cell_type": "code",
   "execution_count": 3,
   "outputs": [
    {
     "data": {
      "text/plain": "     Rank               Title                           Website  Employees  \\\n0       1             Walmart            http://www.walmart.com    2300000   \n1       2  Berkshire Hathaway  http://www.berkshirehathaway.com     367700   \n2       3               Apple              http://www.apple.com     116000   \n3       4         Exxon Mobil         http://www.exxonmobil.com      72700   \n4       5            McKesson           http://www.mckesson.com      68000   \n..    ...                 ...                               ...        ...   \n495   496       Michaels Cos.           http://www.michaels.com      31000   \n496   497       Toll Brothers       http://www.tollbrothers.com       4200   \n497   498               Yahoo              http://www.yahoo.com       8500   \n498   499       Vistra Energy       http://www.vistraenergy.com       4431   \n499   500      ABM Industries                http://www.abm.com     110000   \n\n                         Sector                                  Industry  \\\n0                     Retailing                     General Merchandisers   \n1                    Financials  Insurance: Property and Casualty (Stock)   \n2                    Technology               Computers, Office Equipment   \n3                        Energy                        Petroleum Refining   \n4                   Wholesalers                  Wholesalers: Health Care   \n..                          ...                                       ...   \n495                   Retailing                Specialty Retailers: Other   \n496  Engineering & Construction                              Homebuilders   \n497                  Technology           Internet Services and Retailing   \n498                      Energy                                    Energy   \n499           Business Services          Diversified Outsourcing Services   \n\n            Hqlocation                  Hqaddr         Hqcity Hqstate  ...  \\\n0      Bentonville, AR     702 S.W. Eighth St.    Bentonville      AR  ...   \n1            Omaha, NE         3555 Farnam St.          Omaha      NE  ...   \n2        Cupertino, CA         1 Infinite Loop      Cupertino      CA  ...   \n3           Irving, TX  5959 Las Colinas Blvd.         Irving      TX  ...   \n4    San Francisco, CA              1 Post St.  San Francisco      CA  ...   \n..                 ...                     ...            ...     ...  ...   \n495         Irving, TX    8000 Bent Branch Dr.         Irving      TX  ...   \n496        Horsham, PA       250 Gibraltar Rd.        Horsham      PA  ...   \n497      Sunnyvale, CA          701 First Ave.      Sunnyvale      CA  ...   \n498         Dallas, TX          1601 Bryan St.         Dallas      TX  ...   \n499       New York, NY         1 Liberty Plaza       New York      NY  ...   \n\n                                         Ceo-title  \\\n0    President, Chief Executive Officer & Director   \n1               Chairman & Chief Executive Officer   \n2               Chief Executive Officer & Director   \n3               Chairman & Chief Executive Officer   \n4    Chairman, President & Chief Executive Officer   \n..                                             ...   \n495             Chairman & Chief Executive Officer   \n496             Chief Executive Officer & Director   \n497  President, Chief Executive Officer & Director   \n498  President, Chief Executive Officer & Director   \n499  President, Chief Executive Officer & Director   \n\n                                        Address Ticker  \\\n0    702 S.W. Eighth St., Bentonville, AR 72716    WMT   \n1              3555 Farnam St., Omaha, NE 68131   BRKA   \n2          1 Infinite Loop, Cupertino, CA 95014   AAPL   \n3      5959 Las Colinas Blvd., Irving, TX 75039    XOM   \n4           1 Post St., San Francisco, CA 94104    MCK   \n..                                          ...    ...   \n495      8000 Bent Branch Dr., Irving, TX 75063    MIK   \n496        250 Gibraltar Rd., Horsham, PA 19044    TOL   \n497         701 First Ave., Sunnyvale, CA 94089   YHOO   \n498            1601 Bryan St., Dallas, TX 75201    VST   \n499         1 Liberty Plaza, New York, NY 10006    ABM   \n\n                         Fullname Revenues Revchange  Profits  Prftchange  \\\n0           Wal-Mart Stores, Inc.   485873       0.8  13643.0        -7.2   \n1         Berkshire Hathaway Inc.   223604       6.1  24074.0           0   \n2                     Apple, Inc.   215639      -7.7  45687.0       -14.4   \n3         Exxon Mobil Corporation   205004     -16.7   7840.0       -51.5   \n4            McKesson Corporation   192487       6.2   2258.0          53   \n..                            ...      ...       ...      ...         ...   \n495  The Michaels Companies, Inc.     5197       5.8    378.2         4.2   \n496           Toll Brothers, Inc.     5170      23.9    382.1         5.2   \n497                   Yahoo! Inc.     5169       4.0   -214.3         5.2   \n498           Vistra Energy Corp.     5164       4.0   -214.3         5.2   \n499   ABM Industries Incorporated     5145      -2.8     57.2         -25   \n\n     Assets  Totshequity  \n0    198825      77798.0  \n1    620854     283001.0  \n2    321686     128249.0  \n3    330314     167325.0  \n4     56563       8924.0  \n..      ...          ...  \n495    2148      -1698.0  \n496    9737       4229.0  \n497   48083      31049.0  \n498   15167       6597.0  \n499    2281        974.0  \n\n[500 rows x 23 columns]",
      "text/html": "<div>\n<style scoped>\n    .dataframe tbody tr th:only-of-type {\n        vertical-align: middle;\n    }\n\n    .dataframe tbody tr th {\n        vertical-align: top;\n    }\n\n    .dataframe thead th {\n        text-align: right;\n    }\n</style>\n<table border=\"1\" class=\"dataframe\">\n  <thead>\n    <tr style=\"text-align: right;\">\n      <th></th>\n      <th>Rank</th>\n      <th>Title</th>\n      <th>Website</th>\n      <th>Employees</th>\n      <th>Sector</th>\n      <th>Industry</th>\n      <th>Hqlocation</th>\n      <th>Hqaddr</th>\n      <th>Hqcity</th>\n      <th>Hqstate</th>\n      <th>...</th>\n      <th>Ceo-title</th>\n      <th>Address</th>\n      <th>Ticker</th>\n      <th>Fullname</th>\n      <th>Revenues</th>\n      <th>Revchange</th>\n      <th>Profits</th>\n      <th>Prftchange</th>\n      <th>Assets</th>\n      <th>Totshequity</th>\n    </tr>\n  </thead>\n  <tbody>\n    <tr>\n      <th>0</th>\n      <td>1</td>\n      <td>Walmart</td>\n      <td>http://www.walmart.com</td>\n      <td>2300000</td>\n      <td>Retailing</td>\n      <td>General Merchandisers</td>\n      <td>Bentonville, AR</td>\n      <td>702 S.W. Eighth St.</td>\n      <td>Bentonville</td>\n      <td>AR</td>\n      <td>...</td>\n      <td>President, Chief Executive Officer &amp; Director</td>\n      <td>702 S.W. Eighth St., Bentonville, AR 72716</td>\n      <td>WMT</td>\n      <td>Wal-Mart Stores, Inc.</td>\n      <td>485873</td>\n      <td>0.8</td>\n      <td>13643.0</td>\n      <td>-7.2</td>\n      <td>198825</td>\n      <td>77798.0</td>\n    </tr>\n    <tr>\n      <th>1</th>\n      <td>2</td>\n      <td>Berkshire Hathaway</td>\n      <td>http://www.berkshirehathaway.com</td>\n      <td>367700</td>\n      <td>Financials</td>\n      <td>Insurance: Property and Casualty (Stock)</td>\n      <td>Omaha, NE</td>\n      <td>3555 Farnam St.</td>\n      <td>Omaha</td>\n      <td>NE</td>\n      <td>...</td>\n      <td>Chairman &amp; Chief Executive Officer</td>\n      <td>3555 Farnam St., Omaha, NE 68131</td>\n      <td>BRKA</td>\n      <td>Berkshire Hathaway Inc.</td>\n      <td>223604</td>\n      <td>6.1</td>\n      <td>24074.0</td>\n      <td>0</td>\n      <td>620854</td>\n      <td>283001.0</td>\n    </tr>\n    <tr>\n      <th>2</th>\n      <td>3</td>\n      <td>Apple</td>\n      <td>http://www.apple.com</td>\n      <td>116000</td>\n      <td>Technology</td>\n      <td>Computers, Office Equipment</td>\n      <td>Cupertino, CA</td>\n      <td>1 Infinite Loop</td>\n      <td>Cupertino</td>\n      <td>CA</td>\n      <td>...</td>\n      <td>Chief Executive Officer &amp; Director</td>\n      <td>1 Infinite Loop, Cupertino, CA 95014</td>\n      <td>AAPL</td>\n      <td>Apple, Inc.</td>\n      <td>215639</td>\n      <td>-7.7</td>\n      <td>45687.0</td>\n      <td>-14.4</td>\n      <td>321686</td>\n      <td>128249.0</td>\n    </tr>\n    <tr>\n      <th>3</th>\n      <td>4</td>\n      <td>Exxon Mobil</td>\n      <td>http://www.exxonmobil.com</td>\n      <td>72700</td>\n      <td>Energy</td>\n      <td>Petroleum Refining</td>\n      <td>Irving, TX</td>\n      <td>5959 Las Colinas Blvd.</td>\n      <td>Irving</td>\n      <td>TX</td>\n      <td>...</td>\n      <td>Chairman &amp; Chief Executive Officer</td>\n      <td>5959 Las Colinas Blvd., Irving, TX 75039</td>\n      <td>XOM</td>\n      <td>Exxon Mobil Corporation</td>\n      <td>205004</td>\n      <td>-16.7</td>\n      <td>7840.0</td>\n      <td>-51.5</td>\n      <td>330314</td>\n      <td>167325.0</td>\n    </tr>\n    <tr>\n      <th>4</th>\n      <td>5</td>\n      <td>McKesson</td>\n      <td>http://www.mckesson.com</td>\n      <td>68000</td>\n      <td>Wholesalers</td>\n      <td>Wholesalers: Health Care</td>\n      <td>San Francisco, CA</td>\n      <td>1 Post St.</td>\n      <td>San Francisco</td>\n      <td>CA</td>\n      <td>...</td>\n      <td>Chairman, President &amp; Chief Executive Officer</td>\n      <td>1 Post St., San Francisco, CA 94104</td>\n      <td>MCK</td>\n      <td>McKesson Corporation</td>\n      <td>192487</td>\n      <td>6.2</td>\n      <td>2258.0</td>\n      <td>53</td>\n      <td>56563</td>\n      <td>8924.0</td>\n    </tr>\n    <tr>\n      <th>...</th>\n      <td>...</td>\n      <td>...</td>\n      <td>...</td>\n      <td>...</td>\n      <td>...</td>\n      <td>...</td>\n      <td>...</td>\n      <td>...</td>\n      <td>...</td>\n      <td>...</td>\n      <td>...</td>\n      <td>...</td>\n      <td>...</td>\n      <td>...</td>\n      <td>...</td>\n      <td>...</td>\n      <td>...</td>\n      <td>...</td>\n      <td>...</td>\n      <td>...</td>\n      <td>...</td>\n    </tr>\n    <tr>\n      <th>495</th>\n      <td>496</td>\n      <td>Michaels Cos.</td>\n      <td>http://www.michaels.com</td>\n      <td>31000</td>\n      <td>Retailing</td>\n      <td>Specialty Retailers: Other</td>\n      <td>Irving, TX</td>\n      <td>8000 Bent Branch Dr.</td>\n      <td>Irving</td>\n      <td>TX</td>\n      <td>...</td>\n      <td>Chairman &amp; Chief Executive Officer</td>\n      <td>8000 Bent Branch Dr., Irving, TX 75063</td>\n      <td>MIK</td>\n      <td>The Michaels Companies, Inc.</td>\n      <td>5197</td>\n      <td>5.8</td>\n      <td>378.2</td>\n      <td>4.2</td>\n      <td>2148</td>\n      <td>-1698.0</td>\n    </tr>\n    <tr>\n      <th>496</th>\n      <td>497</td>\n      <td>Toll Brothers</td>\n      <td>http://www.tollbrothers.com</td>\n      <td>4200</td>\n      <td>Engineering &amp; Construction</td>\n      <td>Homebuilders</td>\n      <td>Horsham, PA</td>\n      <td>250 Gibraltar Rd.</td>\n      <td>Horsham</td>\n      <td>PA</td>\n      <td>...</td>\n      <td>Chief Executive Officer &amp; Director</td>\n      <td>250 Gibraltar Rd., Horsham, PA 19044</td>\n      <td>TOL</td>\n      <td>Toll Brothers, Inc.</td>\n      <td>5170</td>\n      <td>23.9</td>\n      <td>382.1</td>\n      <td>5.2</td>\n      <td>9737</td>\n      <td>4229.0</td>\n    </tr>\n    <tr>\n      <th>497</th>\n      <td>498</td>\n      <td>Yahoo</td>\n      <td>http://www.yahoo.com</td>\n      <td>8500</td>\n      <td>Technology</td>\n      <td>Internet Services and Retailing</td>\n      <td>Sunnyvale, CA</td>\n      <td>701 First Ave.</td>\n      <td>Sunnyvale</td>\n      <td>CA</td>\n      <td>...</td>\n      <td>President, Chief Executive Officer &amp; Director</td>\n      <td>701 First Ave., Sunnyvale, CA 94089</td>\n      <td>YHOO</td>\n      <td>Yahoo! Inc.</td>\n      <td>5169</td>\n      <td>4.0</td>\n      <td>-214.3</td>\n      <td>5.2</td>\n      <td>48083</td>\n      <td>31049.0</td>\n    </tr>\n    <tr>\n      <th>498</th>\n      <td>499</td>\n      <td>Vistra Energy</td>\n      <td>http://www.vistraenergy.com</td>\n      <td>4431</td>\n      <td>Energy</td>\n      <td>Energy</td>\n      <td>Dallas, TX</td>\n      <td>1601 Bryan St.</td>\n      <td>Dallas</td>\n      <td>TX</td>\n      <td>...</td>\n      <td>President, Chief Executive Officer &amp; Director</td>\n      <td>1601 Bryan St., Dallas, TX 75201</td>\n      <td>VST</td>\n      <td>Vistra Energy Corp.</td>\n      <td>5164</td>\n      <td>4.0</td>\n      <td>-214.3</td>\n      <td>5.2</td>\n      <td>15167</td>\n      <td>6597.0</td>\n    </tr>\n    <tr>\n      <th>499</th>\n      <td>500</td>\n      <td>ABM Industries</td>\n      <td>http://www.abm.com</td>\n      <td>110000</td>\n      <td>Business Services</td>\n      <td>Diversified Outsourcing Services</td>\n      <td>New York, NY</td>\n      <td>1 Liberty Plaza</td>\n      <td>New York</td>\n      <td>NY</td>\n      <td>...</td>\n      <td>President, Chief Executive Officer &amp; Director</td>\n      <td>1 Liberty Plaza, New York, NY 10006</td>\n      <td>ABM</td>\n      <td>ABM Industries Incorporated</td>\n      <td>5145</td>\n      <td>-2.8</td>\n      <td>57.2</td>\n      <td>-25</td>\n      <td>2281</td>\n      <td>974.0</td>\n    </tr>\n  </tbody>\n</table>\n<p>500 rows × 23 columns</p>\n</div>"
     },
     "execution_count": 3,
     "metadata": {},
     "output_type": "execute_result"
    }
   ],
   "source": [
    "df"
   ],
   "metadata": {
    "collapsed": false,
    "pycharm": {
     "name": "#%%\n"
    }
   }
  },
  {
   "cell_type": "code",
   "execution_count": 4,
   "outputs": [
    {
     "data": {
      "text/plain": "             Rank     Employees         Hqzip       Revenues  Revchange  \\\ncount  500.000000  5.000000e+02    500.000000     500.000000  500.00000   \nmean   250.492000  5.635013e+04  46791.714000   24111.748000    3.75800   \nstd    144.477366  1.234520e+05  30160.384765   38337.353337   19.96748   \nmin      1.000000  8.300000e+01   1104.000000    5145.000000  -57.50000   \n25%    125.750000  1.190000e+04  19099.000000    7245.000000   -3.82500   \n50%    250.500000  2.500000e+04  46244.500000   11384.000000    1.90000   \n75%    375.250000  5.682525e+04  75045.000000   22605.250000    7.32500   \nmax    500.000000  2.300000e+06  98188.000000  485873.000000  197.30000   \n\n            Profits        Assets  Totshequity  \ncount    500.000000  5.000000e+02     500.0000  \nmean    1779.479800  8.038934e+04   13640.1470  \nstd     3937.558721  2.704257e+05   30523.1538  \nmin    -6177.000000  4.370000e+02  -12688.0000  \n25%      235.725000  8.436500e+03    1997.5000  \n50%      683.600000  1.932450e+04    4981.0000  \n75%     1770.775000  4.812600e+04   12467.7500  \nmax    45687.000000  3.287968e+06  283001.0000  ",
      "text/html": "<div>\n<style scoped>\n    .dataframe tbody tr th:only-of-type {\n        vertical-align: middle;\n    }\n\n    .dataframe tbody tr th {\n        vertical-align: top;\n    }\n\n    .dataframe thead th {\n        text-align: right;\n    }\n</style>\n<table border=\"1\" class=\"dataframe\">\n  <thead>\n    <tr style=\"text-align: right;\">\n      <th></th>\n      <th>Rank</th>\n      <th>Employees</th>\n      <th>Hqzip</th>\n      <th>Revenues</th>\n      <th>Revchange</th>\n      <th>Profits</th>\n      <th>Assets</th>\n      <th>Totshequity</th>\n    </tr>\n  </thead>\n  <tbody>\n    <tr>\n      <th>count</th>\n      <td>500.000000</td>\n      <td>5.000000e+02</td>\n      <td>500.000000</td>\n      <td>500.000000</td>\n      <td>500.00000</td>\n      <td>500.000000</td>\n      <td>5.000000e+02</td>\n      <td>500.0000</td>\n    </tr>\n    <tr>\n      <th>mean</th>\n      <td>250.492000</td>\n      <td>5.635013e+04</td>\n      <td>46791.714000</td>\n      <td>24111.748000</td>\n      <td>3.75800</td>\n      <td>1779.479800</td>\n      <td>8.038934e+04</td>\n      <td>13640.1470</td>\n    </tr>\n    <tr>\n      <th>std</th>\n      <td>144.477366</td>\n      <td>1.234520e+05</td>\n      <td>30160.384765</td>\n      <td>38337.353337</td>\n      <td>19.96748</td>\n      <td>3937.558721</td>\n      <td>2.704257e+05</td>\n      <td>30523.1538</td>\n    </tr>\n    <tr>\n      <th>min</th>\n      <td>1.000000</td>\n      <td>8.300000e+01</td>\n      <td>1104.000000</td>\n      <td>5145.000000</td>\n      <td>-57.50000</td>\n      <td>-6177.000000</td>\n      <td>4.370000e+02</td>\n      <td>-12688.0000</td>\n    </tr>\n    <tr>\n      <th>25%</th>\n      <td>125.750000</td>\n      <td>1.190000e+04</td>\n      <td>19099.000000</td>\n      <td>7245.000000</td>\n      <td>-3.82500</td>\n      <td>235.725000</td>\n      <td>8.436500e+03</td>\n      <td>1997.5000</td>\n    </tr>\n    <tr>\n      <th>50%</th>\n      <td>250.500000</td>\n      <td>2.500000e+04</td>\n      <td>46244.500000</td>\n      <td>11384.000000</td>\n      <td>1.90000</td>\n      <td>683.600000</td>\n      <td>1.932450e+04</td>\n      <td>4981.0000</td>\n    </tr>\n    <tr>\n      <th>75%</th>\n      <td>375.250000</td>\n      <td>5.682525e+04</td>\n      <td>75045.000000</td>\n      <td>22605.250000</td>\n      <td>7.32500</td>\n      <td>1770.775000</td>\n      <td>4.812600e+04</td>\n      <td>12467.7500</td>\n    </tr>\n    <tr>\n      <th>max</th>\n      <td>500.000000</td>\n      <td>2.300000e+06</td>\n      <td>98188.000000</td>\n      <td>485873.000000</td>\n      <td>197.30000</td>\n      <td>45687.000000</td>\n      <td>3.287968e+06</td>\n      <td>283001.0000</td>\n    </tr>\n  </tbody>\n</table>\n</div>"
     },
     "execution_count": 4,
     "metadata": {},
     "output_type": "execute_result"
    }
   ],
   "source": [
    "df.describe()"
   ],
   "metadata": {
    "collapsed": false,
    "pycharm": {
     "name": "#%%\n"
    }
   }
  },
  {
   "cell_type": "code",
   "execution_count": 5,
   "outputs": [
    {
     "data": {
      "text/plain": "Rank           0\nTitle          0\nWebsite        0\nEmployees      0\nSector         0\nIndustry       0\nHqlocation     0\nHqaddr         0\nHqcity         0\nHqstate        0\nHqzip          0\nHqtel          0\nCeo            0\nCeo-title      0\nAddress        0\nTicker         0\nFullname       0\nRevenues       0\nRevchange      0\nProfits        0\nPrftchange     0\nAssets         0\nTotshequity    0\ndtype: int64"
     },
     "execution_count": 5,
     "metadata": {},
     "output_type": "execute_result"
    }
   ],
   "source": [
    "df.isnull().sum()"
   ],
   "metadata": {
    "collapsed": false,
    "pycharm": {
     "name": "#%%\n"
    }
   }
  },
  {
   "cell_type": "code",
   "execution_count": 6,
   "outputs": [
    {
     "name": "stdout",
     "output_type": "stream",
     "text": [
      "De 500 empresas:\n",
      "Hay 12 gigantes. (2%)\n",
      "Hay 55 grandes. (11%)\n",
      "Hay 160 medianas. (32%)\n",
      "Hay 273 chicas. (54%)\n"
     ]
    }
   ],
   "source": [
    "empresas_gigantes = len(df[df[\"Employees\"] >= 300000])\n",
    "empresas_grandes = len(df[(df[\"Employees\"] >= 100000) & (df[\"Employees\"] < 300000)])\n",
    "empresas_medianas = len(df[(df[\"Employees\"] < 100000) & (df[\"Employees\"] >= 30000)])\n",
    "empresas_chicas = len(df[(df[\"Employees\"] < 30000)])\n",
    "\n",
    "print(f'De {len(df)} empresas:')\n",
    "print(f'Hay {empresas_gigantes} gigantes. ({int((empresas_gigantes/len(df))*100)}%)')\n",
    "print(f'Hay {empresas_grandes} grandes. ({int((empresas_grandes/len(df))*100)}%)')\n",
    "print(f'Hay {empresas_medianas} medianas. ({int((empresas_medianas/len(df))*100)}%)')\n",
    "print(f'Hay {empresas_chicas} chicas. ({int((empresas_chicas/len(df))*100)}%)')"
   ],
   "metadata": {
    "collapsed": false,
    "pycharm": {
     "name": "#%%\n"
    }
   }
  },
  {
   "cell_type": "code",
   "execution_count": 7,
   "outputs": [
    {
     "data": {
      "text/plain": "Financials     84\nEnergy         57\nRetailing      47\nTechnology     43\nHealth Care    38\nName: Sector, dtype: int64"
     },
     "execution_count": 7,
     "metadata": {},
     "output_type": "execute_result"
    }
   ],
   "source": [
    "sectores = df[\"Sector\"].value_counts()\n",
    "sectores.head()"
   ],
   "metadata": {
    "collapsed": false,
    "pycharm": {
     "name": "#%%\n"
    }
   }
  },
  {
   "cell_type": "code",
   "execution_count": 8,
   "outputs": [
    {
     "data": {
      "text/plain": "          Rank               Title                           Website  \\\nProfits                                                                \n 45687.0     3               Apple              http://www.apple.com   \n 24733.0    21   J.P. Morgan Chase      http://www.jpmorganchase.com   \n 24074.0     2  Berkshire Hathaway  http://www.berkshirehathaway.com   \n 21938.0    25         Wells Fargo         http://www.wellsfargo.com   \n 19478.0    27            Alphabet                http://www.abc.xyz   \n...        ...                 ...                               ...   \n-3615.0    115      ConocoPhillips     http://www.conocophillips.com   \n-4154.0    175    Freeport-McMoRan                http://www.fcx.com   \n-4401.0    343   Chesapeake Energy                http://www.chk.com   \n-5763.0    173         Halliburton        http://www.halliburton.com   \n-6177.0    196         FirstEnergy    http://www.firstenergycorp.com   \n\n          Employees      Sector                                  Industry  \\\nProfits                                                                     \n 45687.0     116000  Technology               Computers, Office Equipment   \n 24733.0     243355  Financials                          Commercial Banks   \n 24074.0     367700  Financials  Insurance: Property and Casualty (Stock)   \n 21938.0     269100  Financials                          Commercial Banks   \n 19478.0      72053  Technology           Internet Services and Retailing   \n...             ...         ...                                       ...   \n-3615.0       13300      Energy              Mining, Crude-Oil Production   \n-4154.0       30000      Energy              Mining, Crude-Oil Production   \n-4401.0        3300      Energy              Mining, Crude-Oil Production   \n-5763.0       50000      Energy           Oil and Gas Equipment, Services   \n-6177.0       15707      Energy               Utilities: Gas and Electric   \n\n                 Hqlocation                       Hqaddr         Hqcity  \\\nProfits                                                                   \n 45687.0      Cupertino, CA              1 Infinite Loop      Cupertino   \n 24733.0       New York, NY                270 Park Ave.       New York   \n 24074.0          Omaha, NE              3555 Farnam St.          Omaha   \n 21938.0  San Francisco, CA           420 Montgomery St.  San Francisco   \n 19478.0  Mountain View, CA      1600 Amphitheatre Pkwy.  Mountain View   \n...                     ...                          ...            ...   \n-3615.0         Houston, TX     600 N. Dairy Ashford Rd.        Houston   \n-4154.0         Phoenix, AZ          333 N. Central Ave.        Phoenix   \n-4401.0   Oklahoma City, OK         6100 N. Western Ave.  Oklahoma City   \n-5763.0         Houston, TX  3000 N. Sam Houston Pkwy E.        Houston   \n-6177.0           Akron, OH               76 S. Main St.          Akron   \n\n         Hqstate  ...                  Ceo  \\\nProfits           ...                        \n 45687.0      CA  ...      Timothy D. Cook   \n 24733.0      NY  ...          James Dimon   \n 24074.0      NE  ...    Warren E. Buffett   \n 21938.0      CA  ...     Timothy J. Sloan   \n 19478.0      CA  ...           Larry Page   \n...          ...  ...                  ...   \n-3615.0       TX  ...        Ryan M. Lance   \n-4154.0       AZ  ...  Richard C. Adkerson   \n-4401.0       OK  ...     Robert D. Lawler   \n-5763.0       TX  ...    Jeffrey A. Miller   \n-6177.0       OH  ...     Charles E. Jones   \n\n                                              Ceo-title  \\\nProfits                                                   \n 45687.0             Chief Executive Officer & Director   \n 24733.0  Chairman, President & Chief Executive Officer   \n 24074.0             Chairman & Chief Executive Officer   \n 21938.0  President, Chief Executive Officer & Director   \n 19478.0             Chief Executive Officer & Director   \n...                                                 ...   \n-3615.0              Chairman & Chief Executive Officer   \n-4154.0   President, Chief Executive Officer & Director   \n-4401.0   President, Chief Executive Officer & Director   \n-5763.0   President, Chief Executive Officer & Director   \n-6177.0   President, Chief Executive Officer & Director   \n\n                                                   Address Ticker  \\\nProfits                                                             \n 45687.0              1 Infinite Loop, Cupertino, CA 95014   AAPL   \n 24733.0                 270 Park Ave., New York, NY 10017    JPM   \n 24074.0                  3555 Farnam St., Omaha, NE 68131   BRKA   \n 21938.0       420 Montgomery St., San Francisco, CA 94163    WFC   \n 19478.0  1600 Amphitheatre Pkwy., Mountain View, CA 94043  GOOGL   \n...                                                    ...    ...   \n-3615.0       600 N. Dairy Ashford Rd. , Houston, TX 77079    COP   \n-4154.0             333 N. Central Ave., Phoenix, AZ 85004    FCX   \n-4401.0      6100 N. Western Ave., Oklahoma City, OK 73118    CHK   \n-5763.0     3000 N. Sam Houston Pkwy E., Houston, TX 77032    HAL   \n-6177.0                    76 S. Main St., Akron, OH 44308     FE   \n\n                               Fullname Revenues Revchange  Prftchange  \\\nProfits                                                                  \n 45687.0                    Apple, Inc.   215639      -7.7       -14.4   \n 24733.0           JPMorgan Chase & Co.   105486       4.4         1.2   \n 24074.0        Berkshire Hathaway Inc.   223604       6.1           0   \n 21938.0          Wells Fargo & Company    94176       4.6        -4.2   \n 19478.0                  Alphabet Inc.    90272      20.4        19.1   \n...                                 ...      ...       ...         ...   \n-3615.0                  ConocoPhillips    24360     -21.3        10.6   \n-4154.0           Freeport-McMoRan Inc.    15789      -0.6         4.4   \n-4401.0   Chesapeake Energy Corporation     7872     -38.3         7.1   \n-5763.0             Halliburton Company    15887     -32.8        16.7   \n-6177.0               FirstEnergy Corp.    14156      -3.1   -1,168.70   \n\n           Assets Totshequity  \nProfits                        \n 45687.0   321686    128249.0  \n 24733.0  2490972    254190.0  \n 24074.0   620854    283001.0  \n 21938.0  1930115    199581.0  \n 19478.0   167497    139036.0  \n...           ...         ...  \n-3615.0     89772     34974.0  \n-4154.0     37317      6051.0  \n-4401.0     13028     -1460.0  \n-5763.0     27000      9409.0  \n-6177.0     43148      6241.0  \n\n[500 rows x 22 columns]",
      "text/html": "<div>\n<style scoped>\n    .dataframe tbody tr th:only-of-type {\n        vertical-align: middle;\n    }\n\n    .dataframe tbody tr th {\n        vertical-align: top;\n    }\n\n    .dataframe thead th {\n        text-align: right;\n    }\n</style>\n<table border=\"1\" class=\"dataframe\">\n  <thead>\n    <tr style=\"text-align: right;\">\n      <th></th>\n      <th>Rank</th>\n      <th>Title</th>\n      <th>Website</th>\n      <th>Employees</th>\n      <th>Sector</th>\n      <th>Industry</th>\n      <th>Hqlocation</th>\n      <th>Hqaddr</th>\n      <th>Hqcity</th>\n      <th>Hqstate</th>\n      <th>...</th>\n      <th>Ceo</th>\n      <th>Ceo-title</th>\n      <th>Address</th>\n      <th>Ticker</th>\n      <th>Fullname</th>\n      <th>Revenues</th>\n      <th>Revchange</th>\n      <th>Prftchange</th>\n      <th>Assets</th>\n      <th>Totshequity</th>\n    </tr>\n    <tr>\n      <th>Profits</th>\n      <th></th>\n      <th></th>\n      <th></th>\n      <th></th>\n      <th></th>\n      <th></th>\n      <th></th>\n      <th></th>\n      <th></th>\n      <th></th>\n      <th></th>\n      <th></th>\n      <th></th>\n      <th></th>\n      <th></th>\n      <th></th>\n      <th></th>\n      <th></th>\n      <th></th>\n      <th></th>\n      <th></th>\n    </tr>\n  </thead>\n  <tbody>\n    <tr>\n      <th>45687.0</th>\n      <td>3</td>\n      <td>Apple</td>\n      <td>http://www.apple.com</td>\n      <td>116000</td>\n      <td>Technology</td>\n      <td>Computers, Office Equipment</td>\n      <td>Cupertino, CA</td>\n      <td>1 Infinite Loop</td>\n      <td>Cupertino</td>\n      <td>CA</td>\n      <td>...</td>\n      <td>Timothy D. Cook</td>\n      <td>Chief Executive Officer &amp; Director</td>\n      <td>1 Infinite Loop, Cupertino, CA 95014</td>\n      <td>AAPL</td>\n      <td>Apple, Inc.</td>\n      <td>215639</td>\n      <td>-7.7</td>\n      <td>-14.4</td>\n      <td>321686</td>\n      <td>128249.0</td>\n    </tr>\n    <tr>\n      <th>24733.0</th>\n      <td>21</td>\n      <td>J.P. Morgan Chase</td>\n      <td>http://www.jpmorganchase.com</td>\n      <td>243355</td>\n      <td>Financials</td>\n      <td>Commercial Banks</td>\n      <td>New York, NY</td>\n      <td>270 Park Ave.</td>\n      <td>New York</td>\n      <td>NY</td>\n      <td>...</td>\n      <td>James Dimon</td>\n      <td>Chairman, President &amp; Chief Executive Officer</td>\n      <td>270 Park Ave., New York, NY 10017</td>\n      <td>JPM</td>\n      <td>JPMorgan Chase &amp; Co.</td>\n      <td>105486</td>\n      <td>4.4</td>\n      <td>1.2</td>\n      <td>2490972</td>\n      <td>254190.0</td>\n    </tr>\n    <tr>\n      <th>24074.0</th>\n      <td>2</td>\n      <td>Berkshire Hathaway</td>\n      <td>http://www.berkshirehathaway.com</td>\n      <td>367700</td>\n      <td>Financials</td>\n      <td>Insurance: Property and Casualty (Stock)</td>\n      <td>Omaha, NE</td>\n      <td>3555 Farnam St.</td>\n      <td>Omaha</td>\n      <td>NE</td>\n      <td>...</td>\n      <td>Warren E. Buffett</td>\n      <td>Chairman &amp; Chief Executive Officer</td>\n      <td>3555 Farnam St., Omaha, NE 68131</td>\n      <td>BRKA</td>\n      <td>Berkshire Hathaway Inc.</td>\n      <td>223604</td>\n      <td>6.1</td>\n      <td>0</td>\n      <td>620854</td>\n      <td>283001.0</td>\n    </tr>\n    <tr>\n      <th>21938.0</th>\n      <td>25</td>\n      <td>Wells Fargo</td>\n      <td>http://www.wellsfargo.com</td>\n      <td>269100</td>\n      <td>Financials</td>\n      <td>Commercial Banks</td>\n      <td>San Francisco, CA</td>\n      <td>420 Montgomery St.</td>\n      <td>San Francisco</td>\n      <td>CA</td>\n      <td>...</td>\n      <td>Timothy J. Sloan</td>\n      <td>President, Chief Executive Officer &amp; Director</td>\n      <td>420 Montgomery St., San Francisco, CA 94163</td>\n      <td>WFC</td>\n      <td>Wells Fargo &amp; Company</td>\n      <td>94176</td>\n      <td>4.6</td>\n      <td>-4.2</td>\n      <td>1930115</td>\n      <td>199581.0</td>\n    </tr>\n    <tr>\n      <th>19478.0</th>\n      <td>27</td>\n      <td>Alphabet</td>\n      <td>http://www.abc.xyz</td>\n      <td>72053</td>\n      <td>Technology</td>\n      <td>Internet Services and Retailing</td>\n      <td>Mountain View, CA</td>\n      <td>1600 Amphitheatre Pkwy.</td>\n      <td>Mountain View</td>\n      <td>CA</td>\n      <td>...</td>\n      <td>Larry Page</td>\n      <td>Chief Executive Officer &amp; Director</td>\n      <td>1600 Amphitheatre Pkwy., Mountain View, CA 94043</td>\n      <td>GOOGL</td>\n      <td>Alphabet Inc.</td>\n      <td>90272</td>\n      <td>20.4</td>\n      <td>19.1</td>\n      <td>167497</td>\n      <td>139036.0</td>\n    </tr>\n    <tr>\n      <th>...</th>\n      <td>...</td>\n      <td>...</td>\n      <td>...</td>\n      <td>...</td>\n      <td>...</td>\n      <td>...</td>\n      <td>...</td>\n      <td>...</td>\n      <td>...</td>\n      <td>...</td>\n      <td>...</td>\n      <td>...</td>\n      <td>...</td>\n      <td>...</td>\n      <td>...</td>\n      <td>...</td>\n      <td>...</td>\n      <td>...</td>\n      <td>...</td>\n      <td>...</td>\n      <td>...</td>\n    </tr>\n    <tr>\n      <th>-3615.0</th>\n      <td>115</td>\n      <td>ConocoPhillips</td>\n      <td>http://www.conocophillips.com</td>\n      <td>13300</td>\n      <td>Energy</td>\n      <td>Mining, Crude-Oil Production</td>\n      <td>Houston, TX</td>\n      <td>600 N. Dairy Ashford Rd.</td>\n      <td>Houston</td>\n      <td>TX</td>\n      <td>...</td>\n      <td>Ryan M. Lance</td>\n      <td>Chairman &amp; Chief Executive Officer</td>\n      <td>600 N. Dairy Ashford Rd. , Houston, TX 77079</td>\n      <td>COP</td>\n      <td>ConocoPhillips</td>\n      <td>24360</td>\n      <td>-21.3</td>\n      <td>10.6</td>\n      <td>89772</td>\n      <td>34974.0</td>\n    </tr>\n    <tr>\n      <th>-4154.0</th>\n      <td>175</td>\n      <td>Freeport-McMoRan</td>\n      <td>http://www.fcx.com</td>\n      <td>30000</td>\n      <td>Energy</td>\n      <td>Mining, Crude-Oil Production</td>\n      <td>Phoenix, AZ</td>\n      <td>333 N. Central Ave.</td>\n      <td>Phoenix</td>\n      <td>AZ</td>\n      <td>...</td>\n      <td>Richard C. Adkerson</td>\n      <td>President, Chief Executive Officer &amp; Director</td>\n      <td>333 N. Central Ave., Phoenix, AZ 85004</td>\n      <td>FCX</td>\n      <td>Freeport-McMoRan Inc.</td>\n      <td>15789</td>\n      <td>-0.6</td>\n      <td>4.4</td>\n      <td>37317</td>\n      <td>6051.0</td>\n    </tr>\n    <tr>\n      <th>-4401.0</th>\n      <td>343</td>\n      <td>Chesapeake Energy</td>\n      <td>http://www.chk.com</td>\n      <td>3300</td>\n      <td>Energy</td>\n      <td>Mining, Crude-Oil Production</td>\n      <td>Oklahoma City, OK</td>\n      <td>6100 N. Western Ave.</td>\n      <td>Oklahoma City</td>\n      <td>OK</td>\n      <td>...</td>\n      <td>Robert D. Lawler</td>\n      <td>President, Chief Executive Officer &amp; Director</td>\n      <td>6100 N. Western Ave., Oklahoma City, OK 73118</td>\n      <td>CHK</td>\n      <td>Chesapeake Energy Corporation</td>\n      <td>7872</td>\n      <td>-38.3</td>\n      <td>7.1</td>\n      <td>13028</td>\n      <td>-1460.0</td>\n    </tr>\n    <tr>\n      <th>-5763.0</th>\n      <td>173</td>\n      <td>Halliburton</td>\n      <td>http://www.halliburton.com</td>\n      <td>50000</td>\n      <td>Energy</td>\n      <td>Oil and Gas Equipment, Services</td>\n      <td>Houston, TX</td>\n      <td>3000 N. Sam Houston Pkwy E.</td>\n      <td>Houston</td>\n      <td>TX</td>\n      <td>...</td>\n      <td>Jeffrey A. Miller</td>\n      <td>President, Chief Executive Officer &amp; Director</td>\n      <td>3000 N. Sam Houston Pkwy E., Houston, TX 77032</td>\n      <td>HAL</td>\n      <td>Halliburton Company</td>\n      <td>15887</td>\n      <td>-32.8</td>\n      <td>16.7</td>\n      <td>27000</td>\n      <td>9409.0</td>\n    </tr>\n    <tr>\n      <th>-6177.0</th>\n      <td>196</td>\n      <td>FirstEnergy</td>\n      <td>http://www.firstenergycorp.com</td>\n      <td>15707</td>\n      <td>Energy</td>\n      <td>Utilities: Gas and Electric</td>\n      <td>Akron, OH</td>\n      <td>76 S. Main St.</td>\n      <td>Akron</td>\n      <td>OH</td>\n      <td>...</td>\n      <td>Charles E. Jones</td>\n      <td>President, Chief Executive Officer &amp; Director</td>\n      <td>76 S. Main St., Akron, OH 44308</td>\n      <td>FE</td>\n      <td>FirstEnergy Corp.</td>\n      <td>14156</td>\n      <td>-3.1</td>\n      <td>-1,168.70</td>\n      <td>43148</td>\n      <td>6241.0</td>\n    </tr>\n  </tbody>\n</table>\n<p>500 rows × 22 columns</p>\n</div>"
     },
     "execution_count": 8,
     "metadata": {},
     "output_type": "execute_result"
    }
   ],
   "source": [
    "sort_profits = df.sort_values(by='Profits', ascending=False).set_index('Profits')\n",
    "sort_profits"
   ],
   "metadata": {
    "collapsed": false,
    "pycharm": {
     "name": "#%%\n"
    }
   }
  },
  {
   "cell_type": "code",
   "execution_count": 9,
   "outputs": [
    {
     "data": {
      "text/plain": "Sector\nFood & Drug Stores               198585\nHotels, Restaurants & Leisure    183874\nRetailing                        123827\nMotor Vehicles & Parts            91025\nTelecommunications                79324\nTransportation                    78305\nAerospace & Defense               71986\nTechnology                        70915\nIndustrials                       64436\nHealth Care                       61616\nApparel                           50930\nBusiness Services                 42252\nFood, Beverages & Tobacco         41679\nHousehold Products                40278\nFinancials                        37642\nMedia                             34431\nChemicals                         26064\nEngineering & Construction        25314\nWholesalers                       21753\nMaterials                         20280\nEnergy                            15254\nName: Employees, dtype: int32"
     },
     "execution_count": 9,
     "metadata": {},
     "output_type": "execute_result"
    }
   ],
   "source": [
    "promedio_empleados_sector = df.groupby('Sector')[\"Employees\"].mean().sort_values(ascending = False)\n",
    "promedio_empleados_sector.astype(int)"
   ],
   "metadata": {
    "collapsed": false,
    "pycharm": {
     "name": "#%%\n"
    }
   }
  }
 ],
 "metadata": {
  "kernelspec": {
   "display_name": "Python 3",
   "language": "python",
   "name": "python3"
  },
  "language_info": {
   "codemirror_mode": {
    "name": "ipython",
    "version": 2
   },
   "file_extension": ".py",
   "mimetype": "text/x-python",
   "name": "python",
   "nbconvert_exporter": "python",
   "pygments_lexer": "ipython2",
   "version": "2.7.6"
  }
 },
 "nbformat": 4,
 "nbformat_minor": 0
}