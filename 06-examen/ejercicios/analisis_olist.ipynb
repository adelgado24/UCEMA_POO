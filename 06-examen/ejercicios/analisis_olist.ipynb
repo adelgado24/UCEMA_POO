{
 "cells": [
  {
   "cell_type": "code",
   "execution_count": 70,
   "metadata": {
    "collapsed": true
   },
   "outputs": [],
   "source": [
    "import pandas as pd\n",
    "import matplotlib.pyplot as plt\n",
    "import numpy as np\n",
    "import datetime\n",
    "from scipy import stats"
   ]
  },
  {
   "cell_type": "markdown",
   "source": [],
   "metadata": {
    "collapsed": false
   }
  },
  {
   "cell_type": "code",
   "execution_count": 71,
   "outputs": [],
   "source": [
    "df_orders = pd.read_csv(\"datos_ejs/olist_orders_dataset.csv\")\n",
    "df_customers = pd.read_csv(\"datos_ejs/olist_customers_dataset.csv\")\n",
    "df_order_items = pd.read_csv(\"datos_ejs/olist_order_items_dataset.csv\")\n",
    "df_order_payments = pd.read_csv(\"datos_ejs/olist_order_payments_dataset.csv\")\n",
    "df_order_reviews = pd.read_csv(\"datos_ejs/olist_order_reviews_dataset.csv\")\n",
    "df_products = pd.read_csv(\"datos_ejs/olist_products_dataset.csv\")\n",
    "df_sellers = pd.read_csv(\"datos_ejs/olist_sellers_dataset.csv\")\n",
    "df_prod_category = pd.read_csv(\"datos_ejs/product_category_name_translation.csv\")\n",
    "df_location = pd.read_csv(\"datos_ejs/olist_geolocation_dataset.csv\")"
   ],
   "metadata": {
    "collapsed": false,
    "pycharm": {
     "name": "#%%\n"
    }
   }
  },
  {
   "cell_type": "code",
   "execution_count": 72,
   "outputs": [
    {
     "data": {
      "text/plain": "                           order_id                       customer_id  \\\n0  e481f51cbdc54678b7cc49136f2d6af7  9ef432eb6251297304e76186b10a928d   \n1  53cdb2fc8bc7dce0b6741e2150273451  b0830fb4747a6c6d20dea0b8c802d7ef   \n2  47770eb9100c2d0c44946d9cf07ec65d  41ce2a54c0b03bf3443c3d931a367089   \n3  949d5b44dbf5de918fe9c16f97b45f8a  f88197465ea7920adcdbec7375364d82   \n4  ad21c59c0840e6cb83a9ceb5573f8159  8ab97904e6daea8866dbdbc4fb7aad2c   \n\n  order_status order_purchase_timestamp    order_approved_at  \\\n0    delivered      2017-10-02 10:56:33  2017-10-02 11:07:15   \n1    delivered      2018-07-24 20:41:37  2018-07-26 03:24:27   \n2    delivered      2018-08-08 08:38:49  2018-08-08 08:55:23   \n3    delivered      2017-11-18 19:28:06  2017-11-18 19:45:59   \n4    delivered      2018-02-13 21:18:39  2018-02-13 22:20:29   \n\n  order_delivered_carrier_date order_delivered_customer_date  \\\n0          2017-10-04 19:55:00           2017-10-10 21:25:13   \n1          2018-07-26 14:31:00           2018-08-07 15:27:45   \n2          2018-08-08 13:50:00           2018-08-17 18:06:29   \n3          2017-11-22 13:39:59           2017-12-02 00:28:42   \n4          2018-02-14 19:46:34           2018-02-16 18:17:02   \n\n  order_estimated_delivery_date  \n0           2017-10-18 00:00:00  \n1           2018-08-13 00:00:00  \n2           2018-09-04 00:00:00  \n3           2017-12-15 00:00:00  \n4           2018-02-26 00:00:00  ",
      "text/html": "<div>\n<style scoped>\n    .dataframe tbody tr th:only-of-type {\n        vertical-align: middle;\n    }\n\n    .dataframe tbody tr th {\n        vertical-align: top;\n    }\n\n    .dataframe thead th {\n        text-align: right;\n    }\n</style>\n<table border=\"1\" class=\"dataframe\">\n  <thead>\n    <tr style=\"text-align: right;\">\n      <th></th>\n      <th>order_id</th>\n      <th>customer_id</th>\n      <th>order_status</th>\n      <th>order_purchase_timestamp</th>\n      <th>order_approved_at</th>\n      <th>order_delivered_carrier_date</th>\n      <th>order_delivered_customer_date</th>\n      <th>order_estimated_delivery_date</th>\n    </tr>\n  </thead>\n  <tbody>\n    <tr>\n      <th>0</th>\n      <td>e481f51cbdc54678b7cc49136f2d6af7</td>\n      <td>9ef432eb6251297304e76186b10a928d</td>\n      <td>delivered</td>\n      <td>2017-10-02 10:56:33</td>\n      <td>2017-10-02 11:07:15</td>\n      <td>2017-10-04 19:55:00</td>\n      <td>2017-10-10 21:25:13</td>\n      <td>2017-10-18 00:00:00</td>\n    </tr>\n    <tr>\n      <th>1</th>\n      <td>53cdb2fc8bc7dce0b6741e2150273451</td>\n      <td>b0830fb4747a6c6d20dea0b8c802d7ef</td>\n      <td>delivered</td>\n      <td>2018-07-24 20:41:37</td>\n      <td>2018-07-26 03:24:27</td>\n      <td>2018-07-26 14:31:00</td>\n      <td>2018-08-07 15:27:45</td>\n      <td>2018-08-13 00:00:00</td>\n    </tr>\n    <tr>\n      <th>2</th>\n      <td>47770eb9100c2d0c44946d9cf07ec65d</td>\n      <td>41ce2a54c0b03bf3443c3d931a367089</td>\n      <td>delivered</td>\n      <td>2018-08-08 08:38:49</td>\n      <td>2018-08-08 08:55:23</td>\n      <td>2018-08-08 13:50:00</td>\n      <td>2018-08-17 18:06:29</td>\n      <td>2018-09-04 00:00:00</td>\n    </tr>\n    <tr>\n      <th>3</th>\n      <td>949d5b44dbf5de918fe9c16f97b45f8a</td>\n      <td>f88197465ea7920adcdbec7375364d82</td>\n      <td>delivered</td>\n      <td>2017-11-18 19:28:06</td>\n      <td>2017-11-18 19:45:59</td>\n      <td>2017-11-22 13:39:59</td>\n      <td>2017-12-02 00:28:42</td>\n      <td>2017-12-15 00:00:00</td>\n    </tr>\n    <tr>\n      <th>4</th>\n      <td>ad21c59c0840e6cb83a9ceb5573f8159</td>\n      <td>8ab97904e6daea8866dbdbc4fb7aad2c</td>\n      <td>delivered</td>\n      <td>2018-02-13 21:18:39</td>\n      <td>2018-02-13 22:20:29</td>\n      <td>2018-02-14 19:46:34</td>\n      <td>2018-02-16 18:17:02</td>\n      <td>2018-02-26 00:00:00</td>\n    </tr>\n  </tbody>\n</table>\n</div>"
     },
     "execution_count": 72,
     "metadata": {},
     "output_type": "execute_result"
    }
   ],
   "source": [
    "df_orders.head()"
   ],
   "metadata": {
    "collapsed": false,
    "pycharm": {
     "name": "#%%\n"
    }
   }
  },
  {
   "cell_type": "code",
   "execution_count": 73,
   "outputs": [
    {
     "data": {
      "text/plain": "order_id                         object\ncustomer_id                      object\norder_status                     object\norder_purchase_timestamp         object\norder_approved_at                object\norder_delivered_carrier_date     object\norder_delivered_customer_date    object\norder_estimated_delivery_date    object\ndtype: object"
     },
     "execution_count": 73,
     "metadata": {},
     "output_type": "execute_result"
    }
   ],
   "source": [
    "df_orders.dtypes"
   ],
   "metadata": {
    "collapsed": false,
    "pycharm": {
     "name": "#%%\n"
    }
   }
  },
  {
   "cell_type": "code",
   "execution_count": 74,
   "outputs": [
    {
     "data": {
      "text/plain": "              cantidad\norder_status          \ndelivered        96478\nshipped           1107\ncanceled           625\nunavailable        609\ninvoiced           314\nprocessing         301\ncreated              5\napproved             2",
      "text/html": "<div>\n<style scoped>\n    .dataframe tbody tr th:only-of-type {\n        vertical-align: middle;\n    }\n\n    .dataframe tbody tr th {\n        vertical-align: top;\n    }\n\n    .dataframe thead th {\n        text-align: right;\n    }\n</style>\n<table border=\"1\" class=\"dataframe\">\n  <thead>\n    <tr style=\"text-align: right;\">\n      <th></th>\n      <th>cantidad</th>\n    </tr>\n    <tr>\n      <th>order_status</th>\n      <th></th>\n    </tr>\n  </thead>\n  <tbody>\n    <tr>\n      <th>delivered</th>\n      <td>96478</td>\n    </tr>\n    <tr>\n      <th>shipped</th>\n      <td>1107</td>\n    </tr>\n    <tr>\n      <th>canceled</th>\n      <td>625</td>\n    </tr>\n    <tr>\n      <th>unavailable</th>\n      <td>609</td>\n    </tr>\n    <tr>\n      <th>invoiced</th>\n      <td>314</td>\n    </tr>\n    <tr>\n      <th>processing</th>\n      <td>301</td>\n    </tr>\n    <tr>\n      <th>created</th>\n      <td>5</td>\n    </tr>\n    <tr>\n      <th>approved</th>\n      <td>2</td>\n    </tr>\n  </tbody>\n</table>\n</div>"
     },
     "execution_count": 74,
     "metadata": {},
     "output_type": "execute_result"
    }
   ],
   "source": [
    "df_orders_status = df_orders.groupby('order_status').agg(cantidad = ('order_status', 'count')).sort_values(by='cantidad', ascending = False)\n",
    "df_orders_status"
   ],
   "metadata": {
    "collapsed": false,
    "pycharm": {
     "name": "#%%\n"
    }
   }
  },
  {
   "cell_type": "code",
   "execution_count": 75,
   "outputs": [
    {
     "name": "stdout",
     "output_type": "stream",
     "text": [
      "El 0.63 % de las ordenes fueron canceladas\n"
     ]
    }
   ],
   "source": [
    "ordenes_canceladas = df_orders_status.loc['canceled','cantidad']\n",
    "total_orders = len(df_orders)\n",
    "print(f'El {round((ordenes_canceladas/total_orders)*100,2)} % de las ordenes fueron canceladas')"
   ],
   "metadata": {
    "collapsed": false,
    "pycharm": {
     "name": "#%%\n"
    }
   }
  },
  {
   "cell_type": "code",
   "execution_count": 76,
   "outputs": [],
   "source": [
    "df_orders[['order_purchase_timestamp','order_approved_at','order_delivered_carrier_date','order_delivered_customer_date','order_estimated_delivery_date']] = df_orders[['order_purchase_timestamp','order_approved_at','order_delivered_carrier_date','order_delivered_customer_date','order_estimated_delivery_date']].apply(pd.to_datetime)"
   ],
   "metadata": {
    "collapsed": false,
    "pycharm": {
     "name": "#%%\n"
    }
   }
  },
  {
   "cell_type": "code",
   "execution_count": 77,
   "outputs": [
    {
     "name": "stdout",
     "output_type": "stream",
     "text": [
      "<class 'pandas.core.frame.DataFrame'>\n",
      "RangeIndex: 99441 entries, 0 to 99440\n",
      "Data columns (total 8 columns):\n",
      " #   Column                         Non-Null Count  Dtype         \n",
      "---  ------                         --------------  -----         \n",
      " 0   order_id                       99441 non-null  object        \n",
      " 1   customer_id                    99441 non-null  object        \n",
      " 2   order_status                   99441 non-null  object        \n",
      " 3   order_purchase_timestamp       99441 non-null  datetime64[ns]\n",
      " 4   order_approved_at              99281 non-null  datetime64[ns]\n",
      " 5   order_delivered_carrier_date   97658 non-null  datetime64[ns]\n",
      " 6   order_delivered_customer_date  96476 non-null  datetime64[ns]\n",
      " 7   order_estimated_delivery_date  99441 non-null  datetime64[ns]\n",
      "dtypes: datetime64[ns](5), object(3)\n",
      "memory usage: 6.1+ MB\n"
     ]
    }
   ],
   "source": [
    "df_orders.info()"
   ],
   "metadata": {
    "collapsed": false,
    "pycharm": {
     "name": "#%%\n"
    }
   }
  },
  {
   "cell_type": "code",
   "execution_count": 78,
   "outputs": [],
   "source": [
    "df_orders['tiempo_de_aprobacion'] = (df_orders['order_approved_at'] - df_orders['order_purchase_timestamp']).dt.total_seconds()/60\n"
   ],
   "metadata": {
    "collapsed": false,
    "pycharm": {
     "name": "#%%\n"
    }
   }
  },
  {
   "cell_type": "code",
   "execution_count": 79,
   "outputs": [
    {
     "name": "stdout",
     "output_type": "stream",
     "text": [
      "<class 'pandas.core.frame.DataFrame'>\n",
      "RangeIndex: 99441 entries, 0 to 99440\n",
      "Data columns (total 9 columns):\n",
      " #   Column                         Non-Null Count  Dtype         \n",
      "---  ------                         --------------  -----         \n",
      " 0   order_id                       99441 non-null  object        \n",
      " 1   customer_id                    99441 non-null  object        \n",
      " 2   order_status                   99441 non-null  object        \n",
      " 3   order_purchase_timestamp       99441 non-null  datetime64[ns]\n",
      " 4   order_approved_at              99281 non-null  datetime64[ns]\n",
      " 5   order_delivered_carrier_date   97658 non-null  datetime64[ns]\n",
      " 6   order_delivered_customer_date  96476 non-null  datetime64[ns]\n",
      " 7   order_estimated_delivery_date  99441 non-null  datetime64[ns]\n",
      " 8   tiempo_de_aprobacion           99281 non-null  float64       \n",
      "dtypes: datetime64[ns](5), float64(1), object(3)\n",
      "memory usage: 6.8+ MB\n"
     ]
    }
   ],
   "source": [
    "df_orders.info()"
   ],
   "metadata": {
    "collapsed": false,
    "pycharm": {
     "name": "#%%\n"
    }
   }
  },
  {
   "cell_type": "code",
   "execution_count": 80,
   "outputs": [
    {
     "data": {
      "text/plain": "47552    270550.833333\n62293     87051.983333\n4541      47042.733333\n4396      46861.683333\n43697     46851.300000\n             ...      \n97696              NaN\n98415              NaN\n98909              NaN\n99283              NaN\n99347              NaN\nName: tiempo_de_aprobacion, Length: 99441, dtype: float64"
     },
     "execution_count": 80,
     "metadata": {},
     "output_type": "execute_result"
    }
   ],
   "source": [
    "df_orders['tiempo_de_aprobacion'].sort_values(ascending=False)"
   ],
   "metadata": {
    "collapsed": false,
    "pycharm": {
     "name": "#%%\n"
    }
   }
  },
  {
   "cell_type": "code",
   "execution_count": 81,
   "outputs": [
    {
     "data": {
      "text/plain": "625.1456581151789"
     },
     "execution_count": 81,
     "metadata": {},
     "output_type": "execute_result"
    }
   ],
   "source": [
    "df_orders['tiempo_de_aprobacion'].mean()"
   ],
   "metadata": {
    "collapsed": false,
    "pycharm": {
     "name": "#%%\n"
    }
   }
  },
  {
   "cell_type": "code",
   "execution_count": 82,
   "outputs": [
    {
     "data": {
      "text/plain": "<AxesSubplot:>"
     },
     "execution_count": 82,
     "metadata": {},
     "output_type": "execute_result"
    },
    {
     "data": {
      "text/plain": "<Figure size 432x288 with 1 Axes>",
      "image/png": "[encoded data removed]"
     },
     "metadata": {
      "needs_background": "light"
     },
     "output_type": "display_data"
    }
   ],
   "source": [
    "df_orders.boxplot(column = 'tiempo_de_aprobacion')"
   ],
   "metadata": {
    "collapsed": false,
    "pycharm": {
     "name": "#%%\n"
    }
   }
  },
  {
   "cell_type": "code",
   "execution_count": 92,
   "outputs": [],
   "source": [
    "q = df_orders[\"tiempo_de_aprobacion\"].quantile(0.99)\n",
    "df_orderss = df_orders[df_orders[\"tiempo_de_aprobacion\"] < q]"
   ],
   "metadata": {
    "collapsed": false,
    "pycharm": {
     "name": "#%%\n"
    }
   }
  },
  {
   "cell_type": "code",
   "execution_count": 93,
   "outputs": [
    {
     "data": {
      "text/plain": "552.3250183135247"
     },
     "execution_count": 93,
     "metadata": {},
     "output_type": "execute_result"
    }
   ],
   "source": [
    "df_orderss['tiempo_de_aprobacion'].mean()"
   ],
   "metadata": {
    "collapsed": false,
    "pycharm": {
     "name": "#%%\n"
    }
   }
  },
  {
   "cell_type": "code",
   "execution_count": 94,
   "outputs": [
    {
     "data": {
      "text/plain": "                               order_id                       customer_id  \\\n15     dcb36b511fcac050b97cd5c05de84dc3  3b6828a50ffe546942b7a473d70ac0fc   \n150    86b37610c0e86e94afe3d5ba4b73fa14  86ff82570097f39b2193254f540e4a69   \n186    5487a8ac1699754d975f853ce8bb9321  a51b373c427132a77b112ca10f502c4f   \n199    58d4c4747ee059eeeb865b349b41f53a  1755fad7863475346bc6c3773fe055d3   \n311    4906eeadde5f70b308c20c4a8f20be02  4e7656e34357b93f14b40c6400ca3f6e   \n...                                 ...                               ...   \n99290  017cf0b342401318dcaeb25478e13a6f  131227776a8b159a13938a0abfa95c5f   \n99348  a69ba794cc7deb415c3e15a0a3877e69  726f0894b5becdf952ea537d5266e543   \n99377  a6bd1f93b7ff72cc348ca07f38ec4bee  6d63fa86bd2f62908ad328325799152f   \n99406  7fd85cb0143de098a4c5ab5a57bfbd91  d32034dfc685b1ae15dd4c78eace868e   \n99415  5fabc81b6322c8443648e1b21a6fef21  32c9df889d41b0ee8309a5efb6855dcb   \n\n      order_status order_purchase_timestamp   order_approved_at  \\\n15       delivered      2018-06-07 19:03:12 2018-06-12 23:31:02   \n150      delivered      2017-11-17 21:14:42 2017-11-22 02:49:29   \n186      delivered      2018-03-29 14:29:44 2018-04-03 05:48:50   \n199      delivered      2018-07-21 12:49:32 2018-07-26 23:31:53   \n311      delivered      2017-12-08 04:45:26 2017-12-12 03:50:30   \n...            ...                      ...                 ...   \n99290    delivered      2017-12-30 02:09:39 2018-01-04 23:17:29   \n99348  unavailable      2017-08-23 16:28:04 2017-08-28 15:44:47   \n99377    delivered      2018-04-20 17:28:40 2018-04-24 19:26:10   \n99406    delivered      2017-05-04 21:05:28 2017-05-09 22:33:28   \n99415  unavailable      2017-10-10 10:50:03 2017-10-14 18:35:57   \n\n      order_delivered_carrier_date order_delivered_customer_date  \\\n15             2018-06-11 14:54:00           2018-06-21 15:34:32   \n150            2017-11-22 17:37:09           2017-12-05 20:23:33   \n186            2018-04-04 01:13:40           2018-04-08 16:22:04   \n199            2018-07-24 12:57:00           2018-07-25 23:58:19   \n311            2017-12-12 17:43:21           2018-01-09 18:04:58   \n...                            ...                           ...   \n99290          2018-01-09 23:16:11           2018-01-13 17:04:53   \n99348                          NaT                           NaT   \n99377          2018-04-23 17:18:40           2018-04-28 17:38:42   \n99406          2017-05-09 17:02:58           2017-05-18 06:34:38   \n99415                          NaT                           NaT   \n\n      order_estimated_delivery_date  tiempo_de_aprobacion  \n15                       2018-07-04           7467.833333  \n150                      2017-12-20           6094.783333  \n186                      2018-04-20           6679.100000  \n199                      2018-07-31           7842.350000  \n311                      2018-01-03           5705.066667  \n...                             ...                   ...  \n99290                    2018-02-01           8467.833333  \n99348                    2017-09-15           7156.716667  \n99377                    2018-05-15           5877.500000  \n99406                    2017-06-01           7288.000000  \n99415                    2017-10-23           6225.900000  \n\n[993 rows x 9 columns]",
      "text/html": "<div>\n<style scoped>\n    .dataframe tbody tr th:only-of-type {\n        vertical-align: middle;\n    }\n\n    .dataframe tbody tr th {\n        vertical-align: top;\n    }\n\n    .dataframe thead th {\n        text-align: right;\n    }\n</style>\n<table border=\"1\" class=\"dataframe\">\n  <thead>\n    <tr style=\"text-align: right;\">\n      <th></th>\n      <th>order_id</th>\n      <th>customer_id</th>\n      <th>order_status</th>\n      <th>order_purchase_timestamp</th>\n      <th>order_approved_at</th>\n      <th>order_delivered_carrier_date</th>\n      <th>order_delivered_customer_date</th>\n      <th>order_estimated_delivery_date</th>\n      <th>tiempo_de_aprobacion</th>\n    </tr>\n  </thead>\n  <tbody>\n    <tr>\n      <th>15</th>\n      <td>dcb36b511fcac050b97cd5c05de84dc3</td>\n      <td>3b6828a50ffe546942b7a473d70ac0fc</td>\n      <td>delivered</td>\n      <td>2018-06-07 19:03:12</td>\n      <td>2018-06-12 23:31:02</td>\n      <td>2018-06-11 14:54:00</td>\n      <td>2018-06-21 15:34:32</td>\n      <td>2018-07-04</td>\n      <td>7467.833333</td>\n    </tr>\n    <tr>\n      <th>150</th>\n      <td>86b37610c0e86e94afe3d5ba4b73fa14</td>\n      <td>86ff82570097f39b2193254f540e4a69</td>\n      <td>delivered</td>\n      <td>2017-11-17 21:14:42</td>\n      <td>2017-11-22 02:49:29</td>\n      <td>2017-11-22 17:37:09</td>\n      <td>2017-12-05 20:23:33</td>\n      <td>2017-12-20</td>\n      <td>6094.783333</td>\n    </tr>\n    <tr>\n      <th>186</th>\n      <td>5487a8ac1699754d975f853ce8bb9321</td>\n      <td>a51b373c427132a77b112ca10f502c4f</td>\n      <td>delivered</td>\n      <td>2018-03-29 14:29:44</td>\n      <td>2018-04-03 05:48:50</td>\n      <td>2018-04-04 01:13:40</td>\n      <td>2018-04-08 16:22:04</td>\n      <td>2018-04-20</td>\n      <td>6679.100000</td>\n    </tr>\n    <tr>\n      <th>199</th>\n      <td>58d4c4747ee059eeeb865b349b41f53a</td>\n      <td>1755fad7863475346bc6c3773fe055d3</td>\n      <td>delivered</td>\n      <td>2018-07-21 12:49:32</td>\n      <td>2018-07-26 23:31:53</td>\n      <td>2018-07-24 12:57:00</td>\n      <td>2018-07-25 23:58:19</td>\n      <td>2018-07-31</td>\n      <td>7842.350000</td>\n    </tr>\n    <tr>\n      <th>311</th>\n      <td>4906eeadde5f70b308c20c4a8f20be02</td>\n      <td>4e7656e34357b93f14b40c6400ca3f6e</td>\n      <td>delivered</td>\n      <td>2017-12-08 04:45:26</td>\n      <td>2017-12-12 03:50:30</td>\n      <td>2017-12-12 17:43:21</td>\n      <td>2018-01-09 18:04:58</td>\n      <td>2018-01-03</td>\n      <td>5705.066667</td>\n    </tr>\n    <tr>\n      <th>...</th>\n      <td>...</td>\n      <td>...</td>\n      <td>...</td>\n      <td>...</td>\n      <td>...</td>\n      <td>...</td>\n      <td>...</td>\n      <td>...</td>\n      <td>...</td>\n    </tr>\n    <tr>\n      <th>99290</th>\n      <td>017cf0b342401318dcaeb25478e13a6f</td>\n      <td>131227776a8b159a13938a0abfa95c5f</td>\n      <td>delivered</td>\n      <td>2017-12-30 02:09:39</td>\n      <td>2018-01-04 23:17:29</td>\n      <td>2018-01-09 23:16:11</td>\n      <td>2018-01-13 17:04:53</td>\n      <td>2018-02-01</td>\n      <td>8467.833333</td>\n    </tr>\n    <tr>\n      <th>99348</th>\n      <td>a69ba794cc7deb415c3e15a0a3877e69</td>\n      <td>726f0894b5becdf952ea537d5266e543</td>\n      <td>unavailable</td>\n      <td>2017-08-23 16:28:04</td>\n      <td>2017-08-28 15:44:47</td>\n      <td>NaT</td>\n      <td>NaT</td>\n      <td>2017-09-15</td>\n      <td>7156.716667</td>\n    </tr>\n    <tr>\n      <th>99377</th>\n      <td>a6bd1f93b7ff72cc348ca07f38ec4bee</td>\n      <td>6d63fa86bd2f62908ad328325799152f</td>\n      <td>delivered</td>\n      <td>2018-04-20 17:28:40</td>\n      <td>2018-04-24 19:26:10</td>\n      <td>2018-04-23 17:18:40</td>\n      <td>2018-04-28 17:38:42</td>\n      <td>2018-05-15</td>\n      <td>5877.500000</td>\n    </tr>\n    <tr>\n      <th>99406</th>\n      <td>7fd85cb0143de098a4c5ab5a57bfbd91</td>\n      <td>d32034dfc685b1ae15dd4c78eace868e</td>\n      <td>delivered</td>\n      <td>2017-05-04 21:05:28</td>\n      <td>2017-05-09 22:33:28</td>\n      <td>2017-05-09 17:02:58</td>\n      <td>2017-05-18 06:34:38</td>\n      <td>2017-06-01</td>\n      <td>7288.000000</td>\n    </tr>\n    <tr>\n      <th>99415</th>\n      <td>5fabc81b6322c8443648e1b21a6fef21</td>\n      <td>32c9df889d41b0ee8309a5efb6855dcb</td>\n      <td>unavailable</td>\n      <td>2017-10-10 10:50:03</td>\n      <td>2017-10-14 18:35:57</td>\n      <td>NaT</td>\n      <td>NaT</td>\n      <td>2017-10-23</td>\n      <td>6225.900000</td>\n    </tr>\n  </tbody>\n</table>\n<p>993 rows × 9 columns</p>\n</div>"
     },
     "execution_count": 94,
     "metadata": {},
     "output_type": "execute_result"
    }
   ],
   "source": [
    "df_orders[df_orders[\"tiempo_de_aprobacion\"] > q]"
   ],
   "metadata": {
    "collapsed": false,
    "pycharm": {
     "name": "#%%\n"
    }
   }
  },
  {
   "cell_type": "code",
   "execution_count": 95,
   "outputs": [
    {
     "data": {
      "text/plain": "<AxesSubplot:>"
     },
     "execution_count": 95,
     "metadata": {},
     "output_type": "execute_result"
    },
    {
     "data": {
      "text/plain": "<Figure size 432x288 with 1 Axes>",
      "image/png": "[encoded data removed]"
     },
     "metadata": {
      "needs_background": "light"
     },
     "output_type": "display_data"
    }
   ],
   "source": [
    "df_orderss.boxplot(column = 'tiempo_de_aprobacion')"
   ],
   "metadata": {
    "collapsed": false,
    "pycharm": {
     "name": "#%%\n"
    }
   }
  }
 ],
 "metadata": {
  "kernelspec": {
   "display_name": "Python 3",
   "language": "python",
   "name": "python3"
  },
  "language_info": {
   "codemirror_mode": {
    "name": "ipython",
    "version": 2
   },
   "file_extension": ".py",
   "mimetype": "text/x-python",
   "name": "python",
   "nbconvert_exporter": "python",
   "pygments_lexer": "ipython2",
   "version": "2.7.6"
  }
 },
 "nbformat": 4,
 "nbformat_minor": 0
}