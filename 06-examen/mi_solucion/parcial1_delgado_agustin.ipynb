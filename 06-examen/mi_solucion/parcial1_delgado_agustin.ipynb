{
 "cells": [
  {
   "cell_type": "code",
   "execution_count": 224,
   "id": "a984fc2e",
   "metadata": {},
   "outputs": [],
   "source": [
    "import pandas as pd\n",
    "import matplotlib.pyplot as plt\n",
    "import numpy as np"
   ]
  },
  {
   "cell_type": "code",
   "execution_count": 225,
   "id": "b48e8fec",
   "metadata": {},
   "outputs": [],
   "source": [
    "df_recibos = pd.read_csv('recibos_facts_debitos.csv')"
   ]
  },
  {
   "cell_type": "code",
   "execution_count": 226,
   "id": "51c9eb7a",
   "metadata": {},
   "outputs": [
    {
     "data": {
      "text/plain": "   Unnamed: 0     Nro Comprobante       Fecha   Total  ID_cliente\n0           0  FAC B0001-00000001  2015-12-10    1.00       675.0\n1           1  FAC B0001-00000002  2015-12-10    1.00       675.0\n2           2  FAC B0001-00000003  2015-12-28  999.99       123.0\n3           3  FAC B0001-00000004  2015-12-28   34.21       123.0\n4           4  FAC B0001-00000005  2015-12-28    0.71       123.0",
      "text/html": "<div>\n<style scoped>\n    .dataframe tbody tr th:only-of-type {\n        vertical-align: middle;\n    }\n\n    .dataframe tbody tr th {\n        vertical-align: top;\n    }\n\n    .dataframe thead th {\n        text-align: right;\n    }\n</style>\n<table border=\"1\" class=\"dataframe\">\n  <thead>\n    <tr style=\"text-align: right;\">\n      <th></th>\n      <th>Unnamed: 0</th>\n      <th>Nro Comprobante</th>\n      <th>Fecha</th>\n      <th>Total</th>\n      <th>ID_cliente</th>\n    </tr>\n  </thead>\n  <tbody>\n    <tr>\n      <th>0</th>\n      <td>0</td>\n      <td>FAC B0001-00000001</td>\n      <td>2015-12-10</td>\n      <td>1.00</td>\n      <td>675.0</td>\n    </tr>\n    <tr>\n      <th>1</th>\n      <td>1</td>\n      <td>FAC B0001-00000002</td>\n      <td>2015-12-10</td>\n      <td>1.00</td>\n      <td>675.0</td>\n    </tr>\n    <tr>\n      <th>2</th>\n      <td>2</td>\n      <td>FAC B0001-00000003</td>\n      <td>2015-12-28</td>\n      <td>999.99</td>\n      <td>123.0</td>\n    </tr>\n    <tr>\n      <th>3</th>\n      <td>3</td>\n      <td>FAC B0001-00000004</td>\n      <td>2015-12-28</td>\n      <td>34.21</td>\n      <td>123.0</td>\n    </tr>\n    <tr>\n      <th>4</th>\n      <td>4</td>\n      <td>FAC B0001-00000005</td>\n      <td>2015-12-28</td>\n      <td>0.71</td>\n      <td>123.0</td>\n    </tr>\n  </tbody>\n</table>\n</div>"
     },
     "execution_count": 226,
     "metadata": {},
     "output_type": "execute_result"
    }
   ],
   "source": [
    "df_recibos.head()"
   ]
  },
  {
   "cell_type": "code",
   "execution_count": 227,
   "id": "0ae92d48",
   "metadata": {},
   "outputs": [],
   "source": [
    "df_dolar = pd.read_csv('dolar_blue - Hoja 1.csv', decimal=',')"
   ]
  },
  {
   "cell_type": "code",
   "execution_count": 228,
   "id": "aafbfc0d",
   "metadata": {},
   "outputs": [
    {
     "data": {
      "text/plain": "        Fecha  Compra  Venta\n0  15-07-2022   283.0  293.0\n1  14-07-2022   279.0  289.0\n2  13-07-2022   273.0  283.0\n3  12-07-2022   262.0  272.0\n4  11-07-2022   258.0  268.0",
      "text/html": "<div>\n<style scoped>\n    .dataframe tbody tr th:only-of-type {\n        vertical-align: middle;\n    }\n\n    .dataframe tbody tr th {\n        vertical-align: top;\n    }\n\n    .dataframe thead th {\n        text-align: right;\n    }\n</style>\n<table border=\"1\" class=\"dataframe\">\n  <thead>\n    <tr style=\"text-align: right;\">\n      <th></th>\n      <th>Fecha</th>\n      <th>Compra</th>\n      <th>Venta</th>\n    </tr>\n  </thead>\n  <tbody>\n    <tr>\n      <th>0</th>\n      <td>15-07-2022</td>\n      <td>283.0</td>\n      <td>293.0</td>\n    </tr>\n    <tr>\n      <th>1</th>\n      <td>14-07-2022</td>\n      <td>279.0</td>\n      <td>289.0</td>\n    </tr>\n    <tr>\n      <th>2</th>\n      <td>13-07-2022</td>\n      <td>273.0</td>\n      <td>283.0</td>\n    </tr>\n    <tr>\n      <th>3</th>\n      <td>12-07-2022</td>\n      <td>262.0</td>\n      <td>272.0</td>\n    </tr>\n    <tr>\n      <th>4</th>\n      <td>11-07-2022</td>\n      <td>258.0</td>\n      <td>268.0</td>\n    </tr>\n  </tbody>\n</table>\n</div>"
     },
     "execution_count": 228,
     "metadata": {},
     "output_type": "execute_result"
    }
   ],
   "source": [
    "df_dolar.head()"
   ]
  },
  {
   "cell_type": "code",
   "execution_count": 229,
   "id": "7dbbfd04",
   "metadata": {},
   "outputs": [
    {
     "data": {
      "text/plain": "          Nro Comprobante       Fecha        Total  ID_cliente\n0      FAC B0001-00000001  2015-12-10         1.00       675.0\n1      FAC B0001-00000002  2015-12-10         1.00       675.0\n2      FAC B0001-00000003  2015-12-28       999.99       123.0\n3      FAC B0001-00000004  2015-12-28        34.21       123.0\n4      FAC B0001-00000005  2015-12-28         0.71       123.0\n...                   ...         ...          ...         ...\n41329  REC X0099-00006794  2018-09-04      2446.00        12.0\n41330  REC X0099-00006794  2014-09-04          NaN         NaN\n41331  REC X0099-00006794  2014-09-04          NaN         NaN\n41332  REC X0099-00006794  2022-09-04          NaN         NaN\n41333  REC X0099-00006794  2022-03-01  10000000.00         NaN\n\n[41334 rows x 4 columns]",
      "text/html": "<div>\n<style scoped>\n    .dataframe tbody tr th:only-of-type {\n        vertical-align: middle;\n    }\n\n    .dataframe tbody tr th {\n        vertical-align: top;\n    }\n\n    .dataframe thead th {\n        text-align: right;\n    }\n</style>\n<table border=\"1\" class=\"dataframe\">\n  <thead>\n    <tr style=\"text-align: right;\">\n      <th></th>\n      <th>Nro Comprobante</th>\n      <th>Fecha</th>\n      <th>Total</th>\n      <th>ID_cliente</th>\n    </tr>\n  </thead>\n  <tbody>\n    <tr>\n      <th>0</th>\n      <td>FAC B0001-00000001</td>\n      <td>2015-12-10</td>\n      <td>1.00</td>\n      <td>675.0</td>\n    </tr>\n    <tr>\n      <th>1</th>\n      <td>FAC B0001-00000002</td>\n      <td>2015-12-10</td>\n      <td>1.00</td>\n      <td>675.0</td>\n    </tr>\n    <tr>\n      <th>2</th>\n      <td>FAC B0001-00000003</td>\n      <td>2015-12-28</td>\n      <td>999.99</td>\n      <td>123.0</td>\n    </tr>\n    <tr>\n      <th>3</th>\n      <td>FAC B0001-00000004</td>\n      <td>2015-12-28</td>\n      <td>34.21</td>\n      <td>123.0</td>\n    </tr>\n    <tr>\n      <th>4</th>\n      <td>FAC B0001-00000005</td>\n      <td>2015-12-28</td>\n      <td>0.71</td>\n      <td>123.0</td>\n    </tr>\n    <tr>\n      <th>...</th>\n      <td>...</td>\n      <td>...</td>\n      <td>...</td>\n      <td>...</td>\n    </tr>\n    <tr>\n      <th>41329</th>\n      <td>REC X0099-00006794</td>\n      <td>2018-09-04</td>\n      <td>2446.00</td>\n      <td>12.0</td>\n    </tr>\n    <tr>\n      <th>41330</th>\n      <td>REC X0099-00006794</td>\n      <td>2014-09-04</td>\n      <td>NaN</td>\n      <td>NaN</td>\n    </tr>\n    <tr>\n      <th>41331</th>\n      <td>REC X0099-00006794</td>\n      <td>2014-09-04</td>\n      <td>NaN</td>\n      <td>NaN</td>\n    </tr>\n    <tr>\n      <th>41332</th>\n      <td>REC X0099-00006794</td>\n      <td>2022-09-04</td>\n      <td>NaN</td>\n      <td>NaN</td>\n    </tr>\n    <tr>\n      <th>41333</th>\n      <td>REC X0099-00006794</td>\n      <td>2022-03-01</td>\n      <td>10000000.00</td>\n      <td>NaN</td>\n    </tr>\n  </tbody>\n</table>\n<p>41334 rows × 4 columns</p>\n</div>"
     },
     "execution_count": 229,
     "metadata": {},
     "output_type": "execute_result"
    }
   ],
   "source": [
    "df_recibos = df_recibos.drop ('Unnamed: 0',axis=1)\n",
    "df_recibos"
   ]
  },
  {
   "cell_type": "code",
   "execution_count": 230,
   "id": "f3904e2f",
   "metadata": {},
   "outputs": [
    {
     "data": {
      "text/plain": "(41334, 4)"
     },
     "execution_count": 230,
     "metadata": {},
     "output_type": "execute_result"
    }
   ],
   "source": [
    "#1 a\n",
    "df_recibos.shape"
   ]
  },
  {
   "cell_type": "code",
   "execution_count": 231,
   "id": "e77bb3ec",
   "metadata": {},
   "outputs": [
    {
     "data": {
      "text/plain": "Nro Comprobante     object\nFecha               object\nTotal              float64\nID_cliente         float64\ndtype: object"
     },
     "execution_count": 231,
     "metadata": {},
     "output_type": "execute_result"
    }
   ],
   "source": [
    "#1 b\n",
    "df_recibos.dtypes"
   ]
  },
  {
   "cell_type": "code",
   "execution_count": 232,
   "id": "c83f1ac6",
   "metadata": {},
   "outputs": [
    {
     "data": {
      "text/plain": "Nro Comprobante    0\nFecha              0\nTotal              3\nID_cliente         4\ndtype: int64"
     },
     "execution_count": 232,
     "metadata": {},
     "output_type": "execute_result"
    }
   ],
   "source": [
    "#2 a\n",
    "q_missing = df_recibos.isna().sum()\n",
    "q_missing"
   ]
  },
  {
   "cell_type": "code",
   "execution_count": 233,
   "id": "5732d565",
   "metadata": {},
   "outputs": [
    {
     "data": {
      "text/plain": "Nro Comprobante    0.000000\nFecha              0.000000\nTotal              0.007258\nID_cliente         0.009677\ndtype: float64"
     },
     "execution_count": 233,
     "metadata": {},
     "output_type": "execute_result"
    }
   ],
   "source": [
    "#2 b\n",
    "(q_missing / len(df_recibos))*100"
   ]
  },
  {
   "cell_type": "code",
   "execution_count": 234,
   "id": "9761e9b2",
   "metadata": {},
   "outputs": [],
   "source": [
    "#2 c\n",
    "#rows_missing = df_recibos[df_recibos.isna()]\n",
    "#rows_missing\n",
    "\n",
    "#esto esta mal"
   ]
  },
  {
   "cell_type": "code",
   "execution_count": 235,
   "outputs": [
    {
     "data": {
      "text/plain": "          Nro Comprobante       Fecha       Total  ID_cliente\n41330  REC X0099-00006794  2014-09-04         NaN         NaN\n41331  REC X0099-00006794  2014-09-04         NaN         NaN\n41332  REC X0099-00006794  2022-09-04         NaN         NaN\n41333  REC X0099-00006794  2022-03-01  10000000.0         NaN",
      "text/html": "<div>\n<style scoped>\n    .dataframe tbody tr th:only-of-type {\n        vertical-align: middle;\n    }\n\n    .dataframe tbody tr th {\n        vertical-align: top;\n    }\n\n    .dataframe thead th {\n        text-align: right;\n    }\n</style>\n<table border=\"1\" class=\"dataframe\">\n  <thead>\n    <tr style=\"text-align: right;\">\n      <th></th>\n      <th>Nro Comprobante</th>\n      <th>Fecha</th>\n      <th>Total</th>\n      <th>ID_cliente</th>\n    </tr>\n  </thead>\n  <tbody>\n    <tr>\n      <th>41330</th>\n      <td>REC X0099-00006794</td>\n      <td>2014-09-04</td>\n      <td>NaN</td>\n      <td>NaN</td>\n    </tr>\n    <tr>\n      <th>41331</th>\n      <td>REC X0099-00006794</td>\n      <td>2014-09-04</td>\n      <td>NaN</td>\n      <td>NaN</td>\n    </tr>\n    <tr>\n      <th>41332</th>\n      <td>REC X0099-00006794</td>\n      <td>2022-09-04</td>\n      <td>NaN</td>\n      <td>NaN</td>\n    </tr>\n    <tr>\n      <th>41333</th>\n      <td>REC X0099-00006794</td>\n      <td>2022-03-01</td>\n      <td>10000000.0</td>\n      <td>NaN</td>\n    </tr>\n  </tbody>\n</table>\n</div>"
     },
     "execution_count": 235,
     "metadata": {},
     "output_type": "execute_result"
    }
   ],
   "source": [
    "df_recibos[df_recibos.isna().any(axis=1)]"
   ],
   "metadata": {
    "collapsed": false,
    "pycharm": {
     "name": "#%%\n"
    }
   }
  },
  {
   "cell_type": "code",
   "execution_count": 236,
   "outputs": [
    {
     "data": {
      "text/plain": "          Nro Comprobante       Fecha    Total  ID_cliente\n0      FAC B0001-00000001  2015-12-10     1.00       675.0\n1      FAC B0001-00000002  2015-12-10     1.00       675.0\n2      FAC B0001-00000003  2015-12-28   999.99       123.0\n3      FAC B0001-00000004  2015-12-28    34.21       123.0\n4      FAC B0001-00000005  2015-12-28     0.71       123.0\n...                   ...         ...      ...         ...\n41325  REC X0099-00006791  2018-09-04  1000.00       931.0\n41326  REC X0099-00006792  2018-09-04  2550.00       650.0\n41327  REC X0099-00006793  2018-09-04  2900.00       528.0\n41328  REC X0099-00006794  2018-09-04  2446.00        12.0\n41329  REC X0099-00006794  2018-09-04  2446.00        12.0\n\n[41330 rows x 4 columns]",
      "text/html": "<div>\n<style scoped>\n    .dataframe tbody tr th:only-of-type {\n        vertical-align: middle;\n    }\n\n    .dataframe tbody tr th {\n        vertical-align: top;\n    }\n\n    .dataframe thead th {\n        text-align: right;\n    }\n</style>\n<table border=\"1\" class=\"dataframe\">\n  <thead>\n    <tr style=\"text-align: right;\">\n      <th></th>\n      <th>Nro Comprobante</th>\n      <th>Fecha</th>\n      <th>Total</th>\n      <th>ID_cliente</th>\n    </tr>\n  </thead>\n  <tbody>\n    <tr>\n      <th>0</th>\n      <td>FAC B0001-00000001</td>\n      <td>2015-12-10</td>\n      <td>1.00</td>\n      <td>675.0</td>\n    </tr>\n    <tr>\n      <th>1</th>\n      <td>FAC B0001-00000002</td>\n      <td>2015-12-10</td>\n      <td>1.00</td>\n      <td>675.0</td>\n    </tr>\n    <tr>\n      <th>2</th>\n      <td>FAC B0001-00000003</td>\n      <td>2015-12-28</td>\n      <td>999.99</td>\n      <td>123.0</td>\n    </tr>\n    <tr>\n      <th>3</th>\n      <td>FAC B0001-00000004</td>\n      <td>2015-12-28</td>\n      <td>34.21</td>\n      <td>123.0</td>\n    </tr>\n    <tr>\n      <th>4</th>\n      <td>FAC B0001-00000005</td>\n      <td>2015-12-28</td>\n      <td>0.71</td>\n      <td>123.0</td>\n    </tr>\n    <tr>\n      <th>...</th>\n      <td>...</td>\n      <td>...</td>\n      <td>...</td>\n      <td>...</td>\n    </tr>\n    <tr>\n      <th>41325</th>\n      <td>REC X0099-00006791</td>\n      <td>2018-09-04</td>\n      <td>1000.00</td>\n      <td>931.0</td>\n    </tr>\n    <tr>\n      <th>41326</th>\n      <td>REC X0099-00006792</td>\n      <td>2018-09-04</td>\n      <td>2550.00</td>\n      <td>650.0</td>\n    </tr>\n    <tr>\n      <th>41327</th>\n      <td>REC X0099-00006793</td>\n      <td>2018-09-04</td>\n      <td>2900.00</td>\n      <td>528.0</td>\n    </tr>\n    <tr>\n      <th>41328</th>\n      <td>REC X0099-00006794</td>\n      <td>2018-09-04</td>\n      <td>2446.00</td>\n      <td>12.0</td>\n    </tr>\n    <tr>\n      <th>41329</th>\n      <td>REC X0099-00006794</td>\n      <td>2018-09-04</td>\n      <td>2446.00</td>\n      <td>12.0</td>\n    </tr>\n  </tbody>\n</table>\n<p>41330 rows × 4 columns</p>\n</div>"
     },
     "execution_count": 236,
     "metadata": {},
     "output_type": "execute_result"
    }
   ],
   "source": [
    "df_recibos = df_recibos.dropna()\n",
    "df_recibos"
   ],
   "metadata": {
    "collapsed": false,
    "pycharm": {
     "name": "#%%\n"
    }
   }
  },
  {
   "cell_type": "code",
   "execution_count": 237,
   "id": "1d37d865",
   "metadata": {},
   "outputs": [
    {
     "data": {
      "text/plain": "              Total    ID_cliente\ncount  41330.000000  41330.000000\nmean    1060.510129    483.246141\nstd     1300.033900    274.816781\nmin        0.000000      0.000000\n25%      331.430000    242.000000\n50%      998.980000    476.000000\n75%     1000.000000    733.000000\nmax    56000.000000    964.000000",
      "text/html": "<div>\n<style scoped>\n    .dataframe tbody tr th:only-of-type {\n        vertical-align: middle;\n    }\n\n    .dataframe tbody tr th {\n        vertical-align: top;\n    }\n\n    .dataframe thead th {\n        text-align: right;\n    }\n</style>\n<table border=\"1\" class=\"dataframe\">\n  <thead>\n    <tr style=\"text-align: right;\">\n      <th></th>\n      <th>Total</th>\n      <th>ID_cliente</th>\n    </tr>\n  </thead>\n  <tbody>\n    <tr>\n      <th>count</th>\n      <td>41330.000000</td>\n      <td>41330.000000</td>\n    </tr>\n    <tr>\n      <th>mean</th>\n      <td>1060.510129</td>\n      <td>483.246141</td>\n    </tr>\n    <tr>\n      <th>std</th>\n      <td>1300.033900</td>\n      <td>274.816781</td>\n    </tr>\n    <tr>\n      <th>min</th>\n      <td>0.000000</td>\n      <td>0.000000</td>\n    </tr>\n    <tr>\n      <th>25%</th>\n      <td>331.430000</td>\n      <td>242.000000</td>\n    </tr>\n    <tr>\n      <th>50%</th>\n      <td>998.980000</td>\n      <td>476.000000</td>\n    </tr>\n    <tr>\n      <th>75%</th>\n      <td>1000.000000</td>\n      <td>733.000000</td>\n    </tr>\n    <tr>\n      <th>max</th>\n      <td>56000.000000</td>\n      <td>964.000000</td>\n    </tr>\n  </tbody>\n</table>\n</div>"
     },
     "execution_count": 237,
     "metadata": {},
     "output_type": "execute_result"
    }
   ],
   "source": [
    "#3\n",
    "df_recibos.describe()"
   ]
  },
  {
   "cell_type": "code",
   "execution_count": 238,
   "id": "51be6ea0",
   "metadata": {},
   "outputs": [],
   "source": [
    "#4\n",
    "\n",
    "#Un outliner es un dato que se considera extraoridanrio en una muestra. EJEMPLO: Si en un colegio, la edad promedio es de 10 \n",
    "# Y aparece un dato con una edad de 25, ese dato es un outliner. Pueden aparecer por errores, o porque realmente son sucesos extraordinarios\n",
    "\n",
    "#Por lo general (depende del caso), suele no tenerse en cuenta para que los analisis e insights que sacamos sean lo mas representativos\n",
    "# a la muestra"
   ]
  },
  {
   "cell_type": "code",
   "execution_count": 239,
   "id": "3f85f1cc",
   "metadata": {},
   "outputs": [
    {
     "data": {
      "text/plain": "Index(['Nro Comprobante', 'Fecha', 'Total', 'ID_cliente'], dtype='object')"
     },
     "execution_count": 239,
     "metadata": {},
     "output_type": "execute_result"
    }
   ],
   "source": [
    "df_recibos.columns"
   ]
  },
  {
   "cell_type": "code",
   "execution_count": 240,
   "id": "0e036485",
   "metadata": {},
   "outputs": [
    {
     "data": {
      "text/plain": "          nro comprobante       fecha    total  id_cliente\n0      FAC B0001-00000001  2015-12-10     1.00       675.0\n1      FAC B0001-00000002  2015-12-10     1.00       675.0\n2      FAC B0001-00000003  2015-12-28   999.99       123.0\n3      FAC B0001-00000004  2015-12-28    34.21       123.0\n4      FAC B0001-00000005  2015-12-28     0.71       123.0\n...                   ...         ...      ...         ...\n41325  REC X0099-00006791  2018-09-04  1000.00       931.0\n41326  REC X0099-00006792  2018-09-04  2550.00       650.0\n41327  REC X0099-00006793  2018-09-04  2900.00       528.0\n41328  REC X0099-00006794  2018-09-04  2446.00        12.0\n41329  REC X0099-00006794  2018-09-04  2446.00        12.0\n\n[41330 rows x 4 columns]",
      "text/html": "<div>\n<style scoped>\n    .dataframe tbody tr th:only-of-type {\n        vertical-align: middle;\n    }\n\n    .dataframe tbody tr th {\n        vertical-align: top;\n    }\n\n    .dataframe thead th {\n        text-align: right;\n    }\n</style>\n<table border=\"1\" class=\"dataframe\">\n  <thead>\n    <tr style=\"text-align: right;\">\n      <th></th>\n      <th>nro comprobante</th>\n      <th>fecha</th>\n      <th>total</th>\n      <th>id_cliente</th>\n    </tr>\n  </thead>\n  <tbody>\n    <tr>\n      <th>0</th>\n      <td>FAC B0001-00000001</td>\n      <td>2015-12-10</td>\n      <td>1.00</td>\n      <td>675.0</td>\n    </tr>\n    <tr>\n      <th>1</th>\n      <td>FAC B0001-00000002</td>\n      <td>2015-12-10</td>\n      <td>1.00</td>\n      <td>675.0</td>\n    </tr>\n    <tr>\n      <th>2</th>\n      <td>FAC B0001-00000003</td>\n      <td>2015-12-28</td>\n      <td>999.99</td>\n      <td>123.0</td>\n    </tr>\n    <tr>\n      <th>3</th>\n      <td>FAC B0001-00000004</td>\n      <td>2015-12-28</td>\n      <td>34.21</td>\n      <td>123.0</td>\n    </tr>\n    <tr>\n      <th>4</th>\n      <td>FAC B0001-00000005</td>\n      <td>2015-12-28</td>\n      <td>0.71</td>\n      <td>123.0</td>\n    </tr>\n    <tr>\n      <th>...</th>\n      <td>...</td>\n      <td>...</td>\n      <td>...</td>\n      <td>...</td>\n    </tr>\n    <tr>\n      <th>41325</th>\n      <td>REC X0099-00006791</td>\n      <td>2018-09-04</td>\n      <td>1000.00</td>\n      <td>931.0</td>\n    </tr>\n    <tr>\n      <th>41326</th>\n      <td>REC X0099-00006792</td>\n      <td>2018-09-04</td>\n      <td>2550.00</td>\n      <td>650.0</td>\n    </tr>\n    <tr>\n      <th>41327</th>\n      <td>REC X0099-00006793</td>\n      <td>2018-09-04</td>\n      <td>2900.00</td>\n      <td>528.0</td>\n    </tr>\n    <tr>\n      <th>41328</th>\n      <td>REC X0099-00006794</td>\n      <td>2018-09-04</td>\n      <td>2446.00</td>\n      <td>12.0</td>\n    </tr>\n    <tr>\n      <th>41329</th>\n      <td>REC X0099-00006794</td>\n      <td>2018-09-04</td>\n      <td>2446.00</td>\n      <td>12.0</td>\n    </tr>\n  </tbody>\n</table>\n<p>41330 rows × 4 columns</p>\n</div>"
     },
     "execution_count": 240,
     "metadata": {},
     "output_type": "execute_result"
    }
   ],
   "source": [
    "# 5\n",
    "\n",
    "df_recibos.columns = df_recibos.columns.str.lower()\n",
    "df_recibos"
   ]
  },
  {
   "cell_type": "code",
   "execution_count": 241,
   "id": "61d02202",
   "metadata": {},
   "outputs": [
    {
     "data": {
      "text/plain": "965"
     },
     "execution_count": 241,
     "metadata": {},
     "output_type": "execute_result"
    }
   ],
   "source": [
    "#6 \n",
    "df_recibos['id_cliente'].nunique()"
   ]
  },
  {
   "cell_type": "code",
   "execution_count": 242,
   "id": "5acc9467",
   "metadata": {},
   "outputs": [
    {
     "name": "stderr",
     "output_type": "stream",
     "text": [
      "C:\\Users\\agusd\\AppData\\Local\\Temp\\ipykernel_21764\\390102175.py:2: SettingWithCopyWarning: \n",
      "A value is trying to be set on a copy of a slice from a DataFrame.\n",
      "Try using .loc[row_indexer,col_indexer] = value instead\n",
      "\n",
      "See the caveats in the documentation: https://pandas.pydata.org/pandas-docs/stable/user_guide/indexing.html#returning-a-view-versus-a-copy\n",
      "  df_recibos['tipo'] = df_recibos['nro comprobante'].str.split(\" \").str[0]\n"
     ]
    },
    {
     "data": {
      "text/plain": "          nro comprobante       fecha    total  id_cliente tipo\n0      FAC B0001-00000001  2015-12-10     1.00       675.0  FAC\n1      FAC B0001-00000002  2015-12-10     1.00       675.0  FAC\n2      FAC B0001-00000003  2015-12-28   999.99       123.0  FAC\n3      FAC B0001-00000004  2015-12-28    34.21       123.0  FAC\n4      FAC B0001-00000005  2015-12-28     0.71       123.0  FAC\n...                   ...         ...      ...         ...  ...\n41325  REC X0099-00006791  2018-09-04  1000.00       931.0  REC\n41326  REC X0099-00006792  2018-09-04  2550.00       650.0  REC\n41327  REC X0099-00006793  2018-09-04  2900.00       528.0  REC\n41328  REC X0099-00006794  2018-09-04  2446.00        12.0  REC\n41329  REC X0099-00006794  2018-09-04  2446.00        12.0  REC\n\n[41330 rows x 5 columns]",
      "text/html": "<div>\n<style scoped>\n    .dataframe tbody tr th:only-of-type {\n        vertical-align: middle;\n    }\n\n    .dataframe tbody tr th {\n        vertical-align: top;\n    }\n\n    .dataframe thead th {\n        text-align: right;\n    }\n</style>\n<table border=\"1\" class=\"dataframe\">\n  <thead>\n    <tr style=\"text-align: right;\">\n      <th></th>\n      <th>nro comprobante</th>\n      <th>fecha</th>\n      <th>total</th>\n      <th>id_cliente</th>\n      <th>tipo</th>\n    </tr>\n  </thead>\n  <tbody>\n    <tr>\n      <th>0</th>\n      <td>FAC B0001-00000001</td>\n      <td>2015-12-10</td>\n      <td>1.00</td>\n      <td>675.0</td>\n      <td>FAC</td>\n    </tr>\n    <tr>\n      <th>1</th>\n      <td>FAC B0001-00000002</td>\n      <td>2015-12-10</td>\n      <td>1.00</td>\n      <td>675.0</td>\n      <td>FAC</td>\n    </tr>\n    <tr>\n      <th>2</th>\n      <td>FAC B0001-00000003</td>\n      <td>2015-12-28</td>\n      <td>999.99</td>\n      <td>123.0</td>\n      <td>FAC</td>\n    </tr>\n    <tr>\n      <th>3</th>\n      <td>FAC B0001-00000004</td>\n      <td>2015-12-28</td>\n      <td>34.21</td>\n      <td>123.0</td>\n      <td>FAC</td>\n    </tr>\n    <tr>\n      <th>4</th>\n      <td>FAC B0001-00000005</td>\n      <td>2015-12-28</td>\n      <td>0.71</td>\n      <td>123.0</td>\n      <td>FAC</td>\n    </tr>\n    <tr>\n      <th>...</th>\n      <td>...</td>\n      <td>...</td>\n      <td>...</td>\n      <td>...</td>\n      <td>...</td>\n    </tr>\n    <tr>\n      <th>41325</th>\n      <td>REC X0099-00006791</td>\n      <td>2018-09-04</td>\n      <td>1000.00</td>\n      <td>931.0</td>\n      <td>REC</td>\n    </tr>\n    <tr>\n      <th>41326</th>\n      <td>REC X0099-00006792</td>\n      <td>2018-09-04</td>\n      <td>2550.00</td>\n      <td>650.0</td>\n      <td>REC</td>\n    </tr>\n    <tr>\n      <th>41327</th>\n      <td>REC X0099-00006793</td>\n      <td>2018-09-04</td>\n      <td>2900.00</td>\n      <td>528.0</td>\n      <td>REC</td>\n    </tr>\n    <tr>\n      <th>41328</th>\n      <td>REC X0099-00006794</td>\n      <td>2018-09-04</td>\n      <td>2446.00</td>\n      <td>12.0</td>\n      <td>REC</td>\n    </tr>\n    <tr>\n      <th>41329</th>\n      <td>REC X0099-00006794</td>\n      <td>2018-09-04</td>\n      <td>2446.00</td>\n      <td>12.0</td>\n      <td>REC</td>\n    </tr>\n  </tbody>\n</table>\n<p>41330 rows × 5 columns</p>\n</div>"
     },
     "execution_count": 242,
     "metadata": {},
     "output_type": "execute_result"
    }
   ],
   "source": [
    "#7\n",
    "df_recibos['tipo'] = df_recibos['nro comprobante'].str.split(\" \").str[0]\n",
    "df_recibos"
   ]
  },
  {
   "cell_type": "code",
   "execution_count": 243,
   "id": "9cc01bfa",
   "metadata": {},
   "outputs": [
    {
     "data": {
      "text/plain": "N/D    15762\nREC    12207\nFAC    10974\nN/C     2387\nName: tipo, dtype: int64"
     },
     "execution_count": 243,
     "metadata": {},
     "output_type": "execute_result"
    }
   ],
   "source": [
    "#8 a\n",
    "df_recibos['tipo'].value_counts()"
   ]
  },
  {
   "cell_type": "code",
   "execution_count": 244,
   "id": "fe10e969",
   "metadata": {},
   "outputs": [
    {
     "data": {
      "text/plain": "            monto\ntipo             \nFAC    7598706.46\nN/C    1335102.12\nN/D    8204046.41\nREC   26693028.63",
      "text/html": "<div>\n<style scoped>\n    .dataframe tbody tr th:only-of-type {\n        vertical-align: middle;\n    }\n\n    .dataframe tbody tr th {\n        vertical-align: top;\n    }\n\n    .dataframe thead th {\n        text-align: right;\n    }\n</style>\n<table border=\"1\" class=\"dataframe\">\n  <thead>\n    <tr style=\"text-align: right;\">\n      <th></th>\n      <th>monto</th>\n    </tr>\n    <tr>\n      <th>tipo</th>\n      <th></th>\n    </tr>\n  </thead>\n  <tbody>\n    <tr>\n      <th>FAC</th>\n      <td>7598706.46</td>\n    </tr>\n    <tr>\n      <th>N/C</th>\n      <td>1335102.12</td>\n    </tr>\n    <tr>\n      <th>N/D</th>\n      <td>8204046.41</td>\n    </tr>\n    <tr>\n      <th>REC</th>\n      <td>26693028.63</td>\n    </tr>\n  </tbody>\n</table>\n</div>"
     },
     "execution_count": 244,
     "metadata": {},
     "output_type": "execute_result"
    }
   ],
   "source": [
    "#8 b, c, d, e\n",
    "\n",
    "df_gr_tipo = df_recibos.groupby('tipo').agg(monto = ('total', 'sum'))\n",
    "df_gr_tipo"
   ]
  },
  {
   "cell_type": "code",
   "execution_count": 245,
   "id": "aaec055c",
   "metadata": {},
   "outputs": [
    {
     "data": {
      "text/plain": "nro comprobante     object\nfecha               object\ntotal              float64\nid_cliente         float64\ntipo                object\ndtype: object"
     },
     "execution_count": 245,
     "metadata": {},
     "output_type": "execute_result"
    }
   ],
   "source": [
    "#9\n",
    "df_recibos.dtypes"
   ]
  },
  {
   "cell_type": "code",
   "execution_count": 246,
   "id": "083879b3",
   "metadata": {},
   "outputs": [
    {
     "name": "stderr",
     "output_type": "stream",
     "text": [
      "C:\\Users\\agusd\\AppData\\Local\\Temp\\ipykernel_21764\\4153088477.py:1: SettingWithCopyWarning: \n",
      "A value is trying to be set on a copy of a slice from a DataFrame.\n",
      "Try using .loc[row_indexer,col_indexer] = value instead\n",
      "\n",
      "See the caveats in the documentation: https://pandas.pydata.org/pandas-docs/stable/user_guide/indexing.html#returning-a-view-versus-a-copy\n",
      "  df_recibos['fecha'] = pd.to_datetime(df_recibos['fecha'])\n"
     ]
    },
    {
     "data": {
      "text/plain": "nro comprobante            object\nfecha              datetime64[ns]\ntotal                     float64\nid_cliente                float64\ntipo                       object\ndtype: object"
     },
     "execution_count": 246,
     "metadata": {},
     "output_type": "execute_result"
    }
   ],
   "source": [
    "df_recibos['fecha'] = pd.to_datetime(df_recibos['fecha'])\n",
    "df_recibos.dtypes"
   ]
  },
  {
   "cell_type": "code",
   "execution_count": 247,
   "id": "ade6c159",
   "metadata": {},
   "outputs": [
    {
     "name": "stderr",
     "output_type": "stream",
     "text": [
      "C:\\Users\\agusd\\AppData\\Local\\Temp\\ipykernel_21764\\2045797712.py:1: SettingWithCopyWarning: \n",
      "A value is trying to be set on a copy of a slice from a DataFrame.\n",
      "Try using .loc[row_indexer,col_indexer] = value instead\n",
      "\n",
      "See the caveats in the documentation: https://pandas.pydata.org/pandas-docs/stable/user_guide/indexing.html#returning-a-view-versus-a-copy\n",
      "  df_recibos['año_y_mes'] = df_recibos['fecha'].dt.strftime('%Y-%m')\n"
     ]
    },
    {
     "data": {
      "text/plain": "          nro comprobante      fecha    total  id_cliente tipo año_y_mes\n0      FAC B0001-00000001 2015-12-10     1.00       675.0  FAC   2015-12\n1      FAC B0001-00000002 2015-12-10     1.00       675.0  FAC   2015-12\n2      FAC B0001-00000003 2015-12-28   999.99       123.0  FAC   2015-12\n3      FAC B0001-00000004 2015-12-28    34.21       123.0  FAC   2015-12\n4      FAC B0001-00000005 2015-12-28     0.71       123.0  FAC   2015-12\n...                   ...        ...      ...         ...  ...       ...\n41325  REC X0099-00006791 2018-09-04  1000.00       931.0  REC   2018-09\n41326  REC X0099-00006792 2018-09-04  2550.00       650.0  REC   2018-09\n41327  REC X0099-00006793 2018-09-04  2900.00       528.0  REC   2018-09\n41328  REC X0099-00006794 2018-09-04  2446.00        12.0  REC   2018-09\n41329  REC X0099-00006794 2018-09-04  2446.00        12.0  REC   2018-09\n\n[41330 rows x 6 columns]",
      "text/html": "<div>\n<style scoped>\n    .dataframe tbody tr th:only-of-type {\n        vertical-align: middle;\n    }\n\n    .dataframe tbody tr th {\n        vertical-align: top;\n    }\n\n    .dataframe thead th {\n        text-align: right;\n    }\n</style>\n<table border=\"1\" class=\"dataframe\">\n  <thead>\n    <tr style=\"text-align: right;\">\n      <th></th>\n      <th>nro comprobante</th>\n      <th>fecha</th>\n      <th>total</th>\n      <th>id_cliente</th>\n      <th>tipo</th>\n      <th>año_y_mes</th>\n    </tr>\n  </thead>\n  <tbody>\n    <tr>\n      <th>0</th>\n      <td>FAC B0001-00000001</td>\n      <td>2015-12-10</td>\n      <td>1.00</td>\n      <td>675.0</td>\n      <td>FAC</td>\n      <td>2015-12</td>\n    </tr>\n    <tr>\n      <th>1</th>\n      <td>FAC B0001-00000002</td>\n      <td>2015-12-10</td>\n      <td>1.00</td>\n      <td>675.0</td>\n      <td>FAC</td>\n      <td>2015-12</td>\n    </tr>\n    <tr>\n      <th>2</th>\n      <td>FAC B0001-00000003</td>\n      <td>2015-12-28</td>\n      <td>999.99</td>\n      <td>123.0</td>\n      <td>FAC</td>\n      <td>2015-12</td>\n    </tr>\n    <tr>\n      <th>3</th>\n      <td>FAC B0001-00000004</td>\n      <td>2015-12-28</td>\n      <td>34.21</td>\n      <td>123.0</td>\n      <td>FAC</td>\n      <td>2015-12</td>\n    </tr>\n    <tr>\n      <th>4</th>\n      <td>FAC B0001-00000005</td>\n      <td>2015-12-28</td>\n      <td>0.71</td>\n      <td>123.0</td>\n      <td>FAC</td>\n      <td>2015-12</td>\n    </tr>\n    <tr>\n      <th>...</th>\n      <td>...</td>\n      <td>...</td>\n      <td>...</td>\n      <td>...</td>\n      <td>...</td>\n      <td>...</td>\n    </tr>\n    <tr>\n      <th>41325</th>\n      <td>REC X0099-00006791</td>\n      <td>2018-09-04</td>\n      <td>1000.00</td>\n      <td>931.0</td>\n      <td>REC</td>\n      <td>2018-09</td>\n    </tr>\n    <tr>\n      <th>41326</th>\n      <td>REC X0099-00006792</td>\n      <td>2018-09-04</td>\n      <td>2550.00</td>\n      <td>650.0</td>\n      <td>REC</td>\n      <td>2018-09</td>\n    </tr>\n    <tr>\n      <th>41327</th>\n      <td>REC X0099-00006793</td>\n      <td>2018-09-04</td>\n      <td>2900.00</td>\n      <td>528.0</td>\n      <td>REC</td>\n      <td>2018-09</td>\n    </tr>\n    <tr>\n      <th>41328</th>\n      <td>REC X0099-00006794</td>\n      <td>2018-09-04</td>\n      <td>2446.00</td>\n      <td>12.0</td>\n      <td>REC</td>\n      <td>2018-09</td>\n    </tr>\n    <tr>\n      <th>41329</th>\n      <td>REC X0099-00006794</td>\n      <td>2018-09-04</td>\n      <td>2446.00</td>\n      <td>12.0</td>\n      <td>REC</td>\n      <td>2018-09</td>\n    </tr>\n  </tbody>\n</table>\n<p>41330 rows × 6 columns</p>\n</div>"
     },
     "execution_count": 247,
     "metadata": {},
     "output_type": "execute_result"
    }
   ],
   "source": [
    "df_recibos['año_y_mes'] = df_recibos['fecha'].dt.strftime('%Y-%m')\n",
    "df_recibos"
   ]
  },
  {
   "cell_type": "code",
   "execution_count": 248,
   "id": "017af54e",
   "metadata": {},
   "outputs": [
    {
     "data": {
      "text/plain": "34897075.04"
     },
     "execution_count": 248,
     "metadata": {},
     "output_type": "execute_result"
    }
   ],
   "source": [
    "# 11\n",
    "df_recibos_REC_ND = df_recibos[(df_recibos['tipo'] == 'REC') | (df_recibos['tipo'] == 'N/D')]\n",
    "df_recibos_REC_ND['total'].sum()"
   ]
  },
  {
   "cell_type": "code",
   "execution_count": 249,
   "id": "05e504a2",
   "metadata": {},
   "outputs": [
    {
     "data": {
      "text/plain": "   año_y_mes  monto_cobrado  cantidad_recibos\n0    2015-12        3339.00                 4\n1    2016-01       23217.27                24\n2    2016-02       87138.09                61\n3    2016-03      193843.65               158\n4    2016-04      208850.76               171\n..       ...            ...               ...\n74   2022-02      177288.65               189\n75   2022-03      245495.68               209\n76   2022-04      145510.59               148\n77   2022-05       87518.58               106\n78   2022-06       81386.59                88\n\n[79 rows x 3 columns]",
      "text/html": "<div>\n<style scoped>\n    .dataframe tbody tr th:only-of-type {\n        vertical-align: middle;\n    }\n\n    .dataframe tbody tr th {\n        vertical-align: top;\n    }\n\n    .dataframe thead th {\n        text-align: right;\n    }\n</style>\n<table border=\"1\" class=\"dataframe\">\n  <thead>\n    <tr style=\"text-align: right;\">\n      <th></th>\n      <th>año_y_mes</th>\n      <th>monto_cobrado</th>\n      <th>cantidad_recibos</th>\n    </tr>\n  </thead>\n  <tbody>\n    <tr>\n      <th>0</th>\n      <td>2015-12</td>\n      <td>3339.00</td>\n      <td>4</td>\n    </tr>\n    <tr>\n      <th>1</th>\n      <td>2016-01</td>\n      <td>23217.27</td>\n      <td>24</td>\n    </tr>\n    <tr>\n      <th>2</th>\n      <td>2016-02</td>\n      <td>87138.09</td>\n      <td>61</td>\n    </tr>\n    <tr>\n      <th>3</th>\n      <td>2016-03</td>\n      <td>193843.65</td>\n      <td>158</td>\n    </tr>\n    <tr>\n      <th>4</th>\n      <td>2016-04</td>\n      <td>208850.76</td>\n      <td>171</td>\n    </tr>\n    <tr>\n      <th>...</th>\n      <td>...</td>\n      <td>...</td>\n      <td>...</td>\n    </tr>\n    <tr>\n      <th>74</th>\n      <td>2022-02</td>\n      <td>177288.65</td>\n      <td>189</td>\n    </tr>\n    <tr>\n      <th>75</th>\n      <td>2022-03</td>\n      <td>245495.68</td>\n      <td>209</td>\n    </tr>\n    <tr>\n      <th>76</th>\n      <td>2022-04</td>\n      <td>145510.59</td>\n      <td>148</td>\n    </tr>\n    <tr>\n      <th>77</th>\n      <td>2022-05</td>\n      <td>87518.58</td>\n      <td>106</td>\n    </tr>\n    <tr>\n      <th>78</th>\n      <td>2022-06</td>\n      <td>81386.59</td>\n      <td>88</td>\n    </tr>\n  </tbody>\n</table>\n<p>79 rows × 3 columns</p>\n</div>"
     },
     "execution_count": 249,
     "metadata": {},
     "output_type": "execute_result"
    }
   ],
   "source": [
    "# TERMINAR EL 11\n",
    "\n",
    "df_gr_añoymes = df_recibos_REC_ND.groupby('año_y_mes').agg(monto_cobrado = ('total','sum'), cantidad_recibos = ('nro comprobante','count')).reset_index()\n",
    "df_gr_añoymes"
   ]
  },
  {
   "cell_type": "code",
   "execution_count": 250,
   "id": "41c4e22c",
   "metadata": {},
   "outputs": [
    {
     "data": {
      "text/plain": "Empty DataFrame\nColumns: [nro comprobante, fecha, total, id_cliente, tipo, año_y_mes]\nIndex: []",
      "text/html": "<div>\n<style scoped>\n    .dataframe tbody tr th:only-of-type {\n        vertical-align: middle;\n    }\n\n    .dataframe tbody tr th {\n        vertical-align: top;\n    }\n\n    .dataframe thead th {\n        text-align: right;\n    }\n</style>\n<table border=\"1\" class=\"dataframe\">\n  <thead>\n    <tr style=\"text-align: right;\">\n      <th></th>\n      <th>nro comprobante</th>\n      <th>fecha</th>\n      <th>total</th>\n      <th>id_cliente</th>\n      <th>tipo</th>\n      <th>año_y_mes</th>\n    </tr>\n  </thead>\n  <tbody>\n  </tbody>\n</table>\n</div>"
     },
     "execution_count": 250,
     "metadata": {},
     "output_type": "execute_result"
    }
   ],
   "source": [
    "#12\n",
    "df_grandes = df_recibos[df_recibos['total'] > 60000]\n",
    "df_grandes\n",
    "\n",
    "#No hay valores mayores a 60000"
   ]
  },
  {
   "cell_type": "code",
   "execution_count": 251,
   "id": "1dd7bc4c",
   "metadata": {},
   "outputs": [
    {
     "data": {
      "text/plain": "56000.0"
     },
     "execution_count": 251,
     "metadata": {},
     "output_type": "execute_result"
    }
   ],
   "source": [
    "#13\n",
    "df_recibos['total'].max()"
   ]
  },
  {
   "cell_type": "code",
   "execution_count": 252,
   "id": "bb818f3d",
   "metadata": {},
   "outputs": [
    {
     "data": {
      "text/plain": "998.98"
     },
     "execution_count": 252,
     "metadata": {},
     "output_type": "execute_result"
    }
   ],
   "source": [
    "#14\n",
    "df_recibos['total'].mean()\n",
    "df_recibos['total'].median()\n",
    "\n",
    "#Podria llegar a eliminarlo, pues lo consideramos un outlier. Es un valor que se aleja demasiado de la media de esa muestra\n",
    "# y podria llegar a arruinar la calidad de las conclusiones que saquemos"
   ]
  },
  {
   "cell_type": "code",
   "execution_count": 253,
   "id": "27b9aae8",
   "metadata": {},
   "outputs": [
    {
     "data": {
      "text/plain": "41329"
     },
     "execution_count": 253,
     "metadata": {},
     "output_type": "execute_result"
    }
   ],
   "source": [
    "df_recibos2 = df_recibos.drop(df_recibos['total'].idxmax())\n",
    "len(df_recibos2)"
   ]
  },
  {
   "cell_type": "code",
   "execution_count": 254,
   "id": "e769ddb1",
   "metadata": {},
   "outputs": [
    {
     "name": "stdout",
     "output_type": "stream",
     "text": [
      "a) filas y cols \n",
      "(1763, 3)\n",
      "b) dtypes\n",
      "Fecha      object\n",
      "Compra    float64\n",
      "Venta     float64\n",
      "dtype: object\n",
      "c) missing values\n",
      "Fecha     0\n",
      "Compra    0\n",
      "Venta     0\n",
      "dtype: int64\n"
     ]
    }
   ],
   "source": [
    "#DATASET DOLAR\n",
    "\n",
    "#16\n",
    "print('a) filas y cols ')\n",
    "print(df_dolar.shape)\n",
    "print('b) dtypes')\n",
    "print(df_dolar.dtypes)\n",
    "print('c) missing values')\n",
    "print(df_dolar.isna().sum())"
   ]
  },
  {
   "cell_type": "code",
   "execution_count": 255,
   "id": "902cbd73",
   "metadata": {},
   "outputs": [
    {
     "data": {
      "text/plain": "            Compra        Venta\ncount  1763.000000  1763.000000\nmean     73.657561    76.179109\nstd      68.930156    70.883530\nmin      12.750000    12.850000\n25%      16.005000    16.410000\n50%      37.250000    39.000000\n75%     139.000000   144.000000\nmax     283.000000   293.000000",
      "text/html": "<div>\n<style scoped>\n    .dataframe tbody tr th:only-of-type {\n        vertical-align: middle;\n    }\n\n    .dataframe tbody tr th {\n        vertical-align: top;\n    }\n\n    .dataframe thead th {\n        text-align: right;\n    }\n</style>\n<table border=\"1\" class=\"dataframe\">\n  <thead>\n    <tr style=\"text-align: right;\">\n      <th></th>\n      <th>Compra</th>\n      <th>Venta</th>\n    </tr>\n  </thead>\n  <tbody>\n    <tr>\n      <th>count</th>\n      <td>1763.000000</td>\n      <td>1763.000000</td>\n    </tr>\n    <tr>\n      <th>mean</th>\n      <td>73.657561</td>\n      <td>76.179109</td>\n    </tr>\n    <tr>\n      <th>std</th>\n      <td>68.930156</td>\n      <td>70.883530</td>\n    </tr>\n    <tr>\n      <th>min</th>\n      <td>12.750000</td>\n      <td>12.850000</td>\n    </tr>\n    <tr>\n      <th>25%</th>\n      <td>16.005000</td>\n      <td>16.410000</td>\n    </tr>\n    <tr>\n      <th>50%</th>\n      <td>37.250000</td>\n      <td>39.000000</td>\n    </tr>\n    <tr>\n      <th>75%</th>\n      <td>139.000000</td>\n      <td>144.000000</td>\n    </tr>\n    <tr>\n      <th>max</th>\n      <td>283.000000</td>\n      <td>293.000000</td>\n    </tr>\n  </tbody>\n</table>\n</div>"
     },
     "execution_count": 255,
     "metadata": {},
     "output_type": "execute_result"
    }
   ],
   "source": [
    "\n",
    "df_dolar.describe()"
   ]
  },
  {
   "cell_type": "code",
   "execution_count": 256,
   "id": "78407cde",
   "metadata": {},
   "outputs": [
    {
     "data": {
      "text/plain": "    año_mes  valor_promedio\n0   2015-01       14.857500\n1   2015-02       15.098000\n2   2015-03       14.854000\n3   2015-04       15.162500\n4   2015-05       15.296667\n..      ...             ...\n91  2022-08      218.900000\n92  2022-09      207.750000\n93  2022-10      207.300000\n94  2022-11      215.750000\n95  2022-12      219.750000\n\n[96 rows x 2 columns]",
      "text/html": "<div>\n<style scoped>\n    .dataframe tbody tr th:only-of-type {\n        vertical-align: middle;\n    }\n\n    .dataframe tbody tr th {\n        vertical-align: top;\n    }\n\n    .dataframe thead th {\n        text-align: right;\n    }\n</style>\n<table border=\"1\" class=\"dataframe\">\n  <thead>\n    <tr style=\"text-align: right;\">\n      <th></th>\n      <th>año_mes</th>\n      <th>valor_promedio</th>\n    </tr>\n  </thead>\n  <tbody>\n    <tr>\n      <th>0</th>\n      <td>2015-01</td>\n      <td>14.857500</td>\n    </tr>\n    <tr>\n      <th>1</th>\n      <td>2015-02</td>\n      <td>15.098000</td>\n    </tr>\n    <tr>\n      <th>2</th>\n      <td>2015-03</td>\n      <td>14.854000</td>\n    </tr>\n    <tr>\n      <th>3</th>\n      <td>2015-04</td>\n      <td>15.162500</td>\n    </tr>\n    <tr>\n      <th>4</th>\n      <td>2015-05</td>\n      <td>15.296667</td>\n    </tr>\n    <tr>\n      <th>...</th>\n      <td>...</td>\n      <td>...</td>\n    </tr>\n    <tr>\n      <th>91</th>\n      <td>2022-08</td>\n      <td>218.900000</td>\n    </tr>\n    <tr>\n      <th>92</th>\n      <td>2022-09</td>\n      <td>207.750000</td>\n    </tr>\n    <tr>\n      <th>93</th>\n      <td>2022-10</td>\n      <td>207.300000</td>\n    </tr>\n    <tr>\n      <th>94</th>\n      <td>2022-11</td>\n      <td>215.750000</td>\n    </tr>\n    <tr>\n      <th>95</th>\n      <td>2022-12</td>\n      <td>219.750000</td>\n    </tr>\n  </tbody>\n</table>\n<p>96 rows × 2 columns</p>\n</div>"
     },
     "execution_count": 256,
     "metadata": {},
     "output_type": "execute_result"
    }
   ],
   "source": [
    "# 17\n",
    "df_dolar['Fecha'] = pd.to_datetime(df_dolar['Fecha'])\n",
    "df_dolar['Venta'] = pd.to_numeric(df_dolar['Venta'])\n",
    "df_dolar['año_mes'] = df_dolar['Fecha'].dt.strftime('%Y-%m')\n",
    "gr_mean_valor = df_dolar.groupby('año_mes').agg(valor_promedio = ('Venta', 'mean')).reset_index()\n",
    "gr_mean_valor"
   ]
  },
  {
   "cell_type": "code",
   "execution_count": 257,
   "id": "31c6c4ab",
   "metadata": {},
   "outputs": [
    {
     "data": {
      "text/plain": "Fecha      datetime64[ns]\nCompra            float64\nVenta             float64\naño_mes            object\ndtype: object"
     },
     "execution_count": 257,
     "metadata": {},
     "output_type": "execute_result"
    }
   ],
   "source": [
    "# 18\n",
    "df_dolar.dtypes\n",
    "\n",
    "# Este punto lo hice al leer el archivo, poniendo \"decimals= ','\""
   ]
  },
  {
   "cell_type": "code",
   "execution_count": 258,
   "id": "de3d50cf",
   "metadata": {},
   "outputs": [
    {
     "data": {
      "text/plain": "   año_y_mes  monto_cobrado  cantidad_recibos  año_mes  valor_promedio\n0    2015-12        3339.00                 4  2015-01       14.857500\n1    2016-01       23217.27                24  2015-02       15.098000\n2    2016-02       87138.09                61  2015-03       14.854000\n3    2016-03      193843.65               158  2015-04       15.162500\n4    2016-04      208850.76               171  2015-05       15.296667\n..       ...            ...               ...      ...             ...\n74   2022-02      177288.65               189  2021-03      154.500000\n75   2022-03      245495.68               209  2021-04      155.386364\n76   2022-04      145510.59               148  2021-05      160.760870\n77   2022-05       87518.58               106  2021-06      168.050000\n78   2022-06       81386.59                88  2021-07      177.000000\n\n[79 rows x 5 columns]",
      "text/html": "<div>\n<style scoped>\n    .dataframe tbody tr th:only-of-type {\n        vertical-align: middle;\n    }\n\n    .dataframe tbody tr th {\n        vertical-align: top;\n    }\n\n    .dataframe thead th {\n        text-align: right;\n    }\n</style>\n<table border=\"1\" class=\"dataframe\">\n  <thead>\n    <tr style=\"text-align: right;\">\n      <th></th>\n      <th>año_y_mes</th>\n      <th>monto_cobrado</th>\n      <th>cantidad_recibos</th>\n      <th>año_mes</th>\n      <th>valor_promedio</th>\n    </tr>\n  </thead>\n  <tbody>\n    <tr>\n      <th>0</th>\n      <td>2015-12</td>\n      <td>3339.00</td>\n      <td>4</td>\n      <td>2015-01</td>\n      <td>14.857500</td>\n    </tr>\n    <tr>\n      <th>1</th>\n      <td>2016-01</td>\n      <td>23217.27</td>\n      <td>24</td>\n      <td>2015-02</td>\n      <td>15.098000</td>\n    </tr>\n    <tr>\n      <th>2</th>\n      <td>2016-02</td>\n      <td>87138.09</td>\n      <td>61</td>\n      <td>2015-03</td>\n      <td>14.854000</td>\n    </tr>\n    <tr>\n      <th>3</th>\n      <td>2016-03</td>\n      <td>193843.65</td>\n      <td>158</td>\n      <td>2015-04</td>\n      <td>15.162500</td>\n    </tr>\n    <tr>\n      <th>4</th>\n      <td>2016-04</td>\n      <td>208850.76</td>\n      <td>171</td>\n      <td>2015-05</td>\n      <td>15.296667</td>\n    </tr>\n    <tr>\n      <th>...</th>\n      <td>...</td>\n      <td>...</td>\n      <td>...</td>\n      <td>...</td>\n      <td>...</td>\n    </tr>\n    <tr>\n      <th>74</th>\n      <td>2022-02</td>\n      <td>177288.65</td>\n      <td>189</td>\n      <td>2021-03</td>\n      <td>154.500000</td>\n    </tr>\n    <tr>\n      <th>75</th>\n      <td>2022-03</td>\n      <td>245495.68</td>\n      <td>209</td>\n      <td>2021-04</td>\n      <td>155.386364</td>\n    </tr>\n    <tr>\n      <th>76</th>\n      <td>2022-04</td>\n      <td>145510.59</td>\n      <td>148</td>\n      <td>2021-05</td>\n      <td>160.760870</td>\n    </tr>\n    <tr>\n      <th>77</th>\n      <td>2022-05</td>\n      <td>87518.58</td>\n      <td>106</td>\n      <td>2021-06</td>\n      <td>168.050000</td>\n    </tr>\n    <tr>\n      <th>78</th>\n      <td>2022-06</td>\n      <td>81386.59</td>\n      <td>88</td>\n      <td>2021-07</td>\n      <td>177.000000</td>\n    </tr>\n  </tbody>\n</table>\n<p>79 rows × 5 columns</p>\n</div>"
     },
     "execution_count": 258,
     "metadata": {},
     "output_type": "execute_result"
    }
   ],
   "source": [
    "# 19\n",
    "merge_final = pd.merge(df_gr_añoymes, gr_mean_valor,how=\"left\",\n",
    "left_index=True,right_index=True)\n",
    "merge_final"
   ]
  },
  {
   "cell_type": "code",
   "execution_count": 259,
   "id": "51d27454",
   "metadata": {},
   "outputs": [
    {
     "data": {
      "text/plain": "<Figure size 1440x504 with 1 Axes>",
      "image/png": "[encoded data removed]"
     },
     "metadata": {
      "needs_background": "light"
     },
     "output_type": "display_data"
    }
   ],
   "source": [
    "#25 \n",
    "plt.figure(figsize = (20,7))\n",
    "plt.plot(merge_final['año_y_mes'], merge_final['valor_promedio'])\n",
    "plt.show()"
   ]
  },
  {
   "cell_type": "code",
   "execution_count": 260,
   "id": "e3419a67",
   "metadata": {},
   "outputs": [
    {
     "data": {
      "text/plain": "<Figure size 1440x504 with 1 Axes>",
      "image/png": "[encoded data removed]"
     },
     "metadata": {
      "needs_background": "light"
     },
     "output_type": "display_data"
    }
   ],
   "source": [
    "#26\n",
    "gr_clientes = df_recibos.groupby('año_y_mes').agg(q_clientes = ('id_cliente', 'nunique')).reset_index()\n",
    "gr_clientes\n",
    "\n",
    "plt.figure(figsize = (20,7))\n",
    "plt.plot(gr_clientes['año_y_mes'], gr_clientes['q_clientes'])\n",
    "#plt.xticks([2015,2016,2017,2018,2019,2020,2021,2022])\n",
    "plt.ylabel('q_clientes')\n",
    "plt.show()"
   ]
  },
  {
   "cell_type": "code",
   "execution_count": 261,
   "id": "3c746618",
   "metadata": {},
   "outputs": [
    {
     "data": {
      "text/plain": "<Figure size 432x288 with 2 Axes>",
      "image/png": "[encoded data removed]"
     },
     "metadata": {
      "needs_background": "light"
     },
     "output_type": "display_data"
    }
   ],
   "source": [
    "fig, (ax1, ax2) = plt.subplots(1, 2)\n",
    "ax1.plot(gr_clientes['año_y_mes'], gr_clientes['q_clientes'])\n",
    "ax1.set_title('cantidad de clientes unicos por mes')\n",
    "ax2.plot(merge_final['año_y_mes'], merge_final['monto_cobrado'], color = 'red')\n",
    "ax2.set_title('monto cobrado por mes')\n",
    "plt.show()"
   ]
  }
 ],
 "metadata": {
  "kernelspec": {
   "display_name": "Python 3 (ipykernel)",
   "language": "python",
   "name": "python3"
  },
  "language_info": {
   "codemirror_mode": {
    "name": "ipython",
    "version": 3
   },
   "file_extension": ".py",
   "mimetype": "text/x-python",
   "name": "python",
   "nbconvert_exporter": "python",
   "pygments_lexer": "ipython3",
   "version": "3.9.7"
  }
 },
 "nbformat": 4,
 "nbformat_minor": 5
}